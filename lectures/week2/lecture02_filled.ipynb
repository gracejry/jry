{
  "cells": [
    {
      "cell_type": "markdown",
      "metadata": {
        "id": "KYuzeg_Tm53t"
      },
      "source": [
        "\n",
        "![image.png](attachment:image.png)"
      ]
    },
    {
      "cell_type": "code",
      "source": [
        "install.packages('nycflights13')"
      ],
      "metadata": {
        "colab": {
          "base_uri": "https://localhost:8080/"
        },
        "id": "Zcn2z80Fp53-",
        "outputId": "7bc77851-c553-494c-c8c6-51642f704aa1"
      },
      "execution_count": 53,
      "outputs": [
        {
          "output_type": "stream",
          "name": "stderr",
          "text": [
            "Installing package into ‘/usr/local/lib/R/site-library’\n",
            "(as ‘lib’ is unspecified)\n",
            "\n"
          ]
        }
      ]
    },
    {
      "cell_type": "markdown",
      "metadata": {
        "id": "Kf8MrDqDm53y"
      },
      "source": [
        "# Lecture 2: More on data transformations\n",
        "\n",
        "<div style=\"border: 1px double black; padding: 10px; margin: 10px\">\n",
        "\n",
        "**Goals for today's lecture:**\n",
        "* Continue to learn how to manipulate data, including:\n",
        "    * Vectors in R: what they are and basic operations\n",
        "    * Adding new variables\n",
        "    * Grouping and summarizing data\n",
        "    \n",
        "This lecture note corresponds to sections 4.3-4.6 of your book.\n",
        "</div>"
      ]
    },
    {
      "cell_type": "code",
      "execution_count": 54,
      "metadata": {
        "id": "Nhm6OIpQm530"
      },
      "outputs": [],
      "source": [
        "library(tidyverse)  # always!\n",
        "library(nycflights13)  # install if needed"
      ]
    },
    {
      "cell_type": "markdown",
      "metadata": {
        "id": "kGl3nTp6m539"
      },
      "source": [
        "## Review of last lecture\n",
        "Last lecture we learned how to alter the rows and columns of a dataframe:\n",
        "- `filter()` to keep certain rows that satisfy logical conditions.\n",
        "- `arrange()` to sort rows according to certain column values.\n",
        "- `distinct()` to keep only rows that are distinct on some combination of columns.\n",
        "- `select()` to drop/rename/rearrange columns"
      ]
    },
    {
      "cell_type": "markdown",
      "metadata": {
        "id": "ngqhVPbPm53-"
      },
      "source": [
        "## What's a data frame?\n",
        "\n",
        "Our main goal in R is to work with data, and one of the most fundamental objects in R is the *data frame*. Think of a data frame as a container for a bunch of *vectors* of data:\n",
        "\n",
        "![dataframe](https://garrettgman.github.io/images/tidy-2.png)"
      ]
    },
    {
      "cell_type": "markdown",
      "metadata": {
        "id": "_eO0Z7ROm53_"
      },
      "source": [
        "## What's a vector?\n",
        "\n",
        "- In programming speak: a *vector* is a list of values. \n",
        "- In statistical speak: a vector of observations (aka data).\n",
        "\n",
        "Let's create a vector and work with it:"
      ]
    },
    {
      "cell_type": "markdown",
      "metadata": {
        "id": "EXL5iTZYm54A"
      },
      "source": [
        "## Poll\n",
        "How old are you?\n",
        "<ol style=\"list-style-type: upper-alpha;\">\n",
        "    <li>19 or younger</li>\n",
        "    <li>20</li>\n",
        "    <li>21</li>\n",
        "    <li>22 or older</li>\n",
        "    <li>I forget</li>\n",
        "</ol>\n",
        "(This question will be graded.)<br />\n",
        "(↑ This is a joke.)"
      ]
    },
    {
      "cell_type": "markdown",
      "metadata": {
        "id": "Pzb1sWY8m54A"
      },
      "source": [
        "The function for creating a vector in R is called simply, `c()`."
      ]
    },
    {
      "cell_type": "code",
      "execution_count": 56,
      "metadata": {
        "id": "PYRtQ1d_m54B",
        "colab": {
          "base_uri": "https://localhost:8080/",
          "height": 34
        },
        "outputId": "3ebfa742-9471-4a9d-c4a6-d432713386d8"
      },
      "outputs": [
        {
          "output_type": "display_data",
          "data": {
            "text/html": [
              "<style>\n",
              ".list-inline {list-style: none; margin:0; padding: 0}\n",
              ".list-inline>li {display: inline-block}\n",
              ".list-inline>li:not(:last-child)::after {content: \"\\00b7\"; padding: 0 .5ex}\n",
              "</style>\n",
              "<ol class=list-inline><li>20</li><li>21</li><li>22</li><li>22</li><li>24</li><li>25</li><li>21</li><li>20</li><li>19</li><li>18</li></ol>\n"
            ],
            "text/markdown": "1. 20\n2. 21\n3. 22\n4. 22\n5. 24\n6. 25\n7. 21\n8. 20\n9. 19\n10. 18\n\n\n",
            "text/latex": "\\begin{enumerate*}\n\\item 20\n\\item 21\n\\item 22\n\\item 22\n\\item 24\n\\item 25\n\\item 21\n\\item 20\n\\item 19\n\\item 18\n\\end{enumerate*}\n",
            "text/plain": [
              " [1] 20 21 22 22 24 25 21 20 19 18"
            ]
          },
          "metadata": {}
        }
      ],
      "source": [
        "# Create a vector of ages\n",
        "ages = c(20, 21, 22, 22, 24, 25, 21, 20, 19, 18)\n",
        "ages "
      ]
    },
    {
      "cell_type": "markdown",
      "metadata": {
        "id": "3Re0eRL3m54B"
      },
      "source": [
        "## Functions that operate on vectors\n",
        "\n",
        "Many summary functions are available:\n",
        "\n",
        "* Center: `mean(), median()`\n",
        "* Spread: `sd(), IQR(), mad()`\n",
        "* Range: `min(), max(), quantile()`\n",
        "* Position: `first(), last(), nth()`\n",
        "* Count: `n(), n_distinct()`\n",
        "* Logical: `any(), all()`"
      ]
    },
    {
      "cell_type": "code",
      "source": [
        "log1 = c(T, T, T)\n",
        "all(log1)"
      ],
      "metadata": {
        "colab": {
          "base_uri": "https://localhost:8080/",
          "height": 34
        },
        "id": "D5GzpaYsqmWl",
        "outputId": "a24f9aba-9a0a-4446-c248-3c1a38a9719f"
      },
      "execution_count": 57,
      "outputs": [
        {
          "output_type": "display_data",
          "data": {
            "text/html": [
              "TRUE"
            ],
            "text/markdown": "TRUE",
            "text/latex": "TRUE",
            "text/plain": [
              "[1] TRUE"
            ]
          },
          "metadata": {}
        }
      ]
    },
    {
      "cell_type": "code",
      "source": [
        "# examples of functions we can use on the ages vector\n",
        "print(sd(ages))\n",
        "print(mean(ages))"
      ],
      "metadata": {
        "colab": {
          "base_uri": "https://localhost:8080/"
        },
        "id": "5O8EE4xgqbtg",
        "outputId": "d152974d-efc1-4fd5-e8c9-039e54bda5f2"
      },
      "execution_count": 61,
      "outputs": [
        {
          "output_type": "stream",
          "name": "stdout",
          "text": [
            "[1] 2.149935\n",
            "[1] 21.2\n"
          ]
        }
      ]
    },
    {
      "cell_type": "markdown",
      "metadata": {
        "id": "HGqE6Eugm54C"
      },
      "source": [
        "## Column operation #2: `mutate()`\n",
        "\n",
        "`mutate()` creates new columns in a dataframe that are calculated from the existing columns.\n",
        "\n",
        "For example, let's define the **gain** of a flight to be the different between the departure delay and the arrival delay:\n",
        "\n",
        "$$\\text{gain} = \\text{dep. delay} - \\text{arr. delay}$$\n",
        "\n",
        "So, the gain is positive if the flight made up time in the air, resulting in a less-delayed arrival."
      ]
    },
    {
      "cell_type": "markdown",
      "metadata": {
        "id": "p4EFP0znm54C"
      },
      "source": [
        "To add a column called `gain` to flights, we called `mutate()` as follows:"
      ]
    },
    {
      "cell_type": "code",
      "execution_count": 60,
      "metadata": {
        "id": "pSSVobPUm54D",
        "colab": {
          "base_uri": "https://localhost:8080/",
          "height": 1000
        },
        "outputId": "58eb5f77-d1bd-4edc-e9a1-1540609e1862"
      },
      "outputs": [
        {
          "output_type": "error",
          "ename": "ERROR",
          "evalue": "ignored",
          "traceback": [
            "\u001b[1m\u001b[33mError\u001b[39m in `select()`:\u001b[22m\n\u001b[33m!\u001b[39m Can't subset columns that don't exist.\n\u001b[31m✖\u001b[39m Column `gain` doesn't exist.\nTraceback:\n",
            "1. select(flights, gain)",
            "2. select.data.frame(flights, gain)",
            "3. tidyselect_fix_call(tidyselect::eval_select(expr(c(...)), .data), \n .     call = error_call)",
            "4. withCallingHandlers(expr, error = function(cnd) {\n .     cnd$call <- call\n .     cnd$parent <- NULL\n .     cnd_signal(cnd)\n . })",
            "5. tidyselect::eval_select(expr(c(...)), .data)",
            "6. eval_select_impl(data, names(data), as_quosure(expr, env), include = include, \n .     exclude = exclude, strict = strict, name_spec = name_spec, \n .     allow_rename = allow_rename, allow_empty = allow_empty, allow_predicates = allow_predicates, \n .     error_call = error_call, )",
            "7. with_subscript_errors(out <- vars_select_eval(vars, expr, strict = strict, \n .     data = x, name_spec = name_spec, uniquely_named = uniquely_named, \n .     allow_rename = allow_rename, allow_empty = allow_empty, allow_predicates = allow_predicates, \n .     type = type, error_call = error_call), type = type)",
            "8. try_fetch(expr, vctrs_error_subscript = function(cnd) {\n .     cnd$subscript_action <- subscript_action(type)\n .     cnd$subscript_elt <- \"column\"\n .     cnd_signal(cnd)\n . })",
            "9. withCallingHandlers(expr, vctrs_error_subscript = function(cnd) {\n .     {\n .         .__handler_frame__. <- TRUE\n .         .__setup_frame__. <- frame\n .     }\n .     out <- handlers[[1L]](cnd)\n .     if (!inherits(out, \"rlang_zap\")) \n .         throw(out)\n . })",
            "10. vars_select_eval(vars, expr, strict = strict, data = x, name_spec = name_spec, \n  .     uniquely_named = uniquely_named, allow_rename = allow_rename, \n  .     allow_empty = allow_empty, allow_predicates = allow_predicates, \n  .     type = type, error_call = error_call)",
            "11. walk_data_tree(expr, data_mask, context_mask)",
            "12. eval_c(expr, data_mask, context_mask)",
            "13. reduce_sels(node, data_mask, context_mask, init = init)",
            "14. walk_data_tree(new, data_mask, context_mask)",
            "15. as_indices_sel_impl(out, vars = vars, strict = strict, data = data, \n  .     allow_predicates = allow_predicates, call = error_call, arg = as_label(expr))",
            "16. as_indices_impl(x, vars, call = call, arg = arg, strict = strict)",
            "17. chr_as_locations(x, vars, call = call, arg = arg)",
            "18. vctrs::vec_as_location(x, n = length(vars), names = vars, call = call, \n  .     arg = arg)",
            "19. (function () \n  . stop_subscript_oob(i = i, subscript_type = subscript_type, names = names, \n  .     subscript_action = subscript_action, subscript_arg = subscript_arg, \n  .     call = call))()",
            "20. stop_subscript_oob(i = i, subscript_type = subscript_type, names = names, \n  .     subscript_action = subscript_action, subscript_arg = subscript_arg, \n  .     call = call)",
            "21. stop_subscript(class = \"vctrs_error_subscript_oob\", i = i, subscript_type = subscript_type, \n  .     ..., call = call)",
            "22. abort(class = c(class, \"vctrs_error_subscript\"), i = i, ..., \n  .     call = vctrs_error_call(call))",
            "23. signal_abort(cnd, .file)",
            "24. signalCondition(cnd)",
            "25. (function (cnd) \n  . {\n  .     {\n  .         .__handler_frame__. <- TRUE\n  .         .__setup_frame__. <- frame\n  .     }\n  .     out <- handlers[[1L]](cnd)\n  .     if (!inherits(out, \"rlang_zap\")) \n  .         throw(out)\n  . })(structure(list(message = \"\", trace = structure(list(call = list(\n  .     IRkernel::main(), kernel$run(), handle_shell(), executor$execute(msg), \n  .     tryCatch(evaluate(request$content$code, envir = .GlobalEnv, \n  .         output_handler = oh, stop_on_error = 1L), interrupt = function(cond) {\n  .         log_debug(\"Interrupt during execution\")\n  .         interrupted <<- TRUE\n  .     }, error = .self$handle_error), tryCatchList(expr, classes, \n  .         parentenv, handlers), tryCatchOne(tryCatchList(expr, \n  .         names[-nh], parentenv, handlers[-nh]), names[nh], parentenv, \n  .         handlers[[nh]]), doTryCatch(return(expr), name, parentenv, \n  .         handler), tryCatchList(expr, names[-nh], parentenv, handlers[-nh]), \n  .     tryCatchOne(expr, names, parentenv, handlers[[1L]]), doTryCatch(return(expr), \n  .         name, parentenv, handler), evaluate(request$content$code, \n  .         envir = .GlobalEnv, output_handler = oh, stop_on_error = 1L), \n  .     evaluate_call(expr, parsed$src[[i]], envir = envir, enclos = enclos, \n  .         debug = debug, last = i == length(out), use_try = stop_on_error != \n  .             2L, keep_warning = keep_warning, keep_message = keep_message, \n  .         output_handler = output_handler, include_timing = include_timing), \n  .     timing_fn(handle(ev <- withCallingHandlers(withVisible(eval_with_user_handlers(expr, \n  .         envir, enclos, user_handlers)), warning = wHandler, error = eHandler, \n  .         message = mHandler))), handle(ev <- withCallingHandlers(withVisible(eval_with_user_handlers(expr, \n  .         envir, enclos, user_handlers)), warning = wHandler, error = eHandler, \n  .         message = mHandler)), try(f, silent = TRUE), tryCatch(expr, \n  .         error = function(e) {\n  .             call <- conditionCall(e)\n  .             if (!is.null(call)) {\n  .                 if (identical(call[[1L]], quote(doTryCatch))) \n  .                   call <- sys.call(-4L)\n  .                 dcall <- deparse(call, nlines = 1L)\n  .                 prefix <- paste(\"Error in\", dcall, \": \")\n  .                 LONG <- 75L\n  .                 sm <- strsplit(conditionMessage(e), \"\\n\")[[1L]]\n  .                 w <- 14L + nchar(dcall, type = \"w\") + nchar(sm[1L], \n  .                   type = \"w\")\n  .                 if (is.na(w)) \n  .                   w <- 14L + nchar(dcall, type = \"b\") + nchar(sm[1L], \n  .                     type = \"b\")\n  .                 if (w > LONG) \n  .                   prefix <- paste0(prefix, \"\\n  \")\n  .             }\n  .             else prefix <- \"Error : \"\n  .             msg <- paste0(prefix, conditionMessage(e), \"\\n\")\n  .             .Internal(seterrmessage(msg[1L]))\n  .             if (!silent && isTRUE(getOption(\"show.error.messages\"))) {\n  .                 cat(msg, file = outFile)\n  .                 .Internal(printDeferredWarnings())\n  .             }\n  .             invisible(structure(msg, class = \"try-error\", condition = e))\n  .         }), tryCatchList(expr, classes, parentenv, handlers), \n  .     tryCatchOne(expr, names, parentenv, handlers[[1L]]), doTryCatch(return(expr), \n  .         name, parentenv, handler), withCallingHandlers(withVisible(eval_with_user_handlers(expr, \n  .         envir, enclos, user_handlers)), warning = wHandler, error = eHandler, \n  .         message = mHandler), withVisible(eval_with_user_handlers(expr, \n  .         envir, enclos, user_handlers)), eval_with_user_handlers(expr, \n  .         envir, enclos, user_handlers), eval(expr, envir, enclos), \n  .     eval(expr, envir, enclos), select(flights, gain), select.data.frame(flights, \n  .         gain), tidyselect_fix_call(tidyselect::eval_select(expr(c(...)), \n  .         .data), call = error_call), withCallingHandlers(expr, \n  .         error = function(cnd) {\n  .             cnd$call <- call\n  .             cnd$parent <- NULL\n  .             cnd_signal(cnd)\n  .         }), tidyselect::eval_select(expr(c(...)), .data), eval_select_impl(data, \n  .         names(data), as_quosure(expr, env), include = include, \n  .         exclude = exclude, strict = strict, name_spec = name_spec, \n  .         allow_rename = allow_rename, allow_empty = allow_empty, \n  .         allow_predicates = allow_predicates, error_call = error_call, \n  .         ), with_subscript_errors(out <- vars_select_eval(vars, \n  .         expr, strict = strict, data = x, name_spec = name_spec, \n  .         uniquely_named = uniquely_named, allow_rename = allow_rename, \n  .         allow_empty = allow_empty, allow_predicates = allow_predicates, \n  .         type = type, error_call = error_call), type = type), \n  .     try_fetch(expr, vctrs_error_subscript = function(cnd) {\n  .         cnd$subscript_action <- subscript_action(type)\n  .         cnd$subscript_elt <- \"column\"\n  .         cnd_signal(cnd)\n  .     }), withCallingHandlers(expr, vctrs_error_subscript = function(cnd) {\n  .         {\n  .             .__handler_frame__. <- TRUE\n  .             .__setup_frame__. <- frame\n  .         }\n  .         out <- handlers[[1L]](cnd)\n  .         if (!inherits(out, \"rlang_zap\")) \n  .             throw(out)\n  .     }), vars_select_eval(vars, expr, strict = strict, data = x, \n  .         name_spec = name_spec, uniquely_named = uniquely_named, \n  .         allow_rename = allow_rename, allow_empty = allow_empty, \n  .         allow_predicates = allow_predicates, type = type, error_call = error_call), \n  .     walk_data_tree(expr, data_mask, context_mask), eval_c(expr, \n  .         data_mask, context_mask), reduce_sels(node, data_mask, \n  .         context_mask, init = init), walk_data_tree(new, data_mask, \n  .         context_mask), as_indices_sel_impl(out, vars = vars, \n  .         strict = strict, data = data, allow_predicates = allow_predicates, \n  .         call = error_call, arg = as_label(expr)), as_indices_impl(x, \n  .         vars, call = call, arg = arg, strict = strict), chr_as_locations(x, \n  .         vars, call = call, arg = arg), vctrs::vec_as_location(x, \n  .         n = length(vars), names = vars, call = call, arg = arg), \n  .     `<fn>`(), stop_subscript_oob(i = i, subscript_type = subscript_type, \n  .         names = names, subscript_action = subscript_action, subscript_arg = subscript_arg, \n  .         call = call), stop_subscript(class = \"vctrs_error_subscript_oob\", \n  .         i = i, subscript_type = subscript_type, ..., call = call), \n  .     abort(class = c(class, \"vctrs_error_subscript\"), i = i, ..., \n  .         call = vctrs_error_call(call))), parent = c(0L, 1L, 2L, \n  . 3L, 4L, 5L, 6L, 7L, 6L, 9L, 10L, 4L, 12L, 13L, 13L, 15L, 16L, \n  . 17L, 18L, 19L, 13L, 13L, 13L, 23L, 24L, 0L, 0L, 27L, 28L, 27L, \n  . 30L, 31L, 32L, 33L, 31L, 35L, 36L, 37L, 38L, 39L, 40L, 41L, 42L, \n  . 0L, 44L, 45L, 46L), visible = c(TRUE, TRUE, TRUE, TRUE, TRUE, \n  . TRUE, TRUE, TRUE, TRUE, TRUE, TRUE, TRUE, TRUE, TRUE, TRUE, TRUE, \n  . TRUE, TRUE, TRUE, TRUE, TRUE, TRUE, TRUE, TRUE, TRUE, TRUE, TRUE, \n  . FALSE, FALSE, FALSE, FALSE, FALSE, FALSE, FALSE, FALSE, FALSE, \n  . FALSE, FALSE, FALSE, FALSE, FALSE, FALSE, FALSE, FALSE, FALSE, \n  . FALSE, FALSE), namespace = c(\"IRkernel\", NA, \"IRkernel\", NA, \n  . \"base\", \"base\", \"base\", \"base\", \"base\", \"base\", \"base\", \"evaluate\", \n  . \"evaluate\", \"evaluate\", \"evaluate\", \"base\", \"base\", \"base\", \"base\", \n  . \"base\", \"base\", \"base\", \"evaluate\", \"base\", \"base\", \"dplyr\", \n  . \"dplyr\", \"dplyr\", \"base\", \"tidyselect\", \"tidyselect\", \"tidyselect\", \n  . \"rlang\", \"base\", \"tidyselect\", \"tidyselect\", \"tidyselect\", \"tidyselect\", \n  . \"tidyselect\", \"tidyselect\", \"tidyselect\", \"tidyselect\", \"vctrs\", \n  . \"vctrs\", \"vctrs\", \"vctrs\", \"rlang\"), scope = c(\"::\", NA, \"local\", \n  . NA, \"::\", \"local\", \"local\", \"local\", \"local\", \"local\", \"local\", \n  . \"::\", \":::\", \"local\", \"local\", \"::\", \"::\", \"local\", \"local\", \n  . \"local\", \"::\", \"::\", \":::\", \"::\", \"::\", \"::\", \":::\", \":::\", \"::\", \n  . \"::\", \":::\", \":::\", \"::\", \"::\", \":::\", \":::\", \":::\", \":::\", \":::\", \n  . \":::\", \":::\", \":::\", \"::\", \"local\", \":::\", \":::\", \"::\"), error_frame = c(FALSE, \n  . FALSE, FALSE, FALSE, FALSE, FALSE, FALSE, FALSE, FALSE, FALSE, \n  . FALSE, FALSE, FALSE, FALSE, FALSE, FALSE, FALSE, FALSE, FALSE, \n  . FALSE, FALSE, FALSE, FALSE, FALSE, FALSE, FALSE, TRUE, FALSE, \n  . FALSE, FALSE, FALSE, FALSE, FALSE, FALSE, FALSE, FALSE, FALSE, \n  . FALSE, FALSE, FALSE, FALSE, FALSE, FALSE, FALSE, FALSE, FALSE, \n  . FALSE)), row.names = c(NA, -47L), version = 2L, class = c(\"rlang_trace\", \n  . \"rlib_trace\", \"tbl\", \"data.frame\")), parent = NULL, i = \"gain\", \n  .     subscript_type = \"character\", names = c(\"year\", \"month\", \n  .     \"day\", \"dep_time\", \"sched_dep_time\", \"dep_delay\", \"arr_time\", \n  .     \"sched_arr_time\", \"arr_delay\", \"carrier\", \"flight\", \"tailnum\", \n  .     \"origin\", \"dest\", \"air_time\", \"distance\", \"hour\", \"minute\", \n  .     \"time_hour\"), subscript_action = NULL, subscript_arg = \"gain\", \n  .     call = select(flights, gain)), class = c(\"vctrs_error_subscript_oob\", \n  . \"vctrs_error_subscript\", \"rlang_error\", \"error\", \"condition\")))",
            "26. handlers[[1L]](cnd)",
            "27. cnd_signal(cnd)",
            "28. signal_abort(cnd)",
            "29. signalCondition(cnd)",
            "30. (function (cnd) \n  . {\n  .     cnd$call <- call\n  .     cnd$parent <- NULL\n  .     cnd_signal(cnd)\n  . })(structure(list(message = \"\", trace = structure(list(call = list(\n  .     IRkernel::main(), kernel$run(), handle_shell(), executor$execute(msg), \n  .     tryCatch(evaluate(request$content$code, envir = .GlobalEnv, \n  .         output_handler = oh, stop_on_error = 1L), interrupt = function(cond) {\n  .         log_debug(\"Interrupt during execution\")\n  .         interrupted <<- TRUE\n  .     }, error = .self$handle_error), tryCatchList(expr, classes, \n  .         parentenv, handlers), tryCatchOne(tryCatchList(expr, \n  .         names[-nh], parentenv, handlers[-nh]), names[nh], parentenv, \n  .         handlers[[nh]]), doTryCatch(return(expr), name, parentenv, \n  .         handler), tryCatchList(expr, names[-nh], parentenv, handlers[-nh]), \n  .     tryCatchOne(expr, names, parentenv, handlers[[1L]]), doTryCatch(return(expr), \n  .         name, parentenv, handler), evaluate(request$content$code, \n  .         envir = .GlobalEnv, output_handler = oh, stop_on_error = 1L), \n  .     evaluate_call(expr, parsed$src[[i]], envir = envir, enclos = enclos, \n  .         debug = debug, last = i == length(out), use_try = stop_on_error != \n  .             2L, keep_warning = keep_warning, keep_message = keep_message, \n  .         output_handler = output_handler, include_timing = include_timing), \n  .     timing_fn(handle(ev <- withCallingHandlers(withVisible(eval_with_user_handlers(expr, \n  .         envir, enclos, user_handlers)), warning = wHandler, error = eHandler, \n  .         message = mHandler))), handle(ev <- withCallingHandlers(withVisible(eval_with_user_handlers(expr, \n  .         envir, enclos, user_handlers)), warning = wHandler, error = eHandler, \n  .         message = mHandler)), try(f, silent = TRUE), tryCatch(expr, \n  .         error = function(e) {\n  .             call <- conditionCall(e)\n  .             if (!is.null(call)) {\n  .                 if (identical(call[[1L]], quote(doTryCatch))) \n  .                   call <- sys.call(-4L)\n  .                 dcall <- deparse(call, nlines = 1L)\n  .                 prefix <- paste(\"Error in\", dcall, \": \")\n  .                 LONG <- 75L\n  .                 sm <- strsplit(conditionMessage(e), \"\\n\")[[1L]]\n  .                 w <- 14L + nchar(dcall, type = \"w\") + nchar(sm[1L], \n  .                   type = \"w\")\n  .                 if (is.na(w)) \n  .                   w <- 14L + nchar(dcall, type = \"b\") + nchar(sm[1L], \n  .                     type = \"b\")\n  .                 if (w > LONG) \n  .                   prefix <- paste0(prefix, \"\\n  \")\n  .             }\n  .             else prefix <- \"Error : \"\n  .             msg <- paste0(prefix, conditionMessage(e), \"\\n\")\n  .             .Internal(seterrmessage(msg[1L]))\n  .             if (!silent && isTRUE(getOption(\"show.error.messages\"))) {\n  .                 cat(msg, file = outFile)\n  .                 .Internal(printDeferredWarnings())\n  .             }\n  .             invisible(structure(msg, class = \"try-error\", condition = e))\n  .         }), tryCatchList(expr, classes, parentenv, handlers), \n  .     tryCatchOne(expr, names, parentenv, handlers[[1L]]), doTryCatch(return(expr), \n  .         name, parentenv, handler), withCallingHandlers(withVisible(eval_with_user_handlers(expr, \n  .         envir, enclos, user_handlers)), warning = wHandler, error = eHandler, \n  .         message = mHandler), withVisible(eval_with_user_handlers(expr, \n  .         envir, enclos, user_handlers)), eval_with_user_handlers(expr, \n  .         envir, enclos, user_handlers), eval(expr, envir, enclos), \n  .     eval(expr, envir, enclos), select(flights, gain), select.data.frame(flights, \n  .         gain), tidyselect_fix_call(tidyselect::eval_select(expr(c(...)), \n  .         .data), call = error_call), withCallingHandlers(expr, \n  .         error = function(cnd) {\n  .             cnd$call <- call\n  .             cnd$parent <- NULL\n  .             cnd_signal(cnd)\n  .         }), tidyselect::eval_select(expr(c(...)), .data), eval_select_impl(data, \n  .         names(data), as_quosure(expr, env), include = include, \n  .         exclude = exclude, strict = strict, name_spec = name_spec, \n  .         allow_rename = allow_rename, allow_empty = allow_empty, \n  .         allow_predicates = allow_predicates, error_call = error_call, \n  .         ), with_subscript_errors(out <- vars_select_eval(vars, \n  .         expr, strict = strict, data = x, name_spec = name_spec, \n  .         uniquely_named = uniquely_named, allow_rename = allow_rename, \n  .         allow_empty = allow_empty, allow_predicates = allow_predicates, \n  .         type = type, error_call = error_call), type = type), \n  .     try_fetch(expr, vctrs_error_subscript = function(cnd) {\n  .         cnd$subscript_action <- subscript_action(type)\n  .         cnd$subscript_elt <- \"column\"\n  .         cnd_signal(cnd)\n  .     }), withCallingHandlers(expr, vctrs_error_subscript = function(cnd) {\n  .         {\n  .             .__handler_frame__. <- TRUE\n  .             .__setup_frame__. <- frame\n  .         }\n  .         out <- handlers[[1L]](cnd)\n  .         if (!inherits(out, \"rlang_zap\")) \n  .             throw(out)\n  .     }), vars_select_eval(vars, expr, strict = strict, data = x, \n  .         name_spec = name_spec, uniquely_named = uniquely_named, \n  .         allow_rename = allow_rename, allow_empty = allow_empty, \n  .         allow_predicates = allow_predicates, type = type, error_call = error_call), \n  .     walk_data_tree(expr, data_mask, context_mask), eval_c(expr, \n  .         data_mask, context_mask), reduce_sels(node, data_mask, \n  .         context_mask, init = init), walk_data_tree(new, data_mask, \n  .         context_mask), as_indices_sel_impl(out, vars = vars, \n  .         strict = strict, data = data, allow_predicates = allow_predicates, \n  .         call = error_call, arg = as_label(expr)), as_indices_impl(x, \n  .         vars, call = call, arg = arg, strict = strict), chr_as_locations(x, \n  .         vars, call = call, arg = arg), vctrs::vec_as_location(x, \n  .         n = length(vars), names = vars, call = call, arg = arg), \n  .     `<fn>`(), stop_subscript_oob(i = i, subscript_type = subscript_type, \n  .         names = names, subscript_action = subscript_action, subscript_arg = subscript_arg, \n  .         call = call), stop_subscript(class = \"vctrs_error_subscript_oob\", \n  .         i = i, subscript_type = subscript_type, ..., call = call), \n  .     abort(class = c(class, \"vctrs_error_subscript\"), i = i, ..., \n  .         call = vctrs_error_call(call))), parent = c(0L, 1L, 2L, \n  . 3L, 4L, 5L, 6L, 7L, 6L, 9L, 10L, 4L, 12L, 13L, 13L, 15L, 16L, \n  . 17L, 18L, 19L, 13L, 13L, 13L, 23L, 24L, 0L, 0L, 27L, 28L, 27L, \n  . 30L, 31L, 32L, 33L, 31L, 35L, 36L, 37L, 38L, 39L, 40L, 41L, 42L, \n  . 0L, 44L, 45L, 46L), visible = c(TRUE, TRUE, TRUE, TRUE, TRUE, \n  . TRUE, TRUE, TRUE, TRUE, TRUE, TRUE, TRUE, TRUE, TRUE, TRUE, TRUE, \n  . TRUE, TRUE, TRUE, TRUE, TRUE, TRUE, TRUE, TRUE, TRUE, TRUE, TRUE, \n  . FALSE, FALSE, FALSE, FALSE, FALSE, FALSE, FALSE, FALSE, FALSE, \n  . FALSE, FALSE, FALSE, FALSE, FALSE, FALSE, FALSE, FALSE, FALSE, \n  . FALSE, FALSE), namespace = c(\"IRkernel\", NA, \"IRkernel\", NA, \n  . \"base\", \"base\", \"base\", \"base\", \"base\", \"base\", \"base\", \"evaluate\", \n  . \"evaluate\", \"evaluate\", \"evaluate\", \"base\", \"base\", \"base\", \"base\", \n  . \"base\", \"base\", \"base\", \"evaluate\", \"base\", \"base\", \"dplyr\", \n  . \"dplyr\", \"dplyr\", \"base\", \"tidyselect\", \"tidyselect\", \"tidyselect\", \n  . \"rlang\", \"base\", \"tidyselect\", \"tidyselect\", \"tidyselect\", \"tidyselect\", \n  . \"tidyselect\", \"tidyselect\", \"tidyselect\", \"tidyselect\", \"vctrs\", \n  . \"vctrs\", \"vctrs\", \"vctrs\", \"rlang\"), scope = c(\"::\", NA, \"local\", \n  . NA, \"::\", \"local\", \"local\", \"local\", \"local\", \"local\", \"local\", \n  . \"::\", \":::\", \"local\", \"local\", \"::\", \"::\", \"local\", \"local\", \n  . \"local\", \"::\", \"::\", \":::\", \"::\", \"::\", \"::\", \":::\", \":::\", \"::\", \n  . \"::\", \":::\", \":::\", \"::\", \"::\", \":::\", \":::\", \":::\", \":::\", \":::\", \n  . \":::\", \":::\", \":::\", \"::\", \"local\", \":::\", \":::\", \"::\"), error_frame = c(FALSE, \n  . FALSE, FALSE, FALSE, FALSE, FALSE, FALSE, FALSE, FALSE, FALSE, \n  . FALSE, FALSE, FALSE, FALSE, FALSE, FALSE, FALSE, FALSE, FALSE, \n  . FALSE, FALSE, FALSE, FALSE, FALSE, FALSE, FALSE, TRUE, FALSE, \n  . FALSE, FALSE, FALSE, FALSE, FALSE, FALSE, FALSE, FALSE, FALSE, \n  . FALSE, FALSE, FALSE, FALSE, FALSE, FALSE, FALSE, FALSE, FALSE, \n  . FALSE)), row.names = c(NA, -47L), version = 2L, class = c(\"rlang_trace\", \n  . \"rlib_trace\", \"tbl\", \"data.frame\")), parent = NULL, i = \"gain\", \n  .     subscript_type = \"character\", names = c(\"year\", \"month\", \n  .     \"day\", \"dep_time\", \"sched_dep_time\", \"dep_delay\", \"arr_time\", \n  .     \"sched_arr_time\", \"arr_delay\", \"carrier\", \"flight\", \"tailnum\", \n  .     \"origin\", \"dest\", \"air_time\", \"distance\", \"hour\", \"minute\", \n  .     \"time_hour\"), subscript_action = \"subset\", subscript_arg = \"gain\", \n  .     call = select(flights, gain), subscript_elt = \"column\"), class = c(\"vctrs_error_subscript_oob\", \n  . \"vctrs_error_subscript\", \"rlang_error\", \"error\", \"condition\")))",
            "31. cnd_signal(cnd)",
            "32. signal_abort(cnd)"
          ]
        }
      ],
      "source": [
        "# add a gain column to flights\n",
        "# check if gain column is not there\n",
        "select(flights, gain)"
      ]
    },
    {
      "cell_type": "code",
      "source": [
        "new_df = mutate(flights, gain = dep_delay - arr_delay)"
      ],
      "metadata": {
        "id": "KM5PMtzavun5"
      },
      "execution_count": 62,
      "outputs": []
    },
    {
      "cell_type": "code",
      "source": [
        "head(new_df, 1)"
      ],
      "metadata": {
        "colab": {
          "base_uri": "https://localhost:8080/",
          "height": 167
        },
        "id": "fNflZNCXv-m5",
        "outputId": "0da7cabb-2ad5-4583-9dc7-20046084f09b"
      },
      "execution_count": 63,
      "outputs": [
        {
          "output_type": "display_data",
          "data": {
            "text/html": [
              "<table class=\"dataframe\">\n",
              "<caption>A tibble: 1 × 20</caption>\n",
              "<thead>\n",
              "\t<tr><th scope=col>year</th><th scope=col>month</th><th scope=col>day</th><th scope=col>dep_time</th><th scope=col>sched_dep_time</th><th scope=col>dep_delay</th><th scope=col>arr_time</th><th scope=col>sched_arr_time</th><th scope=col>arr_delay</th><th scope=col>carrier</th><th scope=col>flight</th><th scope=col>tailnum</th><th scope=col>origin</th><th scope=col>dest</th><th scope=col>air_time</th><th scope=col>distance</th><th scope=col>hour</th><th scope=col>minute</th><th scope=col>time_hour</th><th scope=col>gain</th></tr>\n",
              "\t<tr><th scope=col>&lt;int&gt;</th><th scope=col>&lt;int&gt;</th><th scope=col>&lt;int&gt;</th><th scope=col>&lt;int&gt;</th><th scope=col>&lt;int&gt;</th><th scope=col>&lt;dbl&gt;</th><th scope=col>&lt;int&gt;</th><th scope=col>&lt;int&gt;</th><th scope=col>&lt;dbl&gt;</th><th scope=col>&lt;chr&gt;</th><th scope=col>&lt;int&gt;</th><th scope=col>&lt;chr&gt;</th><th scope=col>&lt;chr&gt;</th><th scope=col>&lt;chr&gt;</th><th scope=col>&lt;dbl&gt;</th><th scope=col>&lt;dbl&gt;</th><th scope=col>&lt;dbl&gt;</th><th scope=col>&lt;dbl&gt;</th><th scope=col>&lt;dttm&gt;</th><th scope=col>&lt;dbl&gt;</th></tr>\n",
              "</thead>\n",
              "<tbody>\n",
              "\t<tr><td>2013</td><td>1</td><td>1</td><td>517</td><td>515</td><td>2</td><td>830</td><td>819</td><td>11</td><td>UA</td><td>1545</td><td>N14228</td><td>EWR</td><td>IAH</td><td>227</td><td>1400</td><td>5</td><td>15</td><td>2013-01-01 05:00:00</td><td>-9</td></tr>\n",
              "</tbody>\n",
              "</table>\n"
            ],
            "text/markdown": "\nA tibble: 1 × 20\n\n| year &lt;int&gt; | month &lt;int&gt; | day &lt;int&gt; | dep_time &lt;int&gt; | sched_dep_time &lt;int&gt; | dep_delay &lt;dbl&gt; | arr_time &lt;int&gt; | sched_arr_time &lt;int&gt; | arr_delay &lt;dbl&gt; | carrier &lt;chr&gt; | flight &lt;int&gt; | tailnum &lt;chr&gt; | origin &lt;chr&gt; | dest &lt;chr&gt; | air_time &lt;dbl&gt; | distance &lt;dbl&gt; | hour &lt;dbl&gt; | minute &lt;dbl&gt; | time_hour &lt;dttm&gt; | gain &lt;dbl&gt; |\n|---|---|---|---|---|---|---|---|---|---|---|---|---|---|---|---|---|---|---|---|\n| 2013 | 1 | 1 | 517 | 515 | 2 | 830 | 819 | 11 | UA | 1545 | N14228 | EWR | IAH | 227 | 1400 | 5 | 15 | 2013-01-01 05:00:00 | -9 |\n\n",
            "text/latex": "A tibble: 1 × 20\n\\begin{tabular}{llllllllllllllllllll}\n year & month & day & dep\\_time & sched\\_dep\\_time & dep\\_delay & arr\\_time & sched\\_arr\\_time & arr\\_delay & carrier & flight & tailnum & origin & dest & air\\_time & distance & hour & minute & time\\_hour & gain\\\\\n <int> & <int> & <int> & <int> & <int> & <dbl> & <int> & <int> & <dbl> & <chr> & <int> & <chr> & <chr> & <chr> & <dbl> & <dbl> & <dbl> & <dbl> & <dttm> & <dbl>\\\\\n\\hline\n\t 2013 & 1 & 1 & 517 & 515 & 2 & 830 & 819 & 11 & UA & 1545 & N14228 & EWR & IAH & 227 & 1400 & 5 & 15 & 2013-01-01 05:00:00 & -9\\\\\n\\end{tabular}\n",
            "text/plain": [
              "  year month day dep_time sched_dep_time dep_delay arr_time sched_arr_time\n",
              "1 2013 1     1   517      515            2         830      819           \n",
              "  arr_delay carrier flight tailnum origin dest air_time distance hour minute\n",
              "1 11        UA      1545   N14228  EWR    IAH  227      1400     5    15    \n",
              "  time_hour           gain\n",
              "1 2013-01-01 05:00:00 -9  "
            ]
          },
          "metadata": {}
        }
      ]
    },
    {
      "cell_type": "markdown",
      "metadata": {
        "id": "Z0WY9xc1m54E"
      },
      "source": [
        "The returned data set has a new column called `gain` added to the very end. If you want to bring it to the front, you could use `select()` like we learned last lecture:"
      ]
    },
    {
      "cell_type": "code",
      "source": [
        "# use select to move gain, dep_delay, arr_delay to the set of columns\n",
        "\n",
        "print(select(new_df, gain, dep_delay, arr_delay, everything()))\n"
      ],
      "metadata": {
        "id": "_eemVgZNtml2",
        "colab": {
          "base_uri": "https://localhost:8080/"
        },
        "outputId": "8ecb325c-034c-4a88-8b57-d09a26c57489"
      },
      "execution_count": 64,
      "outputs": [
        {
          "output_type": "stream",
          "name": "stdout",
          "text": [
            "\u001b[90m# A tibble: 336,776 × 20\u001b[39m\n",
            "    gain dep_delay arr_delay  year month   day dep_time sched_…¹ arr_t…² sched…³\n",
            "   \u001b[3m\u001b[90m<dbl>\u001b[39m\u001b[23m     \u001b[3m\u001b[90m<dbl>\u001b[39m\u001b[23m     \u001b[3m\u001b[90m<dbl>\u001b[39m\u001b[23m \u001b[3m\u001b[90m<int>\u001b[39m\u001b[23m \u001b[3m\u001b[90m<int>\u001b[39m\u001b[23m \u001b[3m\u001b[90m<int>\u001b[39m\u001b[23m    \u001b[3m\u001b[90m<int>\u001b[39m\u001b[23m    \u001b[3m\u001b[90m<int>\u001b[39m\u001b[23m   \u001b[3m\u001b[90m<int>\u001b[39m\u001b[23m   \u001b[3m\u001b[90m<int>\u001b[39m\u001b[23m\n",
            "\u001b[90m 1\u001b[39m    -\u001b[31m9\u001b[39m         2        11  \u001b[4m2\u001b[24m013     1     1      517      515     830     819\n",
            "\u001b[90m 2\u001b[39m   -\u001b[31m16\u001b[39m         4        20  \u001b[4m2\u001b[24m013     1     1      533      529     850     830\n",
            "\u001b[90m 3\u001b[39m   -\u001b[31m31\u001b[39m         2        33  \u001b[4m2\u001b[24m013     1     1      542      540     923     850\n",
            "\u001b[90m 4\u001b[39m    17        -\u001b[31m1\u001b[39m       -\u001b[31m18\u001b[39m  \u001b[4m2\u001b[24m013     1     1      544      545    \u001b[4m1\u001b[24m004    \u001b[4m1\u001b[24m022\n",
            "\u001b[90m 5\u001b[39m    19        -\u001b[31m6\u001b[39m       -\u001b[31m25\u001b[39m  \u001b[4m2\u001b[24m013     1     1      554      600     812     837\n",
            "\u001b[90m 6\u001b[39m   -\u001b[31m16\u001b[39m        -\u001b[31m4\u001b[39m        12  \u001b[4m2\u001b[24m013     1     1      554      558     740     728\n",
            "\u001b[90m 7\u001b[39m   -\u001b[31m24\u001b[39m        -\u001b[31m5\u001b[39m        19  \u001b[4m2\u001b[24m013     1     1      555      600     913     854\n",
            "\u001b[90m 8\u001b[39m    11        -\u001b[31m3\u001b[39m       -\u001b[31m14\u001b[39m  \u001b[4m2\u001b[24m013     1     1      557      600     709     723\n",
            "\u001b[90m 9\u001b[39m     5        -\u001b[31m3\u001b[39m        -\u001b[31m8\u001b[39m  \u001b[4m2\u001b[24m013     1     1      557      600     838     846\n",
            "\u001b[90m10\u001b[39m   -\u001b[31m10\u001b[39m        -\u001b[31m2\u001b[39m         8  \u001b[4m2\u001b[24m013     1     1      558      600     753     745\n",
            "\u001b[90m# … with 336,766 more rows, 10 more variables: carrier <chr>, flight <int>,\u001b[39m\n",
            "\u001b[90m#   tailnum <chr>, origin <chr>, dest <chr>, air_time <dbl>, distance <dbl>,\u001b[39m\n",
            "\u001b[90m#   hour <dbl>, minute <dbl>, time_hour <dttm>, and abbreviated variable names\u001b[39m\n",
            "\u001b[90m#   ¹​sched_dep_time, ²​arr_time, ³​sched_arr_time\u001b[39m\n"
          ]
        }
      ]
    },
    {
      "cell_type": "markdown",
      "metadata": {
        "id": "FQ3lET3nm54F"
      },
      "source": [
        "## Quiz\n",
        "What was the most amount of time gained by any flight?\n",
        "<ol style=\"list-style-type: upper-alpha;\">\n",
        "    <li>2 hours</li>\n",
        "    <li>109 minutes</li>\n",
        "    <li>37 minutes</li>\n",
        "    <li>37 seconds</li>\n",
        "    <li>2 days</li>\n",
        "</ol>"
      ]
    },
    {
      "cell_type": "code",
      "execution_count": 66,
      "metadata": {
        "id": "IvK0Hbmwm54F",
        "colab": {
          "base_uri": "https://localhost:8080/",
          "height": 362
        },
        "outputId": "84dcdb03-b732-406d-ecf2-e593569e98a5"
      },
      "outputs": [
        {
          "output_type": "display_data",
          "data": {
            "text/html": [
              "<table class=\"dataframe\">\n",
              "<caption>A tibble: 5 × 20</caption>\n",
              "<thead>\n",
              "\t<tr><th scope=col>gain</th><th scope=col>dep_delay</th><th scope=col>arr_delay</th><th scope=col>year</th><th scope=col>month</th><th scope=col>day</th><th scope=col>dep_time</th><th scope=col>sched_dep_time</th><th scope=col>arr_time</th><th scope=col>sched_arr_time</th><th scope=col>carrier</th><th scope=col>flight</th><th scope=col>tailnum</th><th scope=col>origin</th><th scope=col>dest</th><th scope=col>air_time</th><th scope=col>distance</th><th scope=col>hour</th><th scope=col>minute</th><th scope=col>time_hour</th></tr>\n",
              "\t<tr><th scope=col>&lt;dbl&gt;</th><th scope=col>&lt;dbl&gt;</th><th scope=col>&lt;dbl&gt;</th><th scope=col>&lt;int&gt;</th><th scope=col>&lt;int&gt;</th><th scope=col>&lt;int&gt;</th><th scope=col>&lt;int&gt;</th><th scope=col>&lt;int&gt;</th><th scope=col>&lt;int&gt;</th><th scope=col>&lt;int&gt;</th><th scope=col>&lt;chr&gt;</th><th scope=col>&lt;int&gt;</th><th scope=col>&lt;chr&gt;</th><th scope=col>&lt;chr&gt;</th><th scope=col>&lt;chr&gt;</th><th scope=col>&lt;dbl&gt;</th><th scope=col>&lt;dbl&gt;</th><th scope=col>&lt;dbl&gt;</th><th scope=col>&lt;dbl&gt;</th><th scope=col>&lt;dttm&gt;</th></tr>\n",
              "</thead>\n",
              "<tbody>\n",
              "\t<tr><td>109</td><td>235</td><td>126</td><td>2013</td><td>6</td><td>13</td><td>1907</td><td>1512</td><td>2134</td><td>1928</td><td>EV</td><td>4377</td><td>N19554</td><td>EWR</td><td>JAX</td><td>126</td><td> 820</td><td>15</td><td>12</td><td>2013-06-13 15:00:00</td></tr>\n",
              "\t<tr><td> 87</td><td> 60</td><td>-27</td><td>2013</td><td>2</td><td>26</td><td>1000</td><td> 900</td><td>1513</td><td>1540</td><td>HA</td><td>  51</td><td>N382HA</td><td>JFK</td><td>HNL</td><td>584</td><td>4983</td><td> 9</td><td> 0</td><td>2013-02-26 09:00:00</td></tr>\n",
              "\t<tr><td> 80</td><td>206</td><td>126</td><td>2013</td><td>2</td><td>23</td><td>1226</td><td> 900</td><td>1746</td><td>1540</td><td>HA</td><td>  51</td><td>N389HA</td><td>JFK</td><td>HNL</td><td>599</td><td>4983</td><td> 9</td><td> 0</td><td>2013-02-23 09:00:00</td></tr>\n",
              "\t<tr><td> 79</td><td> 17</td><td>-62</td><td>2013</td><td>5</td><td>13</td><td>1917</td><td>1900</td><td>2149</td><td>2251</td><td>DL</td><td>1465</td><td>N721TW</td><td>JFK</td><td>SFO</td><td>313</td><td>2586</td><td>19</td><td> 0</td><td>2013-05-13 19:00:00</td></tr>\n",
              "\t<tr><td> 76</td><td> 24</td><td>-52</td><td>2013</td><td>2</td><td>27</td><td> 924</td><td> 900</td><td>1448</td><td>1540</td><td>HA</td><td>  51</td><td>N389HA</td><td>JFK</td><td>HNL</td><td>589</td><td>4983</td><td> 9</td><td> 0</td><td>2013-02-27 09:00:00</td></tr>\n",
              "</tbody>\n",
              "</table>\n"
            ],
            "text/markdown": "\nA tibble: 5 × 20\n\n| gain &lt;dbl&gt; | dep_delay &lt;dbl&gt; | arr_delay &lt;dbl&gt; | year &lt;int&gt; | month &lt;int&gt; | day &lt;int&gt; | dep_time &lt;int&gt; | sched_dep_time &lt;int&gt; | arr_time &lt;int&gt; | sched_arr_time &lt;int&gt; | carrier &lt;chr&gt; | flight &lt;int&gt; | tailnum &lt;chr&gt; | origin &lt;chr&gt; | dest &lt;chr&gt; | air_time &lt;dbl&gt; | distance &lt;dbl&gt; | hour &lt;dbl&gt; | minute &lt;dbl&gt; | time_hour &lt;dttm&gt; |\n|---|---|---|---|---|---|---|---|---|---|---|---|---|---|---|---|---|---|---|---|\n| 109 | 235 | 126 | 2013 | 6 | 13 | 1907 | 1512 | 2134 | 1928 | EV | 4377 | N19554 | EWR | JAX | 126 |  820 | 15 | 12 | 2013-06-13 15:00:00 |\n|  87 |  60 | -27 | 2013 | 2 | 26 | 1000 |  900 | 1513 | 1540 | HA |   51 | N382HA | JFK | HNL | 584 | 4983 |  9 |  0 | 2013-02-26 09:00:00 |\n|  80 | 206 | 126 | 2013 | 2 | 23 | 1226 |  900 | 1746 | 1540 | HA |   51 | N389HA | JFK | HNL | 599 | 4983 |  9 |  0 | 2013-02-23 09:00:00 |\n|  79 |  17 | -62 | 2013 | 5 | 13 | 1917 | 1900 | 2149 | 2251 | DL | 1465 | N721TW | JFK | SFO | 313 | 2586 | 19 |  0 | 2013-05-13 19:00:00 |\n|  76 |  24 | -52 | 2013 | 2 | 27 |  924 |  900 | 1448 | 1540 | HA |   51 | N389HA | JFK | HNL | 589 | 4983 |  9 |  0 | 2013-02-27 09:00:00 |\n\n",
            "text/latex": "A tibble: 5 × 20\n\\begin{tabular}{llllllllllllllllllll}\n gain & dep\\_delay & arr\\_delay & year & month & day & dep\\_time & sched\\_dep\\_time & arr\\_time & sched\\_arr\\_time & carrier & flight & tailnum & origin & dest & air\\_time & distance & hour & minute & time\\_hour\\\\\n <dbl> & <dbl> & <dbl> & <int> & <int> & <int> & <int> & <int> & <int> & <int> & <chr> & <int> & <chr> & <chr> & <chr> & <dbl> & <dbl> & <dbl> & <dbl> & <dttm>\\\\\n\\hline\n\t 109 & 235 & 126 & 2013 & 6 & 13 & 1907 & 1512 & 2134 & 1928 & EV & 4377 & N19554 & EWR & JAX & 126 &  820 & 15 & 12 & 2013-06-13 15:00:00\\\\\n\t  87 &  60 & -27 & 2013 & 2 & 26 & 1000 &  900 & 1513 & 1540 & HA &   51 & N382HA & JFK & HNL & 584 & 4983 &  9 &  0 & 2013-02-26 09:00:00\\\\\n\t  80 & 206 & 126 & 2013 & 2 & 23 & 1226 &  900 & 1746 & 1540 & HA &   51 & N389HA & JFK & HNL & 599 & 4983 &  9 &  0 & 2013-02-23 09:00:00\\\\\n\t  79 &  17 & -62 & 2013 & 5 & 13 & 1917 & 1900 & 2149 & 2251 & DL & 1465 & N721TW & JFK & SFO & 313 & 2586 & 19 &  0 & 2013-05-13 19:00:00\\\\\n\t  76 &  24 & -52 & 2013 & 2 & 27 &  924 &  900 & 1448 & 1540 & HA &   51 & N389HA & JFK & HNL & 589 & 4983 &  9 &  0 & 2013-02-27 09:00:00\\\\\n\\end{tabular}\n",
            "text/plain": [
              "  gain dep_delay arr_delay year month day dep_time sched_dep_time arr_time\n",
              "1 109  235       126       2013 6     13  1907     1512           2134    \n",
              "2  87   60       -27       2013 2     26  1000      900           1513    \n",
              "3  80  206       126       2013 2     23  1226      900           1746    \n",
              "4  79   17       -62       2013 5     13  1917     1900           2149    \n",
              "5  76   24       -52       2013 2     27   924      900           1448    \n",
              "  sched_arr_time carrier flight tailnum origin dest air_time distance hour\n",
              "1 1928           EV      4377   N19554  EWR    JAX  126       820     15  \n",
              "2 1540           HA        51   N382HA  JFK    HNL  584      4983      9  \n",
              "3 1540           HA        51   N389HA  JFK    HNL  599      4983      9  \n",
              "4 2251           DL      1465   N721TW  JFK    SFO  313      2586     19  \n",
              "5 1540           HA        51   N389HA  JFK    HNL  589      4983      9  \n",
              "  minute time_hour          \n",
              "1 12     2013-06-13 15:00:00\n",
              "2  0     2013-02-26 09:00:00\n",
              "3  0     2013-02-23 09:00:00\n",
              "4  0     2013-05-13 19:00:00\n",
              "5  0     2013-02-27 09:00:00"
            ]
          },
          "metadata": {}
        }
      ],
      "source": [
        "# Add arrange to see the gain in desc order and head function shows us the first 6 records by default\n",
        "head(\n",
        "  arrange(\n",
        "    select(new_df, gain, dep_delay, arr_delay, everything()), \n",
        "    desc(gain)\n",
        "), 5)"
      ]
    },
    {
      "cell_type": "markdown",
      "metadata": {
        "id": "cRneOreZm54G"
      },
      "source": [
        "## Filtering extreme values\n",
        "In the previous question we needed to find rows that had a large value of a certain column (`gain`). This occurs frequently, so the designers of tidyverse wrote a special function:\n",
        "\n",
        "    top_n(<DATA FRAME>, n, <COLUMN>, ...)\n",
        "    "
      ]
    },
    {
      "cell_type": "code",
      "execution_count": 67,
      "metadata": {
        "id": "D44sp3ySm54G",
        "colab": {
          "base_uri": "https://localhost:8080/",
          "height": 167
        },
        "outputId": "c814b637-1fc2-4793-f9c6-a2c968f8aa14"
      },
      "outputs": [
        {
          "output_type": "display_data",
          "data": {
            "text/html": [
              "<table class=\"dataframe\">\n",
              "<caption>A tibble: 1 × 20</caption>\n",
              "<thead>\n",
              "\t<tr><th scope=col>year</th><th scope=col>month</th><th scope=col>day</th><th scope=col>dep_time</th><th scope=col>sched_dep_time</th><th scope=col>dep_delay</th><th scope=col>arr_time</th><th scope=col>sched_arr_time</th><th scope=col>arr_delay</th><th scope=col>carrier</th><th scope=col>flight</th><th scope=col>tailnum</th><th scope=col>origin</th><th scope=col>dest</th><th scope=col>air_time</th><th scope=col>distance</th><th scope=col>hour</th><th scope=col>minute</th><th scope=col>time_hour</th><th scope=col>gain</th></tr>\n",
              "\t<tr><th scope=col>&lt;int&gt;</th><th scope=col>&lt;int&gt;</th><th scope=col>&lt;int&gt;</th><th scope=col>&lt;int&gt;</th><th scope=col>&lt;int&gt;</th><th scope=col>&lt;dbl&gt;</th><th scope=col>&lt;int&gt;</th><th scope=col>&lt;int&gt;</th><th scope=col>&lt;dbl&gt;</th><th scope=col>&lt;chr&gt;</th><th scope=col>&lt;int&gt;</th><th scope=col>&lt;chr&gt;</th><th scope=col>&lt;chr&gt;</th><th scope=col>&lt;chr&gt;</th><th scope=col>&lt;dbl&gt;</th><th scope=col>&lt;dbl&gt;</th><th scope=col>&lt;dbl&gt;</th><th scope=col>&lt;dbl&gt;</th><th scope=col>&lt;dttm&gt;</th><th scope=col>&lt;dbl&gt;</th></tr>\n",
              "</thead>\n",
              "<tbody>\n",
              "\t<tr><td>2013</td><td>6</td><td>13</td><td>1907</td><td>1512</td><td>235</td><td>2134</td><td>1928</td><td>126</td><td>EV</td><td>4377</td><td>N19554</td><td>EWR</td><td>JAX</td><td>126</td><td>820</td><td>15</td><td>12</td><td>2013-06-13 15:00:00</td><td>109</td></tr>\n",
              "</tbody>\n",
              "</table>\n"
            ],
            "text/markdown": "\nA tibble: 1 × 20\n\n| year &lt;int&gt; | month &lt;int&gt; | day &lt;int&gt; | dep_time &lt;int&gt; | sched_dep_time &lt;int&gt; | dep_delay &lt;dbl&gt; | arr_time &lt;int&gt; | sched_arr_time &lt;int&gt; | arr_delay &lt;dbl&gt; | carrier &lt;chr&gt; | flight &lt;int&gt; | tailnum &lt;chr&gt; | origin &lt;chr&gt; | dest &lt;chr&gt; | air_time &lt;dbl&gt; | distance &lt;dbl&gt; | hour &lt;dbl&gt; | minute &lt;dbl&gt; | time_hour &lt;dttm&gt; | gain &lt;dbl&gt; |\n|---|---|---|---|---|---|---|---|---|---|---|---|---|---|---|---|---|---|---|---|\n| 2013 | 6 | 13 | 1907 | 1512 | 235 | 2134 | 1928 | 126 | EV | 4377 | N19554 | EWR | JAX | 126 | 820 | 15 | 12 | 2013-06-13 15:00:00 | 109 |\n\n",
            "text/latex": "A tibble: 1 × 20\n\\begin{tabular}{llllllllllllllllllll}\n year & month & day & dep\\_time & sched\\_dep\\_time & dep\\_delay & arr\\_time & sched\\_arr\\_time & arr\\_delay & carrier & flight & tailnum & origin & dest & air\\_time & distance & hour & minute & time\\_hour & gain\\\\\n <int> & <int> & <int> & <int> & <int> & <dbl> & <int> & <int> & <dbl> & <chr> & <int> & <chr> & <chr> & <chr> & <dbl> & <dbl> & <dbl> & <dbl> & <dttm> & <dbl>\\\\\n\\hline\n\t 2013 & 6 & 13 & 1907 & 1512 & 235 & 2134 & 1928 & 126 & EV & 4377 & N19554 & EWR & JAX & 126 & 820 & 15 & 12 & 2013-06-13 15:00:00 & 109\\\\\n\\end{tabular}\n",
            "text/plain": [
              "  year month day dep_time sched_dep_time dep_delay arr_time sched_arr_time\n",
              "1 2013 6     13  1907     1512           235       2134     1928          \n",
              "  arr_delay carrier flight tailnum origin dest air_time distance hour minute\n",
              "1 126       EV      4377   N19554  EWR    JAX  126      820      15   12    \n",
              "  time_hour           gain\n",
              "1 2013-06-13 15:00:00 109 "
            ]
          },
          "metadata": {}
        }
      ],
      "source": [
        "# use top_n to find the flights with the highest gain\n",
        "top_n(new_df, 1, gain)"
      ]
    },
    {
      "cell_type": "markdown",
      "metadata": {
        "id": "erg36sdkm54G"
      },
      "source": [
        "## Grouping data\n",
        "Very frequently our data have natural groupings. For example, in flights, we might be interested in studying differences in flights depending on the month of departure. We use the `group_by()` function to tell R how to group data."
      ]
    },
    {
      "cell_type": "markdown",
      "metadata": {
        "id": "q3aZSjWum54G"
      },
      "source": [
        "For example, `mtcars` is a dataset of cars and the gas mileage they get:"
      ]
    },
    {
      "cell_type": "code",
      "execution_count": 68,
      "metadata": {
        "id": "EdLb8Wmnm54G",
        "outputId": "e97e564e-2908-4c2e-b4b7-d50714977de5",
        "colab": {
          "base_uri": "https://localhost:8080/"
        }
      },
      "outputs": [
        {
          "output_type": "stream",
          "name": "stdout",
          "text": [
            "                   mpg cyl disp  hp drat    wt  qsec vs am gear carb\n",
            "Mazda RX4         21.0   6  160 110 3.90 2.620 16.46  0  1    4    4\n",
            "Mazda RX4 Wag     21.0   6  160 110 3.90 2.875 17.02  0  1    4    4\n",
            "Datsun 710        22.8   4  108  93 3.85 2.320 18.61  1  1    4    1\n",
            "Hornet 4 Drive    21.4   6  258 110 3.08 3.215 19.44  1  0    3    1\n",
            "Hornet Sportabout 18.7   8  360 175 3.15 3.440 17.02  0  0    3    2\n"
          ]
        }
      ],
      "source": [
        "head(mtcars, 5) %>% print"
      ]
    },
    {
      "cell_type": "code",
      "source": [
        "help(mtcars)"
      ],
      "metadata": {
        "id": "3KR4BYo3ykSU"
      },
      "execution_count": 69,
      "outputs": []
    },
    {
      "cell_type": "markdown",
      "metadata": {
        "id": "RHF5XkDLm54H"
      },
      "source": [
        "Let's try grouping `mtcars` by `cyl` (the number of engine cylinders):"
      ]
    },
    {
      "cell_type": "code",
      "execution_count": 70,
      "metadata": {
        "id": "Wk17WNqrm54I",
        "colab": {
          "base_uri": "https://localhost:8080/"
        },
        "outputId": "17663002-8bb8-4cf1-af64-7320186b7f66"
      },
      "outputs": [
        {
          "output_type": "stream",
          "name": "stdout",
          "text": [
            "\u001b[90m# A tibble: 32 × 11\u001b[39m\n",
            "\u001b[90m# Groups:   cyl [3]\u001b[39m\n",
            "     mpg   cyl  disp    hp  drat    wt  qsec    vs    am  gear  carb\n",
            "   \u001b[3m\u001b[90m<dbl>\u001b[39m\u001b[23m \u001b[3m\u001b[90m<dbl>\u001b[39m\u001b[23m \u001b[3m\u001b[90m<dbl>\u001b[39m\u001b[23m \u001b[3m\u001b[90m<dbl>\u001b[39m\u001b[23m \u001b[3m\u001b[90m<dbl>\u001b[39m\u001b[23m \u001b[3m\u001b[90m<dbl>\u001b[39m\u001b[23m \u001b[3m\u001b[90m<dbl>\u001b[39m\u001b[23m \u001b[3m\u001b[90m<dbl>\u001b[39m\u001b[23m \u001b[3m\u001b[90m<dbl>\u001b[39m\u001b[23m \u001b[3m\u001b[90m<dbl>\u001b[39m\u001b[23m \u001b[3m\u001b[90m<dbl>\u001b[39m\u001b[23m\n",
            "\u001b[90m 1\u001b[39m  21       6  160    110  3.9   2.62  16.5     0     1     4     4\n",
            "\u001b[90m 2\u001b[39m  21       6  160    110  3.9   2.88  17.0     0     1     4     4\n",
            "\u001b[90m 3\u001b[39m  22.8     4  108     93  3.85  2.32  18.6     1     1     4     1\n",
            "\u001b[90m 4\u001b[39m  21.4     6  258    110  3.08  3.22  19.4     1     0     3     1\n",
            "\u001b[90m 5\u001b[39m  18.7     8  360    175  3.15  3.44  17.0     0     0     3     2\n",
            "\u001b[90m 6\u001b[39m  18.1     6  225    105  2.76  3.46  20.2     1     0     3     1\n",
            "\u001b[90m 7\u001b[39m  14.3     8  360    245  3.21  3.57  15.8     0     0     3     4\n",
            "\u001b[90m 8\u001b[39m  24.4     4  147.    62  3.69  3.19  20       1     0     4     2\n",
            "\u001b[90m 9\u001b[39m  22.8     4  141.    95  3.92  3.15  22.9     1     0     4     2\n",
            "\u001b[90m10\u001b[39m  19.2     6  168.   123  3.92  3.44  18.3     1     0     4     4\n",
            "\u001b[90m# … with 22 more rows\u001b[39m\n"
          ]
        }
      ],
      "source": [
        "gp = group_by(mtcars, cyl)\n",
        "print(gp)"
      ]
    },
    {
      "cell_type": "markdown",
      "metadata": {
        "id": "KVH8xV0Ym54I"
      },
      "source": [
        "This has not changed the data in any way. But now watch what happens when we use `mutate()` on the grouped data frame:"
      ]
    },
    {
      "cell_type": "code",
      "execution_count": 71,
      "metadata": {
        "id": "uAQON0EKm54I",
        "colab": {
          "base_uri": "https://localhost:8080/"
        },
        "outputId": "64de1b83-4e5d-448a-9e1e-e8f71abf362c"
      },
      "outputs": [
        {
          "output_type": "stream",
          "name": "stdout",
          "text": [
            "\u001b[90m# A tibble: 32 × 12\u001b[39m\n",
            "\u001b[90m# Groups:   cyl [3]\u001b[39m\n",
            "     mpg   cyl  disp    hp  drat    wt  qsec    vs    am  gear  carb `mean(mpg)`\n",
            "   \u001b[3m\u001b[90m<dbl>\u001b[39m\u001b[23m \u001b[3m\u001b[90m<dbl>\u001b[39m\u001b[23m \u001b[3m\u001b[90m<dbl>\u001b[39m\u001b[23m \u001b[3m\u001b[90m<dbl>\u001b[39m\u001b[23m \u001b[3m\u001b[90m<dbl>\u001b[39m\u001b[23m \u001b[3m\u001b[90m<dbl>\u001b[39m\u001b[23m \u001b[3m\u001b[90m<dbl>\u001b[39m\u001b[23m \u001b[3m\u001b[90m<dbl>\u001b[39m\u001b[23m \u001b[3m\u001b[90m<dbl>\u001b[39m\u001b[23m \u001b[3m\u001b[90m<dbl>\u001b[39m\u001b[23m \u001b[3m\u001b[90m<dbl>\u001b[39m\u001b[23m       \u001b[3m\u001b[90m<dbl>\u001b[39m\u001b[23m\n",
            "\u001b[90m 1\u001b[39m  21       6  160    110  3.9   2.62  16.5     0     1     4     4        19.7\n",
            "\u001b[90m 2\u001b[39m  21       6  160    110  3.9   2.88  17.0     0     1     4     4        19.7\n",
            "\u001b[90m 3\u001b[39m  22.8     4  108     93  3.85  2.32  18.6     1     1     4     1        26.7\n",
            "\u001b[90m 4\u001b[39m  21.4     6  258    110  3.08  3.22  19.4     1     0     3     1        19.7\n",
            "\u001b[90m 5\u001b[39m  18.7     8  360    175  3.15  3.44  17.0     0     0     3     2        15.1\n",
            "\u001b[90m 6\u001b[39m  18.1     6  225    105  2.76  3.46  20.2     1     0     3     1        19.7\n",
            "\u001b[90m 7\u001b[39m  14.3     8  360    245  3.21  3.57  15.8     0     0     3     4        15.1\n",
            "\u001b[90m 8\u001b[39m  24.4     4  147.    62  3.69  3.19  20       1     0     4     2        26.7\n",
            "\u001b[90m 9\u001b[39m  22.8     4  141.    95  3.92  3.15  22.9     1     0     4     2        26.7\n",
            "\u001b[90m10\u001b[39m  19.2     6  168.   123  3.92  3.44  18.3     1     0     4     4        19.7\n",
            "\u001b[90m# … with 22 more rows\u001b[39m\n"
          ]
        }
      ],
      "source": [
        "# mean mpg for grouped data\n",
        "print(mutate(gp, mean(mpg)))"
      ]
    },
    {
      "cell_type": "code",
      "source": [
        "distinct(mtcars, cyl)"
      ],
      "metadata": {
        "colab": {
          "base_uri": "https://localhost:8080/",
          "height": 192
        },
        "id": "_xh9VdqczanU",
        "outputId": "1c9be445-d282-4009-b94a-785cb55f2a45"
      },
      "execution_count": 72,
      "outputs": [
        {
          "output_type": "display_data",
          "data": {
            "text/html": [
              "<table class=\"dataframe\">\n",
              "<caption>A data.frame: 3 × 1</caption>\n",
              "<thead>\n",
              "\t<tr><th></th><th scope=col>cyl</th></tr>\n",
              "\t<tr><th></th><th scope=col>&lt;dbl&gt;</th></tr>\n",
              "</thead>\n",
              "<tbody>\n",
              "\t<tr><th scope=row>Mazda RX4</th><td>6</td></tr>\n",
              "\t<tr><th scope=row>Datsun 710</th><td>4</td></tr>\n",
              "\t<tr><th scope=row>Hornet Sportabout</th><td>8</td></tr>\n",
              "</tbody>\n",
              "</table>\n"
            ],
            "text/markdown": "\nA data.frame: 3 × 1\n\n| <!--/--> | cyl &lt;dbl&gt; |\n|---|---|\n| Mazda RX4 | 6 |\n| Datsun 710 | 4 |\n| Hornet Sportabout | 8 |\n\n",
            "text/latex": "A data.frame: 3 × 1\n\\begin{tabular}{r|l}\n  & cyl\\\\\n  & <dbl>\\\\\n\\hline\n\tMazda RX4 & 6\\\\\n\tDatsun 710 & 4\\\\\n\tHornet Sportabout & 8\\\\\n\\end{tabular}\n",
            "text/plain": [
              "                  cyl\n",
              "Mazda RX4         6  \n",
              "Datsun 710        4  \n",
              "Hornet Sportabout 8  "
            ]
          },
          "metadata": {}
        }
      ]
    },
    {
      "cell_type": "markdown",
      "metadata": {
        "id": "i6gJalZDm54J"
      },
      "source": [
        "Notice that the mean is now constant within different groups. It's easier to see if we first sort the table by `cyl`:"
      ]
    },
    {
      "cell_type": "code",
      "execution_count": 73,
      "metadata": {
        "id": "jbkfz_iPm54J",
        "colab": {
          "base_uri": "https://localhost:8080/"
        },
        "outputId": "7fdd2f68-4424-45f3-cec4-7a8742fbc245"
      },
      "outputs": [
        {
          "output_type": "stream",
          "name": "stdout",
          "text": [
            "\u001b[90m# A tibble: 32 × 12\u001b[39m\n",
            "\u001b[90m# Groups:   cyl [3]\u001b[39m\n",
            "     mpg   cyl  disp    hp  drat    wt  qsec    vs    am  gear  carb `mean(mpg)`\n",
            "   \u001b[3m\u001b[90m<dbl>\u001b[39m\u001b[23m \u001b[3m\u001b[90m<dbl>\u001b[39m\u001b[23m \u001b[3m\u001b[90m<dbl>\u001b[39m\u001b[23m \u001b[3m\u001b[90m<dbl>\u001b[39m\u001b[23m \u001b[3m\u001b[90m<dbl>\u001b[39m\u001b[23m \u001b[3m\u001b[90m<dbl>\u001b[39m\u001b[23m \u001b[3m\u001b[90m<dbl>\u001b[39m\u001b[23m \u001b[3m\u001b[90m<dbl>\u001b[39m\u001b[23m \u001b[3m\u001b[90m<dbl>\u001b[39m\u001b[23m \u001b[3m\u001b[90m<dbl>\u001b[39m\u001b[23m \u001b[3m\u001b[90m<dbl>\u001b[39m\u001b[23m       \u001b[3m\u001b[90m<dbl>\u001b[39m\u001b[23m\n",
            "\u001b[90m 1\u001b[39m  22.8     4 108      93  3.85  2.32  18.6     1     1     4     1        26.7\n",
            "\u001b[90m 2\u001b[39m  24.4     4 147.     62  3.69  3.19  20       1     0     4     2        26.7\n",
            "\u001b[90m 3\u001b[39m  22.8     4 141.     95  3.92  3.15  22.9     1     0     4     2        26.7\n",
            "\u001b[90m 4\u001b[39m  32.4     4  78.7    66  4.08  2.2   19.5     1     1     4     1        26.7\n",
            "\u001b[90m 5\u001b[39m  30.4     4  75.7    52  4.93  1.62  18.5     1     1     4     2        26.7\n",
            "\u001b[90m 6\u001b[39m  33.9     4  71.1    65  4.22  1.84  19.9     1     1     4     1        26.7\n",
            "\u001b[90m 7\u001b[39m  21.5     4 120.     97  3.7   2.46  20.0     1     0     3     1        26.7\n",
            "\u001b[90m 8\u001b[39m  27.3     4  79      66  4.08  1.94  18.9     1     1     4     1        26.7\n",
            "\u001b[90m 9\u001b[39m  26       4 120.     91  4.43  2.14  16.7     0     1     5     2        26.7\n",
            "\u001b[90m10\u001b[39m  30.4     4  95.1   113  3.77  1.51  16.9     1     1     5     2        26.7\n",
            "\u001b[90m# … with 22 more rows\u001b[39m\n"
          ]
        }
      ],
      "source": [
        "# sort mtcars by cyl, then group and mutate\n",
        "arrange(mutate(gp, mean(mpg)), cyl) %>% print"
      ]
    },
    {
      "cell_type": "markdown",
      "metadata": {
        "id": "yWFEz0bQm54J"
      },
      "source": [
        "## Pipes\n",
        "I have already used the pipe symbol, we will make extensive use of the pipe operator `%>%` going forward. Consider the previous exercise:"
      ]
    },
    {
      "cell_type": "code",
      "execution_count": 74,
      "metadata": {
        "id": "GivfSlhLm54J",
        "colab": {
          "base_uri": "https://localhost:8080/"
        },
        "outputId": "7e4ab4c2-6355-4784-bae5-2c0f726ff906"
      },
      "outputs": [
        {
          "output_type": "stream",
          "name": "stdout",
          "text": [
            "\u001b[90m# A tibble: 336,776 × 20\u001b[39m\n",
            "    gain dep_delay arr_delay  year month   day dep_time sched_…¹ arr_t…² sched…³\n",
            "   \u001b[3m\u001b[90m<dbl>\u001b[39m\u001b[23m     \u001b[3m\u001b[90m<dbl>\u001b[39m\u001b[23m     \u001b[3m\u001b[90m<dbl>\u001b[39m\u001b[23m \u001b[3m\u001b[90m<int>\u001b[39m\u001b[23m \u001b[3m\u001b[90m<int>\u001b[39m\u001b[23m \u001b[3m\u001b[90m<int>\u001b[39m\u001b[23m    \u001b[3m\u001b[90m<int>\u001b[39m\u001b[23m    \u001b[3m\u001b[90m<int>\u001b[39m\u001b[23m   \u001b[3m\u001b[90m<int>\u001b[39m\u001b[23m   \u001b[3m\u001b[90m<int>\u001b[39m\u001b[23m\n",
            "\u001b[90m 1\u001b[39m   109       235       126  \u001b[4m2\u001b[24m013     6    13     \u001b[4m1\u001b[24m907     \u001b[4m1\u001b[24m512    \u001b[4m2\u001b[24m134    \u001b[4m1\u001b[24m928\n",
            "\u001b[90m 2\u001b[39m    87        60       -\u001b[31m27\u001b[39m  \u001b[4m2\u001b[24m013     2    26     \u001b[4m1\u001b[24m000      900    \u001b[4m1\u001b[24m513    \u001b[4m1\u001b[24m540\n",
            "\u001b[90m 3\u001b[39m    80       206       126  \u001b[4m2\u001b[24m013     2    23     \u001b[4m1\u001b[24m226      900    \u001b[4m1\u001b[24m746    \u001b[4m1\u001b[24m540\n",
            "\u001b[90m 4\u001b[39m    79        17       -\u001b[31m62\u001b[39m  \u001b[4m2\u001b[24m013     5    13     \u001b[4m1\u001b[24m917     \u001b[4m1\u001b[24m900    \u001b[4m2\u001b[24m149    \u001b[4m2\u001b[24m251\n",
            "\u001b[90m 5\u001b[39m    76        24       -\u001b[31m52\u001b[39m  \u001b[4m2\u001b[24m013     2    27      924      900    \u001b[4m1\u001b[24m448    \u001b[4m1\u001b[24m540\n",
            "\u001b[90m 6\u001b[39m    74        48       -\u001b[31m26\u001b[39m  \u001b[4m2\u001b[24m013     7    14     \u001b[4m1\u001b[24m917     \u001b[4m1\u001b[24m829    \u001b[4m2\u001b[24m109    \u001b[4m2\u001b[24m135\n",
            "\u001b[90m 7\u001b[39m    74        34       -\u001b[31m40\u001b[39m  \u001b[4m2\u001b[24m013     7    17     \u001b[4m2\u001b[24m004     \u001b[4m1\u001b[24m930    \u001b[4m2\u001b[24m224    \u001b[4m2\u001b[24m304\n",
            "\u001b[90m 8\u001b[39m    73        31       -\u001b[31m42\u001b[39m  \u001b[4m2\u001b[24m013    12    27     \u001b[4m1\u001b[24m719     \u001b[4m1\u001b[24m648    \u001b[4m1\u001b[24m956    \u001b[4m2\u001b[24m038\n",
            "\u001b[90m 9\u001b[39m    73        -\u001b[31m2\u001b[39m       -\u001b[31m75\u001b[39m  \u001b[4m2\u001b[24m013     5     2     \u001b[4m1\u001b[24m947     \u001b[4m1\u001b[24m949    \u001b[4m2\u001b[24m209    \u001b[4m2\u001b[24m324\n",
            "\u001b[90m10\u001b[39m    72         9       -\u001b[31m63\u001b[39m  \u001b[4m2\u001b[24m013    11    13     \u001b[4m2\u001b[24m024     \u001b[4m2\u001b[24m015    \u001b[4m2\u001b[24m251    \u001b[4m2\u001b[24m354\n",
            "\u001b[90m# … with 336,766 more rows, 10 more variables: carrier <chr>, flight <int>,\u001b[39m\n",
            "\u001b[90m#   tailnum <chr>, origin <chr>, dest <chr>, air_time <dbl>, distance <dbl>,\u001b[39m\n",
            "\u001b[90m#   hour <dbl>, minute <dbl>, time_hour <dttm>, and abbreviated variable names\u001b[39m\n",
            "\u001b[90m#   ¹​sched_dep_time, ²​arr_time, ³​sched_arr_time\u001b[39m\n"
          ]
        }
      ],
      "source": [
        "# mutate flights to add gain column, select gain, dep_delay and arr_delay and finally sort it by gain and then print\n",
        "print(arrange(\n",
        "  select(mutate(flights, gain = dep_delay - arr_delay), \n",
        "  gain, dep_delay, arr_delay, everything()\n",
        "  ), desc(gain)\n",
        "))"
      ]
    },
    {
      "cell_type": "markdown",
      "metadata": {
        "id": "Wdmn3NrUm54K"
      },
      "source": [
        "This is not very nice. To figure out what the command is doing you have to work from the inside out, which is not the order in which we are accustomed to reading. A slight improvement might be:"
      ]
    },
    {
      "cell_type": "code",
      "source": [
        "# mutate flights to add gain column, select gain, dep_delay and arr_delay and finally sort it by gain and then print\n",
        "new_df1 = mutate(flights, gain = dep_delay - arr_delay)\n",
        "new_df2 = select(new_df1, gain, dep_delay, arr_delay, everything())\n",
        "new_df3 = arrange(new_df2, desc(gain))\n",
        "print(new_df3)"
      ],
      "metadata": {
        "colab": {
          "base_uri": "https://localhost:8080/"
        },
        "id": "9Cdput1s1juh",
        "outputId": "19548a2b-5df0-4c23-8568-73cb6ea78644"
      },
      "execution_count": 75,
      "outputs": [
        {
          "output_type": "stream",
          "name": "stdout",
          "text": [
            "\u001b[90m# A tibble: 336,776 × 20\u001b[39m\n",
            "    gain dep_delay arr_delay  year month   day dep_time sched_…¹ arr_t…² sched…³\n",
            "   \u001b[3m\u001b[90m<dbl>\u001b[39m\u001b[23m     \u001b[3m\u001b[90m<dbl>\u001b[39m\u001b[23m     \u001b[3m\u001b[90m<dbl>\u001b[39m\u001b[23m \u001b[3m\u001b[90m<int>\u001b[39m\u001b[23m \u001b[3m\u001b[90m<int>\u001b[39m\u001b[23m \u001b[3m\u001b[90m<int>\u001b[39m\u001b[23m    \u001b[3m\u001b[90m<int>\u001b[39m\u001b[23m    \u001b[3m\u001b[90m<int>\u001b[39m\u001b[23m   \u001b[3m\u001b[90m<int>\u001b[39m\u001b[23m   \u001b[3m\u001b[90m<int>\u001b[39m\u001b[23m\n",
            "\u001b[90m 1\u001b[39m   109       235       126  \u001b[4m2\u001b[24m013     6    13     \u001b[4m1\u001b[24m907     \u001b[4m1\u001b[24m512    \u001b[4m2\u001b[24m134    \u001b[4m1\u001b[24m928\n",
            "\u001b[90m 2\u001b[39m    87        60       -\u001b[31m27\u001b[39m  \u001b[4m2\u001b[24m013     2    26     \u001b[4m1\u001b[24m000      900    \u001b[4m1\u001b[24m513    \u001b[4m1\u001b[24m540\n",
            "\u001b[90m 3\u001b[39m    80       206       126  \u001b[4m2\u001b[24m013     2    23     \u001b[4m1\u001b[24m226      900    \u001b[4m1\u001b[24m746    \u001b[4m1\u001b[24m540\n",
            "\u001b[90m 4\u001b[39m    79        17       -\u001b[31m62\u001b[39m  \u001b[4m2\u001b[24m013     5    13     \u001b[4m1\u001b[24m917     \u001b[4m1\u001b[24m900    \u001b[4m2\u001b[24m149    \u001b[4m2\u001b[24m251\n",
            "\u001b[90m 5\u001b[39m    76        24       -\u001b[31m52\u001b[39m  \u001b[4m2\u001b[24m013     2    27      924      900    \u001b[4m1\u001b[24m448    \u001b[4m1\u001b[24m540\n",
            "\u001b[90m 6\u001b[39m    74        48       -\u001b[31m26\u001b[39m  \u001b[4m2\u001b[24m013     7    14     \u001b[4m1\u001b[24m917     \u001b[4m1\u001b[24m829    \u001b[4m2\u001b[24m109    \u001b[4m2\u001b[24m135\n",
            "\u001b[90m 7\u001b[39m    74        34       -\u001b[31m40\u001b[39m  \u001b[4m2\u001b[24m013     7    17     \u001b[4m2\u001b[24m004     \u001b[4m1\u001b[24m930    \u001b[4m2\u001b[24m224    \u001b[4m2\u001b[24m304\n",
            "\u001b[90m 8\u001b[39m    73        31       -\u001b[31m42\u001b[39m  \u001b[4m2\u001b[24m013    12    27     \u001b[4m1\u001b[24m719     \u001b[4m1\u001b[24m648    \u001b[4m1\u001b[24m956    \u001b[4m2\u001b[24m038\n",
            "\u001b[90m 9\u001b[39m    73        -\u001b[31m2\u001b[39m       -\u001b[31m75\u001b[39m  \u001b[4m2\u001b[24m013     5     2     \u001b[4m1\u001b[24m947     \u001b[4m1\u001b[24m949    \u001b[4m2\u001b[24m209    \u001b[4m2\u001b[24m324\n",
            "\u001b[90m10\u001b[39m    72         9       -\u001b[31m63\u001b[39m  \u001b[4m2\u001b[24m013    11    13     \u001b[4m2\u001b[24m024     \u001b[4m2\u001b[24m015    \u001b[4m2\u001b[24m251    \u001b[4m2\u001b[24m354\n",
            "\u001b[90m# … with 336,766 more rows, 10 more variables: carrier <chr>, flight <int>,\u001b[39m\n",
            "\u001b[90m#   tailnum <chr>, origin <chr>, dest <chr>, air_time <dbl>, distance <dbl>,\u001b[39m\n",
            "\u001b[90m#   hour <dbl>, minute <dbl>, time_hour <dttm>, and abbreviated variable names\u001b[39m\n",
            "\u001b[90m#   ¹​sched_dep_time, ²​arr_time, ³​sched_arr_time\u001b[39m\n"
          ]
        }
      ]
    },
    {
      "cell_type": "markdown",
      "metadata": {
        "id": "OBZZXiN-m54K"
      },
      "source": [
        "This is better, but now you've created a bunch of useless temporary variables, and it requires a lot of typing. \n",
        "Instead, we are going to use a new operator `%>%` (prounouced \"pipe\"):"
      ]
    },
    {
      "cell_type": "code",
      "source": [
        "# # mutate flights to add gain column, select gain, dep_delay and arr_delay and finally sort it by gain and then print using pipes\n",
        "mutate(flights, gain = dep_delay - arr_delay) %>% \n",
        "  select(gain, dep_delay, arr_delay, everything()) %>% \n",
        "    arrange(desc(gain)) %>%\n",
        "      print\n",
        "      "
      ],
      "metadata": {
        "id": "imMhcoQI0r83",
        "colab": {
          "base_uri": "https://localhost:8080/"
        },
        "outputId": "7c854dce-b187-4ace-f72d-73aafeed1490"
      },
      "execution_count": 77,
      "outputs": [
        {
          "output_type": "stream",
          "name": "stdout",
          "text": [
            "\u001b[90m# A tibble: 336,776 × 20\u001b[39m\n",
            "    gain dep_delay arr_delay  year month   day dep_time sched_…¹ arr_t…² sched…³\n",
            "   \u001b[3m\u001b[90m<dbl>\u001b[39m\u001b[23m     \u001b[3m\u001b[90m<dbl>\u001b[39m\u001b[23m     \u001b[3m\u001b[90m<dbl>\u001b[39m\u001b[23m \u001b[3m\u001b[90m<int>\u001b[39m\u001b[23m \u001b[3m\u001b[90m<int>\u001b[39m\u001b[23m \u001b[3m\u001b[90m<int>\u001b[39m\u001b[23m    \u001b[3m\u001b[90m<int>\u001b[39m\u001b[23m    \u001b[3m\u001b[90m<int>\u001b[39m\u001b[23m   \u001b[3m\u001b[90m<int>\u001b[39m\u001b[23m   \u001b[3m\u001b[90m<int>\u001b[39m\u001b[23m\n",
            "\u001b[90m 1\u001b[39m   109       235       126  \u001b[4m2\u001b[24m013     6    13     \u001b[4m1\u001b[24m907     \u001b[4m1\u001b[24m512    \u001b[4m2\u001b[24m134    \u001b[4m1\u001b[24m928\n",
            "\u001b[90m 2\u001b[39m    87        60       -\u001b[31m27\u001b[39m  \u001b[4m2\u001b[24m013     2    26     \u001b[4m1\u001b[24m000      900    \u001b[4m1\u001b[24m513    \u001b[4m1\u001b[24m540\n",
            "\u001b[90m 3\u001b[39m    80       206       126  \u001b[4m2\u001b[24m013     2    23     \u001b[4m1\u001b[24m226      900    \u001b[4m1\u001b[24m746    \u001b[4m1\u001b[24m540\n",
            "\u001b[90m 4\u001b[39m    79        17       -\u001b[31m62\u001b[39m  \u001b[4m2\u001b[24m013     5    13     \u001b[4m1\u001b[24m917     \u001b[4m1\u001b[24m900    \u001b[4m2\u001b[24m149    \u001b[4m2\u001b[24m251\n",
            "\u001b[90m 5\u001b[39m    76        24       -\u001b[31m52\u001b[39m  \u001b[4m2\u001b[24m013     2    27      924      900    \u001b[4m1\u001b[24m448    \u001b[4m1\u001b[24m540\n",
            "\u001b[90m 6\u001b[39m    74        48       -\u001b[31m26\u001b[39m  \u001b[4m2\u001b[24m013     7    14     \u001b[4m1\u001b[24m917     \u001b[4m1\u001b[24m829    \u001b[4m2\u001b[24m109    \u001b[4m2\u001b[24m135\n",
            "\u001b[90m 7\u001b[39m    74        34       -\u001b[31m40\u001b[39m  \u001b[4m2\u001b[24m013     7    17     \u001b[4m2\u001b[24m004     \u001b[4m1\u001b[24m930    \u001b[4m2\u001b[24m224    \u001b[4m2\u001b[24m304\n",
            "\u001b[90m 8\u001b[39m    73        31       -\u001b[31m42\u001b[39m  \u001b[4m2\u001b[24m013    12    27     \u001b[4m1\u001b[24m719     \u001b[4m1\u001b[24m648    \u001b[4m1\u001b[24m956    \u001b[4m2\u001b[24m038\n",
            "\u001b[90m 9\u001b[39m    73        -\u001b[31m2\u001b[39m       -\u001b[31m75\u001b[39m  \u001b[4m2\u001b[24m013     5     2     \u001b[4m1\u001b[24m947     \u001b[4m1\u001b[24m949    \u001b[4m2\u001b[24m209    \u001b[4m2\u001b[24m324\n",
            "\u001b[90m10\u001b[39m    72         9       -\u001b[31m63\u001b[39m  \u001b[4m2\u001b[24m013    11    13     \u001b[4m2\u001b[24m024     \u001b[4m2\u001b[24m015    \u001b[4m2\u001b[24m251    \u001b[4m2\u001b[24m354\n",
            "\u001b[90m# … with 336,766 more rows, 10 more variables: carrier <chr>, flight <int>,\u001b[39m\n",
            "\u001b[90m#   tailnum <chr>, origin <chr>, dest <chr>, air_time <dbl>, distance <dbl>,\u001b[39m\n",
            "\u001b[90m#   hour <dbl>, minute <dbl>, time_hour <dttm>, and abbreviated variable names\u001b[39m\n",
            "\u001b[90m#   ¹​sched_dep_time, ²​arr_time, ³​sched_arr_time\u001b[39m\n"
          ]
        }
      ]
    },
    {
      "cell_type": "markdown",
      "metadata": {
        "id": "KU8c9XSRm54K"
      },
      "source": [
        "This is much better. We can read the command from left to right and know exactly what is going on."
      ]
    },
    {
      "cell_type": "markdown",
      "metadata": {
        "id": "42dNjUI7m54L"
      },
      "source": [
        "## Column operation #3: `summarize()`ing data\n",
        "\n",
        "`summarize()` can be used to summarize entire data frames by collapsing them into single number summaries. The syntax is:\n",
        "\n",
        "    summarize(<grouped data frame>, \n",
        "              <new variable> = <formula for new variable>,\n",
        "              <other new variable> = <other formula>)"
      ]
    },
    {
      "cell_type": "markdown",
      "metadata": {
        "id": "xg75E0Kzm54L"
      },
      "source": [
        "The most basic use of summarize is to compute statistics over the whole data set:"
      ]
    },
    {
      "cell_type": "code",
      "execution_count": 78,
      "metadata": {
        "id": "WJbZAENDm54L",
        "colab": {
          "base_uri": "https://localhost:8080/",
          "height": 129
        },
        "outputId": "4091ea62-56cc-4b77-e5c3-eb8168decff0"
      },
      "outputs": [
        {
          "output_type": "display_data",
          "data": {
            "text/html": [
              "<table class=\"dataframe\">\n",
              "<caption>A tibble: 1 × 1</caption>\n",
              "<thead>\n",
              "\t<tr><th scope=col>mean_dep_delay</th></tr>\n",
              "\t<tr><th scope=col>&lt;dbl&gt;</th></tr>\n",
              "</thead>\n",
              "<tbody>\n",
              "\t<tr><td>12.63907</td></tr>\n",
              "</tbody>\n",
              "</table>\n"
            ],
            "text/markdown": "\nA tibble: 1 × 1\n\n| mean_dep_delay &lt;dbl&gt; |\n|---|\n| 12.63907 |\n\n",
            "text/latex": "A tibble: 1 × 1\n\\begin{tabular}{l}\n mean\\_dep\\_delay\\\\\n <dbl>\\\\\n\\hline\n\t 12.63907\\\\\n\\end{tabular}\n",
            "text/plain": [
              "  mean_dep_delay\n",
              "1 12.63907      "
            ]
          },
          "metadata": {}
        }
      ],
      "source": [
        "# summarize flights by mean of departure delay\n",
        "# note, if you don't add na.rm=T; which removes all NA values before computing the mean \n",
        "\n",
        "summarise(flights, mean_dep_delay = mean(dep_delay, na.rm = T)) "
      ]
    },
    {
      "cell_type": "markdown",
      "metadata": {
        "id": "Ah6yoYJHm54L"
      },
      "source": [
        "`summarize()` applies a summary function to each group of data. Remember that it always returns **one row per group**. In the above example, there was only one group (the whole data set), so the resulting data frame had only one row."
      ]
    },
    {
      "cell_type": "markdown",
      "metadata": {
        "id": "Goh59IA1m54L"
      },
      "source": [
        "### Grouping observations\n",
        "`summarize()` is most useful when combined with `group_by()` to group observations before calculating the summary statistic. Let's summarize flights by the mean departure delay in each month."
      ]
    },
    {
      "cell_type": "code",
      "source": [
        "# summarize average departure delay by month.\n",
        "group_by(flights, month) %>%\n",
        "  summarise(mean_dep_delay = mean(dep_delay, na.rm = T)) %>%\n",
        "  print"
      ],
      "metadata": {
        "colab": {
          "base_uri": "https://localhost:8080/"
        },
        "id": "Lu5cUQYoXsZk",
        "outputId": "aad524b7-eae4-4104-979d-54e60c6c7391"
      },
      "execution_count": 79,
      "outputs": [
        {
          "output_type": "stream",
          "name": "stdout",
          "text": [
            "\u001b[90m# A tibble: 12 × 2\u001b[39m\n",
            "   month mean_dep_delay\n",
            "   \u001b[3m\u001b[90m<int>\u001b[39m\u001b[23m          \u001b[3m\u001b[90m<dbl>\u001b[39m\u001b[23m\n",
            "\u001b[90m 1\u001b[39m     1          10.0 \n",
            "\u001b[90m 2\u001b[39m     2          10.8 \n",
            "\u001b[90m 3\u001b[39m     3          13.2 \n",
            "\u001b[90m 4\u001b[39m     4          13.9 \n",
            "\u001b[90m 5\u001b[39m     5          13.0 \n",
            "\u001b[90m 6\u001b[39m     6          20.8 \n",
            "\u001b[90m 7\u001b[39m     7          21.7 \n",
            "\u001b[90m 8\u001b[39m     8          12.6 \n",
            "\u001b[90m 9\u001b[39m     9           6.72\n",
            "\u001b[90m10\u001b[39m    10           6.24\n",
            "\u001b[90m11\u001b[39m    11           5.44\n",
            "\u001b[90m12\u001b[39m    12          16.6 \n"
          ]
        }
      ]
    },
    {
      "cell_type": "code",
      "execution_count": 80,
      "metadata": {
        "id": "5fDECZV8m54M",
        "colab": {
          "base_uri": "https://localhost:8080/"
        },
        "outputId": "79168b13-c310-4d42-c51b-f06977a285ee"
      },
      "outputs": [
        {
          "output_type": "stream",
          "name": "stdout",
          "text": [
            "\u001b[90m# A tibble: 3 × 2\u001b[39m\n",
            "    cyl mean_mpg\n",
            "  \u001b[3m\u001b[90m<dbl>\u001b[39m\u001b[23m    \u001b[3m\u001b[90m<dbl>\u001b[39m\u001b[23m\n",
            "\u001b[90m1\u001b[39m     4     26.7\n",
            "\u001b[90m2\u001b[39m     6     19.7\n",
            "\u001b[90m3\u001b[39m     8     15.1\n"
          ]
        }
      ],
      "source": [
        "# summarize average mpg of mtcars.\n",
        "# In the class this was shown\n",
        "group_by(mtcars, cyl) %>% \n",
        "  summarise(mean_mpg = mean(mpg)) %>% \n",
        "    print"
      ]
    },
    {
      "cell_type": "markdown",
      "metadata": {
        "id": "Nuv4cQ7Xm54M"
      },
      "source": [
        "### Example: counting the number of rows\n",
        "The `n()` function calculates the number of rows in each group:"
      ]
    },
    {
      "cell_type": "code",
      "execution_count": 81,
      "metadata": {
        "id": "tF2bf3lVm54M",
        "colab": {
          "base_uri": "https://localhost:8080/"
        },
        "outputId": "954c3dd8-da88-458c-ab8f-94feac636236"
      },
      "outputs": [
        {
          "output_type": "stream",
          "name": "stdout",
          "text": [
            "\u001b[90m# A tibble: 3 × 3\u001b[39m\n",
            "    cyl mean_mpg     n\n",
            "  \u001b[3m\u001b[90m<dbl>\u001b[39m\u001b[23m    \u001b[3m\u001b[90m<dbl>\u001b[39m\u001b[23m \u001b[3m\u001b[90m<int>\u001b[39m\u001b[23m\n",
            "\u001b[90m1\u001b[39m     4     26.7    11\n",
            "\u001b[90m2\u001b[39m     6     19.7     7\n",
            "\u001b[90m3\u001b[39m     8     15.1    14\n"
          ]
        }
      ],
      "source": [
        "\n",
        "group_by(mtcars, cyl) %>% \n",
        "  summarise(mean_mpg = mean(mpg), n = n()) %>% \n",
        "    print"
      ]
    },
    {
      "cell_type": "code",
      "source": [
        "# count the number of rows in flights for each month\n",
        "group_by(flights, month) %>%\n",
        "  summarise(mean_dep_delay = mean(dep_delay, na.rm = T), n = n()) %>%\n",
        "  print"
      ],
      "metadata": {
        "colab": {
          "base_uri": "https://localhost:8080/"
        },
        "id": "UgqAV2ibd_qU",
        "outputId": "c0d9a7a0-d139-4932-e3bb-7c7cf0ca50a8"
      },
      "execution_count": 82,
      "outputs": [
        {
          "output_type": "stream",
          "name": "stdout",
          "text": [
            "\u001b[90m# A tibble: 12 × 3\u001b[39m\n",
            "   month mean_dep_delay     n\n",
            "   \u001b[3m\u001b[90m<int>\u001b[39m\u001b[23m          \u001b[3m\u001b[90m<dbl>\u001b[39m\u001b[23m \u001b[3m\u001b[90m<int>\u001b[39m\u001b[23m\n",
            "\u001b[90m 1\u001b[39m     1          10.0  \u001b[4m2\u001b[24m\u001b[4m7\u001b[24m004\n",
            "\u001b[90m 2\u001b[39m     2          10.8  \u001b[4m2\u001b[24m\u001b[4m4\u001b[24m951\n",
            "\u001b[90m 3\u001b[39m     3          13.2  \u001b[4m2\u001b[24m\u001b[4m8\u001b[24m834\n",
            "\u001b[90m 4\u001b[39m     4          13.9  \u001b[4m2\u001b[24m\u001b[4m8\u001b[24m330\n",
            "\u001b[90m 5\u001b[39m     5          13.0  \u001b[4m2\u001b[24m\u001b[4m8\u001b[24m796\n",
            "\u001b[90m 6\u001b[39m     6          20.8  \u001b[4m2\u001b[24m\u001b[4m8\u001b[24m243\n",
            "\u001b[90m 7\u001b[39m     7          21.7  \u001b[4m2\u001b[24m\u001b[4m9\u001b[24m425\n",
            "\u001b[90m 8\u001b[39m     8          12.6  \u001b[4m2\u001b[24m\u001b[4m9\u001b[24m327\n",
            "\u001b[90m 9\u001b[39m     9           6.72 \u001b[4m2\u001b[24m\u001b[4m7\u001b[24m574\n",
            "\u001b[90m10\u001b[39m    10           6.24 \u001b[4m2\u001b[24m\u001b[4m8\u001b[24m889\n",
            "\u001b[90m11\u001b[39m    11           5.44 \u001b[4m2\u001b[24m\u001b[4m7\u001b[24m268\n",
            "\u001b[90m12\u001b[39m    12          16.6  \u001b[4m2\u001b[24m\u001b[4m8\u001b[24m135\n"
          ]
        }
      ]
    },
    {
      "cell_type": "markdown",
      "metadata": {
        "id": "ksba5WAdm54M"
      },
      "source": [
        "### A shortcut\n",
        "`summarize(n = n())` occurs so often that there is a shortcut for it:"
      ]
    },
    {
      "cell_type": "code",
      "execution_count": 83,
      "metadata": {
        "id": "3fhvdzb7m54M",
        "colab": {
          "base_uri": "https://localhost:8080/",
          "height": 209
        },
        "outputId": "3d421780-5e9f-4a14-b0fb-0015e775ed9a"
      },
      "outputs": [
        {
          "output_type": "display_data",
          "data": {
            "text/html": [
              "<table class=\"dataframe\">\n",
              "<caption>A data.frame: 3 × 2</caption>\n",
              "<thead>\n",
              "\t<tr><th scope=col>cyl</th><th scope=col>n</th></tr>\n",
              "\t<tr><th scope=col>&lt;dbl&gt;</th><th scope=col>&lt;int&gt;</th></tr>\n",
              "</thead>\n",
              "<tbody>\n",
              "\t<tr><td>4</td><td>11</td></tr>\n",
              "\t<tr><td>6</td><td> 7</td></tr>\n",
              "\t<tr><td>8</td><td>14</td></tr>\n",
              "</tbody>\n",
              "</table>\n"
            ],
            "text/markdown": "\nA data.frame: 3 × 2\n\n| cyl &lt;dbl&gt; | n &lt;int&gt; |\n|---|---|\n| 4 | 11 |\n| 6 |  7 |\n| 8 | 14 |\n\n",
            "text/latex": "A data.frame: 3 × 2\n\\begin{tabular}{ll}\n cyl & n\\\\\n <dbl> & <int>\\\\\n\\hline\n\t 4 & 11\\\\\n\t 6 &  7\\\\\n\t 8 & 14\\\\\n\\end{tabular}\n",
            "text/plain": [
              "  cyl n \n",
              "1 4   11\n",
              "2 6    7\n",
              "3 8   14"
            ]
          },
          "metadata": {}
        }
      ],
      "source": [
        "# use count() instead of group_by or summarize\n",
        "count(mtcars, cyl)"
      ]
    },
    {
      "cell_type": "markdown",
      "metadata": {
        "id": "2pLGwQrtm54N"
      },
      "source": [
        "Let's think about how to answer the following question using `summarize`:"
      ]
    },
    {
      "cell_type": "markdown",
      "metadata": {
        "id": "sAtZ3jDlm54N"
      },
      "source": [
        "## What days of the year / at what airport are the busiest for flying?"
      ]
    },
    {
      "cell_type": "markdown",
      "metadata": {
        "id": "PifIjiUBm54N"
      },
      "source": [
        "To figure this out, I like to think about/visualize the table we would want to have in order to easily answer this question. Ideally, it would look something like this:"
      ]
    },
    {
      "cell_type": "markdown",
      "metadata": {
        "id": "a98WlHPim54N"
      },
      "source": [
        "    # A tibble: 1,095 x 4\n",
        "       month   day airport       n_departures\n",
        "       <int> <int> <chr>                <int>\n",
        "     1     1     1 EWR                    305\n",
        "     2     1     1 JFK                    297\n",
        "     3     1     1 LGA                    240\n",
        "     4     1     2 EWR                    350\n",
        "     5     1     2 JFK                    321\n",
        "     6     1     2 LGA                    272\n",
        "     7     1     3 EWR                    336\n",
        "     8     1     3 JFK                    318\n",
        "     9     1     3 LGA                    260\n",
        "    10     1     4 EWR                    339\n",
        "    # … with 1,085 more rows"
      ]
    },
    {
      "cell_type": "markdown",
      "metadata": {
        "id": "QiAaOloSm54N"
      },
      "source": [
        "Then, to get the answer, I could sort the table to find the row that had the largest `n_departures`.\n",
        "\n",
        "How do I reach the table shown above? There is one row per ... what? (This tells me how to group the data.)"
      ]
    },
    {
      "cell_type": "code",
      "execution_count": 84,
      "metadata": {
        "id": "ExXgWM6Sm54O",
        "colab": {
          "base_uri": "https://localhost:8080/"
        },
        "outputId": "84e24515-5ca3-410e-c644-3dce41f1d306"
      },
      "outputs": [
        {
          "output_type": "stream",
          "name": "stderr",
          "text": [
            "\u001b[1m\u001b[22m`summarise()` has grouped output by 'month', 'day'. You can override using the\n",
            "`.groups` argument.\n"
          ]
        },
        {
          "output_type": "stream",
          "name": "stdout",
          "text": [
            "\u001b[90m# A tibble: 1,095 × 4\u001b[39m\n",
            "\u001b[90m# Groups:   month, day [365]\u001b[39m\n",
            "   month   day origin     n\n",
            "   \u001b[3m\u001b[90m<int>\u001b[39m\u001b[23m \u001b[3m\u001b[90m<int>\u001b[39m\u001b[23m \u001b[3m\u001b[90m<chr>\u001b[39m\u001b[23m  \u001b[3m\u001b[90m<int>\u001b[39m\u001b[23m\n",
            "\u001b[90m 1\u001b[39m     1     1 EWR      305\n",
            "\u001b[90m 2\u001b[39m     1     1 JFK      297\n",
            "\u001b[90m 3\u001b[39m     1     1 LGA      240\n",
            "\u001b[90m 4\u001b[39m     1     2 EWR      350\n",
            "\u001b[90m 5\u001b[39m     1     2 JFK      321\n",
            "\u001b[90m 6\u001b[39m     1     2 LGA      272\n",
            "\u001b[90m 7\u001b[39m     1     3 EWR      336\n",
            "\u001b[90m 8\u001b[39m     1     3 JFK      318\n",
            "\u001b[90m 9\u001b[39m     1     3 LGA      260\n",
            "\u001b[90m10\u001b[39m     1     4 EWR      339\n",
            "\u001b[90m# … with 1,085 more rows\u001b[39m\n"
          ]
        }
      ],
      "source": [
        "# summarize flights to get number of departures by day and by airport.\n",
        "group_by(flights, month, day, origin) %>% \n",
        "  summarise(n = n()) %>% \n",
        "    print"
      ]
    },
    {
      "cell_type": "markdown",
      "metadata": {
        "id": "qvlMZi8_m54O"
      },
      "source": [
        "Here is another question we can answer:"
      ]
    },
    {
      "cell_type": "markdown",
      "metadata": {
        "id": "sSMsppk5m54O"
      },
      "source": [
        "## Who is the greatest (baseball) batter of all time?\n",
        "The `Lahman` dataset contains information on baseball players."
      ]
    },
    {
      "cell_type": "code",
      "source": [
        "install.packages(\"Lahman\")"
      ],
      "metadata": {
        "colab": {
          "base_uri": "https://localhost:8080/"
        },
        "id": "aUBmha4l4ojQ",
        "outputId": "32237cea-f558-4417-d672-730023e12c9f"
      },
      "execution_count": 85,
      "outputs": [
        {
          "output_type": "stream",
          "name": "stderr",
          "text": [
            "Installing package into ‘/usr/local/lib/R/site-library’\n",
            "(as ‘lib’ is unspecified)\n",
            "\n"
          ]
        }
      ]
    },
    {
      "cell_type": "code",
      "execution_count": 86,
      "metadata": {
        "id": "AYF1RFX3m54O",
        "outputId": "9ca6f1b1-276b-4d24-f2f7-0b6edba76824",
        "colab": {
          "base_uri": "https://localhost:8080/"
        }
      },
      "outputs": [
        {
          "output_type": "stream",
          "name": "stdout",
          "text": [
            "\u001b[90m# A tibble: 110,495 × 22\u001b[39m\n",
            "   playerID  yearID stint teamID lgID      G    AB     R     H   X2B   X3B    HR\n",
            "   \u001b[3m\u001b[90m<chr>\u001b[39m\u001b[23m      \u001b[3m\u001b[90m<int>\u001b[39m\u001b[23m \u001b[3m\u001b[90m<int>\u001b[39m\u001b[23m \u001b[3m\u001b[90m<fct>\u001b[39m\u001b[23m  \u001b[3m\u001b[90m<fct>\u001b[39m\u001b[23m \u001b[3m\u001b[90m<int>\u001b[39m\u001b[23m \u001b[3m\u001b[90m<int>\u001b[39m\u001b[23m \u001b[3m\u001b[90m<int>\u001b[39m\u001b[23m \u001b[3m\u001b[90m<int>\u001b[39m\u001b[23m \u001b[3m\u001b[90m<int>\u001b[39m\u001b[23m \u001b[3m\u001b[90m<int>\u001b[39m\u001b[23m \u001b[3m\u001b[90m<int>\u001b[39m\u001b[23m\n",
            "\u001b[90m 1\u001b[39m abercda01   \u001b[4m1\u001b[24m871     1 TRO    NA        1     4     0     0     0     0     0\n",
            "\u001b[90m 2\u001b[39m addybo01    \u001b[4m1\u001b[24m871     1 RC1    NA       25   118    30    32     6     0     0\n",
            "\u001b[90m 3\u001b[39m allisar01   \u001b[4m1\u001b[24m871     1 CL1    NA       29   137    28    40     4     5     0\n",
            "\u001b[90m 4\u001b[39m allisdo01   \u001b[4m1\u001b[24m871     1 WS3    NA       27   133    28    44    10     2     2\n",
            "\u001b[90m 5\u001b[39m ansonca01   \u001b[4m1\u001b[24m871     1 RC1    NA       25   120    29    39    11     3     0\n",
            "\u001b[90m 6\u001b[39m armstbo01   \u001b[4m1\u001b[24m871     1 FW1    NA       12    49     9    11     2     1     0\n",
            "\u001b[90m 7\u001b[39m barkeal01   \u001b[4m1\u001b[24m871     1 RC1    NA        1     4     0     1     0     0     0\n",
            "\u001b[90m 8\u001b[39m barnero01   \u001b[4m1\u001b[24m871     1 BS1    NA       31   157    66    63    10     9     0\n",
            "\u001b[90m 9\u001b[39m barrebi01   \u001b[4m1\u001b[24m871     1 FW1    NA        1     5     1     1     1     0     0\n",
            "\u001b[90m10\u001b[39m barrofr01   \u001b[4m1\u001b[24m871     1 BS1    NA       18    86    13    13     2     1     0\n",
            "\u001b[90m# … with 110,485 more rows, and 10 more variables: RBI <int>, SB <int>,\u001b[39m\n",
            "\u001b[90m#   CS <int>, BB <int>, SO <int>, IBB <int>, HBP <int>, SH <int>, SF <int>,\u001b[39m\n",
            "\u001b[90m#   GIDP <int>\u001b[39m\n"
          ]
        }
      ],
      "source": [
        "# install.packages(\"Lahman\")\n",
        "library(Lahman)\n",
        "as_tibble(Batting) %>% print\n",
        "# what do all these columns mean?"
      ]
    },
    {
      "cell_type": "markdown",
      "metadata": {
        "id": "upqjjAU1m54O"
      },
      "source": [
        "The second player is `addybo01`. We can get information about this player by typing:"
      ]
    },
    {
      "cell_type": "code",
      "execution_count": 87,
      "metadata": {
        "id": "KUGIdl0Gm54O",
        "outputId": "72ad6a82-95a1-4eec-a5ad-80965e446d13",
        "colab": {
          "base_uri": "https://localhost:8080/",
          "height": 129
        }
      },
      "outputs": [
        {
          "output_type": "display_data",
          "data": {
            "text/html": [
              "<table class=\"dataframe\">\n",
              "<caption>A data.frame: 1 × 3</caption>\n",
              "<thead>\n",
              "\t<tr><th></th><th scope=col>playerID</th><th scope=col>nameFirst</th><th scope=col>nameLast</th></tr>\n",
              "\t<tr><th></th><th scope=col>&lt;chr&gt;</th><th scope=col>&lt;chr&gt;</th><th scope=col>&lt;chr&gt;</th></tr>\n",
              "</thead>\n",
              "<tbody>\n",
              "\t<tr><th scope=row>111</th><td>addybo01</td><td>Bob</td><td>Addy</td></tr>\n",
              "</tbody>\n",
              "</table>\n"
            ],
            "text/markdown": "\nA data.frame: 1 × 3\n\n| <!--/--> | playerID &lt;chr&gt; | nameFirst &lt;chr&gt; | nameLast &lt;chr&gt; |\n|---|---|---|---|\n| 111 | addybo01 | Bob | Addy |\n\n",
            "text/latex": "A data.frame: 1 × 3\n\\begin{tabular}{r|lll}\n  & playerID & nameFirst & nameLast\\\\\n  & <chr> & <chr> & <chr>\\\\\n\\hline\n\t111 & addybo01 & Bob & Addy\\\\\n\\end{tabular}\n",
            "text/plain": [
              "    playerID nameFirst nameLast\n",
              "111 addybo01 Bob       Addy    "
            ]
          },
          "metadata": {}
        }
      ],
      "source": [
        "Lahman::playerInfo('addybo01')"
      ]
    },
    {
      "cell_type": "markdown",
      "metadata": {
        "id": "GmAxHu-Fm54P"
      },
      "source": [
        "Bob Addy was active in the years 1871-1877. During that time he had $118+51+152+213+310+142+245=1231$ at-bats, and $32+16+54+51+80+40+68=341$ hits. Therefore his career batting average was $341/1241=0.277$."
      ]
    },
    {
      "cell_type": "code",
      "execution_count": 89,
      "metadata": {
        "id": "zXHY6Zsxm54P",
        "outputId": "6aec8b03-fc8c-4f7f-9651-cde6c40987ed",
        "colab": {
          "base_uri": "https://localhost:8080/"
        }
      },
      "outputs": [
        {
          "output_type": "stream",
          "name": "stdout",
          "text": [
            "  playerID yearID stint teamID lgID  G  AB  R  H X2B X3B HR RBI SB CS BB SO IBB\n",
            "1 addybo01   1871     1    RC1   NA 25 118 30 32   6   0  0  13  8  1  4  0  NA\n",
            "2 addybo01   1873     1    PH2   NA 10  51 12 16   1   0  0  10  1  1  2  0  NA\n",
            "3 addybo01   1873     2    BS1   NA 31 152 37 54   6   3  1  32  6  5  2  1  NA\n",
            "4 addybo01   1874     1    HR1   NA 50 213 25 51   9   2  0  22  4  2  1  1  NA\n",
            "5 addybo01   1875     1    PH2   NA 69 310 60 80   8   4  0  43 16  8  0  2  NA\n",
            "6 addybo01   1876     1    CHN   NL 32 142 36 40   4   1  0  16 NA NA  5  0  NA\n",
            "7 addybo01   1877     1    CN1   NL 57 245 27 68   2   3  0  31 NA NA  6  5  NA\n",
            "  HBP SH SF GIDP\n",
            "1  NA NA NA    0\n",
            "2  NA NA NA    0\n",
            "3  NA NA NA    0\n",
            "4  NA NA NA    0\n",
            "5  NA NA NA    0\n",
            "6  NA NA NA   NA\n",
            "7  NA NA NA   NA\n"
          ]
        }
      ],
      "source": [
        "filter(Batting, playerID == 'addybo01') %>% print"
      ]
    },
    {
      "cell_type": "markdown",
      "metadata": {
        "id": "oRr_C8A-m54P"
      },
      "source": [
        "Let's use `group_by()` and `summarize()` to calculate the \"career\" batting average for every player in the dataset. That is, I want a table that looks like:"
      ]
    },
    {
      "cell_type": "markdown",
      "metadata": {
        "id": "JCzcoTYim54Q"
      },
      "source": [
        "    # A tibble: 20166 × 2\n",
        "      playerID batting_avg\n",
        "      <chr>          <dbl>\n",
        "    1 addybo01       0.277\n",
        "    .    .             .\n",
        "    .    .             .\n",
        "    .    .             ."
      ]
    },
    {
      "cell_type": "code",
      "execution_count": 90,
      "metadata": {
        "id": "dMuTBaHfm54Q",
        "colab": {
          "base_uri": "https://localhost:8080/"
        },
        "outputId": "6ae062cb-87ed-4334-857d-8f0729a22a22"
      },
      "outputs": [
        {
          "output_type": "stream",
          "name": "stderr",
          "text": [
            "\u001b[1m\u001b[22mSelecting by batting avg\n"
          ]
        },
        {
          "output_type": "stream",
          "name": "stdout",
          "text": [
            "\u001b[90m# A tibble: 95 × 2\u001b[39m\n",
            "   playerID  `batting avg`\n",
            "   \u001b[3m\u001b[90m<chr>\u001b[39m\u001b[23m             \u001b[3m\u001b[90m<dbl>\u001b[39m\u001b[23m\n",
            "\u001b[90m 1\u001b[39m abramge01             1\n",
            "\u001b[90m 2\u001b[39m alberan01             1\n",
            "\u001b[90m 3\u001b[39m banisje01             1\n",
            "\u001b[90m 4\u001b[39m bartocl01             1\n",
            "\u001b[90m 5\u001b[39m bassdo01              1\n",
            "\u001b[90m 6\u001b[39m birasst01             1\n",
            "\u001b[90m 7\u001b[39m bruneju01             1\n",
            "\u001b[90m 8\u001b[39m burnscb01             1\n",
            "\u001b[90m 9\u001b[39m cammaer01             1\n",
            "\u001b[90m10\u001b[39m campsh01              1\n",
            "\u001b[90m# … with 85 more rows\u001b[39m\n"
          ]
        }
      ],
      "source": [
        "# calculate the batting average for each player in the  data set\n",
        "group_by(Batting, playerID) %>% \n",
        "  summarise('batting avg' = sum(H)/sum(AB)) %>% \n",
        "    top_n(10) %>%\n",
        "      print"
      ]
    },
    {
      "cell_type": "markdown",
      "metadata": {
        "id": "2P4VfrKHm54Q"
      },
      "source": [
        "What has happened? Let's look at the first player in the sorted table:"
      ]
    },
    {
      "cell_type": "code",
      "execution_count": 91,
      "metadata": {
        "id": "Yx24JSrNm54Q",
        "outputId": "6b5418f2-fcb9-40a1-a0d6-a875f2524804",
        "colab": {
          "base_uri": "https://localhost:8080/",
          "height": 149
        }
      },
      "outputs": [
        {
          "output_type": "display_data",
          "data": {
            "text/html": [
              "<table class=\"dataframe\">\n",
              "<caption>A data.frame: 1 × 22</caption>\n",
              "<thead>\n",
              "\t<tr><th scope=col>playerID</th><th scope=col>yearID</th><th scope=col>stint</th><th scope=col>teamID</th><th scope=col>lgID</th><th scope=col>G</th><th scope=col>AB</th><th scope=col>R</th><th scope=col>H</th><th scope=col>X2B</th><th scope=col>⋯</th><th scope=col>RBI</th><th scope=col>SB</th><th scope=col>CS</th><th scope=col>BB</th><th scope=col>SO</th><th scope=col>IBB</th><th scope=col>HBP</th><th scope=col>SH</th><th scope=col>SF</th><th scope=col>GIDP</th></tr>\n",
              "\t<tr><th scope=col>&lt;chr&gt;</th><th scope=col>&lt;int&gt;</th><th scope=col>&lt;int&gt;</th><th scope=col>&lt;fct&gt;</th><th scope=col>&lt;fct&gt;</th><th scope=col>&lt;int&gt;</th><th scope=col>&lt;int&gt;</th><th scope=col>&lt;int&gt;</th><th scope=col>&lt;int&gt;</th><th scope=col>&lt;int&gt;</th><th scope=col>⋯</th><th scope=col>&lt;int&gt;</th><th scope=col>&lt;int&gt;</th><th scope=col>&lt;int&gt;</th><th scope=col>&lt;int&gt;</th><th scope=col>&lt;int&gt;</th><th scope=col>&lt;int&gt;</th><th scope=col>&lt;int&gt;</th><th scope=col>&lt;int&gt;</th><th scope=col>&lt;int&gt;</th><th scope=col>&lt;int&gt;</th></tr>\n",
              "</thead>\n",
              "<tbody>\n",
              "\t<tr><td>abramge01</td><td>1923</td><td>1</td><td>CIN</td><td>NL</td><td>3</td><td>1</td><td>0</td><td>1</td><td>0</td><td>⋯</td><td>0</td><td>0</td><td>0</td><td>0</td><td>0</td><td>NA</td><td>0</td><td>0</td><td>NA</td><td>NA</td></tr>\n",
              "</tbody>\n",
              "</table>\n"
            ],
            "text/markdown": "\nA data.frame: 1 × 22\n\n| playerID &lt;chr&gt; | yearID &lt;int&gt; | stint &lt;int&gt; | teamID &lt;fct&gt; | lgID &lt;fct&gt; | G &lt;int&gt; | AB &lt;int&gt; | R &lt;int&gt; | H &lt;int&gt; | X2B &lt;int&gt; | ⋯ ⋯ | RBI &lt;int&gt; | SB &lt;int&gt; | CS &lt;int&gt; | BB &lt;int&gt; | SO &lt;int&gt; | IBB &lt;int&gt; | HBP &lt;int&gt; | SH &lt;int&gt; | SF &lt;int&gt; | GIDP &lt;int&gt; |\n|---|---|---|---|---|---|---|---|---|---|---|---|---|---|---|---|---|---|---|---|---|\n| abramge01 | 1923 | 1 | CIN | NL | 3 | 1 | 0 | 1 | 0 | ⋯ | 0 | 0 | 0 | 0 | 0 | NA | 0 | 0 | NA | NA |\n\n",
            "text/latex": "A data.frame: 1 × 22\n\\begin{tabular}{lllllllllllllllllllll}\n playerID & yearID & stint & teamID & lgID & G & AB & R & H & X2B & ⋯ & RBI & SB & CS & BB & SO & IBB & HBP & SH & SF & GIDP\\\\\n <chr> & <int> & <int> & <fct> & <fct> & <int> & <int> & <int> & <int> & <int> & ⋯ & <int> & <int> & <int> & <int> & <int> & <int> & <int> & <int> & <int> & <int>\\\\\n\\hline\n\t abramge01 & 1923 & 1 & CIN & NL & 3 & 1 & 0 & 1 & 0 & ⋯ & 0 & 0 & 0 & 0 & 0 & NA & 0 & 0 & NA & NA\\\\\n\\end{tabular}\n",
            "text/plain": [
              "  playerID  yearID stint teamID lgID G AB R H X2B ⋯ RBI SB CS BB SO IBB HBP SH\n",
              "1 abramge01 1923   1     CIN    NL   3 1  0 1 0   ⋯ 0   0  0  0  0  NA  0   0 \n",
              "  SF GIDP\n",
              "1 NA NA  "
            ]
          },
          "metadata": {}
        }
      ],
      "source": [
        "filter(Batting, playerID == 'abramge01')"
      ]
    },
    {
      "cell_type": "markdown",
      "metadata": {
        "id": "y15SSrvXm54Q"
      },
      "source": [
        "### Always include counts\n",
        "It is a good idea to include counts of each group when you do a summary. Some groups may have very low numbers of observations, resulting in high variance for the summary statistics. \n",
        "\n",
        "What happens if we restrict our batting average calculation to players that had at least 100 at-bats?"
      ]
    },
    {
      "cell_type": "markdown",
      "metadata": {
        "id": "2mM2Bgx9m54Q"
      },
      "source": [
        "## Quiz\n",
        "Among players who had at least 100 at bats, who had the highest career batting average?\n",
        "<ol style=\"list-style-type: upper-alpha;\">\n",
        "    <li>Ty Cobb</li>\n",
        "    <li>Babe Ruth</li>\n",
        "    <li>Prof. Terhorst</li>\n",
        "    <li>Ted Williams</li>\n",
        "    <li>Hank Williams</li>\n",
        "</ol>"
      ]
    },
    {
      "cell_type": "code",
      "execution_count": 92,
      "metadata": {
        "id": "qI-np9E1m54R",
        "colab": {
          "base_uri": "https://localhost:8080/"
        },
        "outputId": "2adff3d3-e105-4e20-9a97-3906758a7688"
      },
      "outputs": [
        {
          "output_type": "stream",
          "name": "stdout",
          "text": [
            "\u001b[90m# A tibble: 7,158 × 2\u001b[39m\n",
            "   playerID  batting_avg\n",
            "   \u001b[3m\u001b[90m<chr>\u001b[39m\u001b[23m           \u001b[3m\u001b[90m<dbl>\u001b[39m\u001b[23m\n",
            "\u001b[90m 1\u001b[39m hazlebo01       0.403\n",
            "\u001b[90m 2\u001b[39m daviscu01       0.381\n",
            "\u001b[90m 3\u001b[39m fishesh01       0.374\n",
            "\u001b[90m 4\u001b[39m woltery01       0.370\n",
            "\u001b[90m 5\u001b[39m cobbty01        0.366\n",
            "\u001b[90m 6\u001b[39m barnero01       0.363\n",
            "\u001b[90m 7\u001b[39m hornsro01       0.362\n",
            "\u001b[90m 8\u001b[39m meyerle01       0.358\n",
            "\u001b[90m 9\u001b[39m jacksjo01       0.357\n",
            "\u001b[90m10\u001b[39m harveza01       0.353\n",
            "\u001b[90m# … with 7,148 more rows\u001b[39m\n"
          ]
        }
      ],
      "source": [
        "# highest batting average among players that had 100 or more at bats\n",
        "filter(Batting, AB >= 100) %>%\n",
        "  group_by(playerID) %>% \n",
        "  summarise(batting_avg = sum(H)/sum(AB)) %>% \n",
        "    arrange(desc(batting_avg)) %>%\n",
        "      print"
      ]
    },
    {
      "cell_type": "markdown",
      "metadata": {
        "id": "rFYcXttlm54R"
      },
      "source": [
        "## Quiz\n",
        "Among players who had at least 100 at bats in a season, what was the highest batting average in a single season?\n",
        "<ol style=\"list-style-type: upper-alpha;\">\n",
        "    <li>Ted Williams</li>\n",
        "    <li>Steven Colbert</li>\n",
        "    <li>Chonky Squirrel</li>\n",
        "    <li>Levi Meyerle</li>\n",
        "    <li>Tom Riddle</li>\n",
        "</ol>"
      ]
    },
    {
      "cell_type": "code",
      "execution_count": null,
      "metadata": {
        "id": "Ay0ypSnbm54R"
      },
      "outputs": [],
      "source": [
        "# highest seasonal batting average\n",
        "# I will let you folks figure this out"
      ]
    },
    {
      "cell_type": "markdown",
      "metadata": {
        "id": "n7PyA65Om54R"
      },
      "source": [
        "## The Steroid Era of Baseball\n",
        "\n",
        "> [Baseball] remained relatively the same until the 90s when steroid use became rampant. Famous sluggers like Barry Bonds, Mark McGwire, and Sammy Sosa rose to fame during this era. They were beloved at the time until we later found out that they were cheating.\n",
        "\n",
        "https://www.wagerbop.com/how-home-runs-and-batting-averages-have-changed-over-the-last-30-years/"
      ]
    },
    {
      "cell_type": "markdown",
      "metadata": {
        "id": "nxVmg-4Zm54R"
      },
      "source": [
        "![barry bounds](https://cdn.ebaumsworld.com/mediaFiles/picture/2605038/87087115.jpg)"
      ]
    },
    {
      "cell_type": "markdown",
      "metadata": {
        "id": "9qg3zGBUm54R"
      },
      "source": [
        "## Can we see the steroid era reflected in the data?"
      ]
    },
    {
      "cell_type": "code",
      "execution_count": null,
      "metadata": {
        "id": "nGTIM4vdm54R"
      },
      "outputs": [],
      "source": [
        "# summarize the dataset in order to investigate steroid era in batters\n",
        "# this one too - exercise for you folks"
      ]
    }
  ],
  "metadata": {
    "celltoolbar": "Slideshow",
    "kernelspec": {
      "display_name": "R",
      "language": "R",
      "name": "ir"
    },
    "language_info": {
      "codemirror_mode": "r",
      "file_extension": ".r",
      "mimetype": "text/x-r-source",
      "name": "R",
      "pygments_lexer": "r",
      "version": "4.2.2"
    },
    "colab": {
      "provenance": []
    }
  },
  "nbformat": 4,
  "nbformat_minor": 0
}