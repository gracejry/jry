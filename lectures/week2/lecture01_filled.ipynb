{
 "cells": [
  {
   "cell_type": "markdown",
   "metadata": {
    "id": "qT90TrqFXwiy"
   },
   "source": [
    "# Lecture 1:  Data transformation\n",
    "\n",
    "<div style=\"border: 1px double black; padding: 10px; margin: 10px\">\n",
    "\n",
    "**Goals for today's lecture:**\n",
    "* Learn [how to manipulate data](#Data-manipulation), including:\n",
    "    * [Filtering data](#Row-operation-#1:-Filtering-data)\n",
    "    * [Arranging (sorting) rows](#Row-operation-#2:-Sorting)\n",
    "    * [Finding distinct rows](#Row-operation-#3:-distinct())\n",
    "    * [Selecting subsets of columns](#Column-operation-#1:-select()\n",
    "    \n",
    "This lecture note corresponds to [Chapter 4](https://r4ds.hadley.nz/data-transform.html) of your book, and we will also use some ideas from Chapters [14](https://r4ds.hadley.nz/logicals.html)-[15](https://r4ds.hadley.nz/numbers.html).\n",
    "</div>\n"
   ]
  },
  {
   "cell_type": "markdown",
   "metadata": {
    "id": "lJJpgYVFXwi3"
   },
   "source": [
    "## Questions that arose on Piazza\n",
    "Reminder to please post your questions on Piazza. You will get a faster response, and everyone can see the answers.\n",
    "- \"What's the difference between Github, Colab, and Jupyter?\"\n",
    "- \"How is credit assigned for Perusall?\"\n",
    "- \"How are the iClicker questions graded?\""
   ]
  },
  {
   "cell_type": "markdown",
   "metadata": {
    "id": "BogFUpizXwi4"
   },
   "source": [
    "## Data manipulation\n",
    "Manipulating data is an important part of data science--perhaps the most important! As a data scientist, most of your time will be spent simply getting your data into a format that you can analyze:\n",
    "![data manipulation plot](https://www.datanami.com/wp-content/uploads/2020/07/Anaconda_1.png)\n",
    "https://www.datanami.com/2020/07/06/data-prep-still-dominates-data-scientists-time-survey-finds/"
   ]
  },
  {
   "cell_type": "markdown",
   "metadata": {
    "id": "p337lACXXwi5"
   },
   "source": [
    "There are a lot of built-in commands for data manipulation in R:\n",
    "```{r}\n",
    "# Traditional data manipulation commands in R\n",
    "subset()\n",
    "aggregate()\n",
    "merge()\n",
    "reshape()\n",
    "```\n",
    "These commands are old and somewhat difficult to use. Instead of the traditional commands, we are going to focus on the `dplyr` package for filtering data. They provide a nice suite of replacements for the traditional commands, which have a consistent, unified interface and interoperate nicely with each other.\n",
    "\n",
    "The `dplyr` package is part of `tidyverse`, so it is already loaded once we run `library(tidyverse)` (which we remember from last lecture that we should do each time we start R)."
   ]
  },
  {
   "cell_type": "markdown",
   "metadata": {
    "id": "MYX6UkHfXwi6"
   },
   "source": [
    "We will be using the `nycflights13` data set for this lecture. It does not come with tidyverse. If you are running Jupyter on your own computer you will first need to `install.packages(\"nycflights13\")`.  This data set is about flights departing from the NYC area in 2013.  You will work with part of this data set in Homework 2."
   ]
  },
  {
   "cell_type": "code",
   "execution_count": 2,
   "metadata": {
    "colab": {
     "base_uri": "https://localhost:8080/"
    },
    "id": "P5lbzw0BZ4h9",
    "outputId": "52213b76-98a6-431a-8a87-b9cc0b178fe7"
   },
   "outputs": [
    {
     "name": "stdout",
     "output_type": "stream",
     "text": [
      "\n",
      "The downloaded binary packages are in\n",
      "\t/var/folders/gh/wbmb7mrx2wb6j56x3zk8lh7m0000gp/T//RtmptAmlg4/downloaded_packages\n"
     ]
    }
   ],
   "source": [
    "install.packages(\"nycflights13\")"
   ]
  },
  {
   "cell_type": "code",
   "execution_count": 3,
   "metadata": {
    "colab": {
     "base_uri": "https://localhost:8080/"
    },
    "id": "HAr7_jxJXwi6",
    "outputId": "7586750c-b23d-4202-8983-a463285a03e9"
   },
   "outputs": [
    {
     "name": "stderr",
     "output_type": "stream",
     "text": [
      "── \u001b[1mAttaching packages\u001b[22m ─────────────────────────────────────── tidyverse 1.3.2 ──\n",
      "\u001b[32m✔\u001b[39m \u001b[34mggplot2\u001b[39m 3.4.0      \u001b[32m✔\u001b[39m \u001b[34mpurrr  \u001b[39m 1.0.0 \n",
      "\u001b[32m✔\u001b[39m \u001b[34mtibble \u001b[39m 3.1.8      \u001b[32m✔\u001b[39m \u001b[34mdplyr  \u001b[39m 1.0.10\n",
      "\u001b[32m✔\u001b[39m \u001b[34mtidyr  \u001b[39m 1.2.1      \u001b[32m✔\u001b[39m \u001b[34mstringr\u001b[39m 1.5.0 \n",
      "\u001b[32m✔\u001b[39m \u001b[34mreadr  \u001b[39m 2.1.3      \u001b[32m✔\u001b[39m \u001b[34mforcats\u001b[39m 0.5.2 \n",
      "── \u001b[1mConflicts\u001b[22m ────────────────────────────────────────── tidyverse_conflicts() ──\n",
      "\u001b[31m✖\u001b[39m \u001b[34mdplyr\u001b[39m::\u001b[32mfilter()\u001b[39m masks \u001b[34mstats\u001b[39m::filter()\n",
      "\u001b[31m✖\u001b[39m \u001b[34mdplyr\u001b[39m::\u001b[32mlag()\u001b[39m    masks \u001b[34mstats\u001b[39m::lag()\n"
     ]
    }
   ],
   "source": [
    "# install.packages('nycflights13')\n",
    "library(tidyverse)\n",
    "library(nycflights13)"
   ]
  },
  {
   "cell_type": "code",
   "execution_count": 3,
   "metadata": {
    "colab": {
     "base_uri": "https://localhost:8080/"
    },
    "id": "v5fWVoQgXwi-",
    "outputId": "53066f53-e8fb-41b7-e4e2-b918cfdcc0ba"
   },
   "outputs": [
    {
     "name": "stdout",
     "output_type": "stream",
     "text": [
      "\u001b[90m# A tibble: 336,776 × 19\u001b[39m\n",
      "    year month   day dep_time sched_de…¹ dep_d…² arr_t…³ sched…⁴ arr_d…⁵ carrier\n",
      "   \u001b[3m\u001b[90m<int>\u001b[39m\u001b[23m \u001b[3m\u001b[90m<int>\u001b[39m\u001b[23m \u001b[3m\u001b[90m<int>\u001b[39m\u001b[23m    \u001b[3m\u001b[90m<int>\u001b[39m\u001b[23m      \u001b[3m\u001b[90m<int>\u001b[39m\u001b[23m   \u001b[3m\u001b[90m<dbl>\u001b[39m\u001b[23m   \u001b[3m\u001b[90m<int>\u001b[39m\u001b[23m   \u001b[3m\u001b[90m<int>\u001b[39m\u001b[23m   \u001b[3m\u001b[90m<dbl>\u001b[39m\u001b[23m \u001b[3m\u001b[90m<chr>\u001b[39m\u001b[23m  \n",
      "\u001b[90m 1\u001b[39m  \u001b[4m2\u001b[24m013     1     1      517        515       2     830     819      11 UA     \n",
      "\u001b[90m 2\u001b[39m  \u001b[4m2\u001b[24m013     1     1      533        529       4     850     830      20 UA     \n",
      "\u001b[90m 3\u001b[39m  \u001b[4m2\u001b[24m013     1     1      542        540       2     923     850      33 AA     \n",
      "\u001b[90m 4\u001b[39m  \u001b[4m2\u001b[24m013     1     1      544        545      -\u001b[31m1\u001b[39m    \u001b[4m1\u001b[24m004    \u001b[4m1\u001b[24m022     -\u001b[31m18\u001b[39m B6     \n",
      "\u001b[90m 5\u001b[39m  \u001b[4m2\u001b[24m013     1     1      554        600      -\u001b[31m6\u001b[39m     812     837     -\u001b[31m25\u001b[39m DL     \n",
      "\u001b[90m 6\u001b[39m  \u001b[4m2\u001b[24m013     1     1      554        558      -\u001b[31m4\u001b[39m     740     728      12 UA     \n",
      "\u001b[90m 7\u001b[39m  \u001b[4m2\u001b[24m013     1     1      555        600      -\u001b[31m5\u001b[39m     913     854      19 B6     \n",
      "\u001b[90m 8\u001b[39m  \u001b[4m2\u001b[24m013     1     1      557        600      -\u001b[31m3\u001b[39m     709     723     -\u001b[31m14\u001b[39m EV     \n",
      "\u001b[90m 9\u001b[39m  \u001b[4m2\u001b[24m013     1     1      557        600      -\u001b[31m3\u001b[39m     838     846      -\u001b[31m8\u001b[39m B6     \n",
      "\u001b[90m10\u001b[39m  \u001b[4m2\u001b[24m013     1     1      558        600      -\u001b[31m2\u001b[39m     753     745       8 AA     \n",
      "\u001b[90m# … with 336,766 more rows, 9 more variables: flight <int>, tailnum <chr>,\u001b[39m\n",
      "\u001b[90m#   origin <chr>, dest <chr>, air_time <dbl>, distance <dbl>, hour <dbl>,\u001b[39m\n",
      "\u001b[90m#   minute <dbl>, time_hour <dttm>, and abbreviated variable names\u001b[39m\n",
      "\u001b[90m#   ¹​sched_dep_time, ²​dep_delay, ³​arr_time, ⁴​sched_arr_time, ⁵​arr_delay\u001b[39m\n"
     ]
    }
   ],
   "source": [
    "print(flights)"
   ]
  },
  {
   "cell_type": "markdown",
   "metadata": {
    "id": "E-pwskoOXwi-"
   },
   "source": [
    "Tibble is similar to dataframe and we will learn more about it later in the course.   For now, you can interpret it as a dataframe. \n",
    "\n",
    "Notice the types of the variables in `flights`. They include:\n",
    "\n",
    "* **int** integers\n",
    "* **dbl** double precision floating point numbers\n",
    "* **chr** character vectors, or strings\n",
    "* **dttm** date-time (a date along with a time)\n",
    "\n",
    "Other types available in R but not represented above include:\n",
    "\n",
    "* **lgl** logical (either `TRUE` or `FALSE`)\n",
    "* **fctr** factor (categorical variable with a fixed number of possible values)\n",
    "* **date** date"
   ]
  },
  {
   "cell_type": "markdown",
   "metadata": {
    "id": "OIiRR8JPXwjA"
   },
   "source": [
    "## What's a data frame?\n",
    "\n",
    "Our main goal in R is to work with data, and one of the most fundamental objects in R is the *data frame*. Think of a data frame as a container for a bunch of *vectors* of data:\n",
    "\n",
    "![dataframe](https://garrettgman.github.io/images/tidy-2.png)"
   ]
  },
  {
   "cell_type": "markdown",
   "metadata": {
    "id": "bl3Z26kGXwjA"
   },
   "source": [
    "## Row operation #1: Filtering data\n",
    "The first operation we'll learn about is filtering. Filtering is interpereted to mean \"keep only the rows whose columns match these criteria\". The syntax for the `filter` command is \n",
    "```{r}\n",
    "filter(<TABLE>, <LOGICAL CRITERIA>)\n",
    "```\n",
    "This commands returns a new tibble whose rows all match the specified criteria."
   ]
  },
  {
   "cell_type": "markdown",
   "metadata": {
    "id": "rH2jdAccXwjB"
   },
   "source": [
    "### Types of logical criteria\n",
    "For those who are new to programming, we now briefly review [wikipedia boolean logic](https://en.wikipedia.org/wiki/Boolean_algebra); [eBook-reference](https://r4ds.hadley.nz/logicals.html#boolean-algebra). The basic logical operators in R are `>`, `>=`, `<`, `<=`, `!=` (not equal), and `==` (equal). The first four are used for comparing numbers and function exactly as in mathematics:\n",
    "```{r}\n",
    "> 1 > 1\n",
    "[1] FALSE\n",
    "> 1 >= 1\n",
    "[1] TRUE\n",
    "> 2.5 < 3\n",
    "[1] TRUE\n",
    "> 2.5 <= 3\n",
    "[1] TRUE\n",
    "```"
   ]
  },
  {
   "cell_type": "markdown",
   "metadata": {
    "id": "16mz81GWXwjB"
   },
   "source": [
    "### Assignment vs. equality\n",
    "An extremely common mistake for beginner programmers is to confuse `=` and `==` (\"double equals\") when writing code. As we have seen,\n",
    "- `=` is used for\n",
    "    - assigning a value to a variable, and\n",
    "    - passing a named parameter into a function. \n",
    "- `==` is used for testing equality. "
   ]
  },
  {
   "cell_type": "markdown",
   "metadata": {
    "id": "bEZrI2a0XwjB"
   },
   "source": [
    "\n",
    "```{r}\n",
    "> a = 1  # assigns the integer 1 to a\n",
    "> b = 2  # assigns the integer 2 to b\n",
    "> a == 1 # tests that a equals 1\n",
    "[1] TRUE\n",
    "> b == 1 # tests that b equals 1\n",
    "[1] FALSE\n",
    "```"
   ]
  },
  {
   "cell_type": "code",
   "execution_count": 4,
   "metadata": {
    "colab": {
     "base_uri": "https://localhost:8080/",
     "height": 34
    },
    "id": "-67qUKikXwjC",
    "outputId": "2526564c-3ffb-4d1f-ca68-72ba7ed7a114"
   },
   "outputs": [
    {
     "data": {
      "text/html": [
       "TRUE"
      ],
      "text/latex": [
       "TRUE"
      ],
      "text/markdown": [
       "TRUE"
      ],
      "text/plain": [
       "[1] TRUE"
      ]
     },
     "metadata": {},
     "output_type": "display_data"
    }
   ],
   "source": [
    "# Example of assignment vs equality\n",
    "a = 1\n",
    "a == 1"
   ]
  },
  {
   "cell_type": "markdown",
   "metadata": {
    "id": "xZOqrc3kXwjC"
   },
   "source": [
    "### Boolean operations\n",
    "Logical expressions are combined using *boolean operations*. The basic boolean operations are `and`, `or`, and `not`, denoted `&`, `|` and `!` respectively."
   ]
  },
  {
   "cell_type": "code",
   "execution_count": 5,
   "metadata": {
    "colab": {
     "base_uri": "https://localhost:8080/",
     "height": 69
    },
    "id": "ZDSpdwv2XwjC",
    "outputId": "6b9d2835-e1aa-4bb5-ca36-e040c7da2524"
   },
   "outputs": [
    {
     "data": {
      "text/html": [
       "TRUE"
      ],
      "text/latex": [
       "TRUE"
      ],
      "text/markdown": [
       "TRUE"
      ],
      "text/plain": [
       "[1] TRUE"
      ]
     },
     "metadata": {},
     "output_type": "display_data"
    },
    {
     "data": {
      "text/html": [
       "TRUE"
      ],
      "text/latex": [
       "TRUE"
      ],
      "text/markdown": [
       "TRUE"
      ],
      "text/plain": [
       "[1] TRUE"
      ]
     },
     "metadata": {},
     "output_type": "display_data"
    },
    {
     "data": {
      "text/html": [
       "FALSE"
      ],
      "text/latex": [
       "FALSE"
      ],
      "text/markdown": [
       "FALSE"
      ],
      "text/plain": [
       "[1] FALSE"
      ]
     },
     "metadata": {},
     "output_type": "display_data"
    }
   ],
   "source": [
    "! FALSE\n",
    "FALSE | TRUE\n",
    "! TRUE"
   ]
  },
  {
   "cell_type": "markdown",
   "metadata": {
    "id": "LdCaJAq0XwjD"
   },
   "source": [
    "There are also doubled versions of `&` and `|` denoted `&&` and `||`. Do not use these yet. We will return to them later in the course when we discuss programming and control flow."
   ]
  },
  {
   "cell_type": "markdown",
   "metadata": {
    "id": "SBeh4WMNXwjD"
   },
   "source": [
    "R abbreviates `TRUE` and `FALSE` as `T` and `F`:"
   ]
  },
  {
   "cell_type": "code",
   "execution_count": 6,
   "metadata": {
    "colab": {
     "base_uri": "https://localhost:8080/",
     "height": 34
    },
    "id": "FnG69hRtXwjD",
    "outputId": "0ffa9906-3086-4847-a0ef-dc56f422acd0"
   },
   "outputs": [
    {
     "data": {
      "text/html": [
       "<style>\n",
       ".list-inline {list-style: none; margin:0; padding: 0}\n",
       ".list-inline>li {display: inline-block}\n",
       ".list-inline>li:not(:last-child)::after {content: \"\\00b7\"; padding: 0 .5ex}\n",
       "</style>\n",
       "<ol class=list-inline><li>TRUE</li><li>FALSE</li></ol>\n"
      ],
      "text/latex": [
       "\\begin{enumerate*}\n",
       "\\item TRUE\n",
       "\\item FALSE\n",
       "\\end{enumerate*}\n"
      ],
      "text/markdown": [
       "1. TRUE\n",
       "2. FALSE\n",
       "\n",
       "\n"
      ],
      "text/plain": [
       "[1]  TRUE FALSE"
      ]
     },
     "metadata": {},
     "output_type": "display_data"
    }
   ],
   "source": [
    "c(T, F)"
   ]
  },
  {
   "cell_type": "markdown",
   "metadata": {
    "id": "b8Po-lVNXwjE"
   },
   "source": [
    "### Vectorization\n",
    "What happens when we ask whether a *vector* satisfies a logical condition? R returns a new logical vector with the same number of entries, showing whether each entry satisfies that condition:"
   ]
  },
  {
   "cell_type": "code",
   "execution_count": 7,
   "metadata": {
    "colab": {
     "base_uri": "https://localhost:8080/",
     "height": 52
    },
    "id": "ZfMrtDhGXwjE",
    "outputId": "7e18897c-71be-4f49-d588-c50c95ad793e"
   },
   "outputs": [
    {
     "name": "stdout",
     "output_type": "stream",
     "text": [
      " [1]  1  2  3  4  5  6  7  8  9 10\n"
     ]
    },
    {
     "data": {
      "text/html": [
       "<style>\n",
       ".list-inline {list-style: none; margin:0; padding: 0}\n",
       ".list-inline>li {display: inline-block}\n",
       ".list-inline>li:not(:last-child)::after {content: \"\\00b7\"; padding: 0 .5ex}\n",
       "</style>\n",
       "<ol class=list-inline><li>FALSE</li><li>FALSE</li><li>FALSE</li><li>TRUE</li><li>TRUE</li><li>TRUE</li><li>TRUE</li><li>TRUE</li><li>TRUE</li><li>TRUE</li></ol>\n"
      ],
      "text/latex": [
       "\\begin{enumerate*}\n",
       "\\item FALSE\n",
       "\\item FALSE\n",
       "\\item FALSE\n",
       "\\item TRUE\n",
       "\\item TRUE\n",
       "\\item TRUE\n",
       "\\item TRUE\n",
       "\\item TRUE\n",
       "\\item TRUE\n",
       "\\item TRUE\n",
       "\\end{enumerate*}\n"
      ],
      "text/markdown": [
       "1. FALSE\n",
       "2. FALSE\n",
       "3. FALSE\n",
       "4. TRUE\n",
       "5. TRUE\n",
       "6. TRUE\n",
       "7. TRUE\n",
       "8. TRUE\n",
       "9. TRUE\n",
       "10. TRUE\n",
       "\n",
       "\n"
      ],
      "text/plain": [
       " [1] FALSE FALSE FALSE  TRUE  TRUE  TRUE  TRUE  TRUE  TRUE  TRUE"
      ]
     },
     "metadata": {},
     "output_type": "display_data"
    }
   ],
   "source": [
    "# Examples of logical conditions\n",
    "a = c(1:10)\n",
    "print(a)\n",
    "a > 3"
   ]
  },
  {
   "cell_type": "markdown",
   "metadata": {
    "id": "Vyuffo-XXwjE"
   },
   "source": [
    "### Testing for membership\n",
    "Another useful operator is `%in%`:\n",
    "```r\n",
    "x %in% y\n",
    "```\n",
    "\n",
    "return `TRUE` if the value `x` is found in the vector `y`:"
   ]
  },
  {
   "cell_type": "code",
   "execution_count": 8,
   "metadata": {
    "colab": {
     "base_uri": "https://localhost:8080/",
     "height": 52
    },
    "id": "8r59WwAdXwjE",
    "outputId": "f9d99608-5f0b-43cf-df4c-7cf40dac1c6e"
   },
   "outputs": [
    {
     "data": {
      "text/html": [
       "FALSE"
      ],
      "text/latex": [
       "FALSE"
      ],
      "text/markdown": [
       "FALSE"
      ],
      "text/plain": [
       "[1] FALSE"
      ]
     },
     "metadata": {},
     "output_type": "display_data"
    },
    {
     "data": {
      "text/html": [
       "FALSE"
      ],
      "text/latex": [
       "FALSE"
      ],
      "text/markdown": [
       "FALSE"
      ],
      "text/plain": [
       "[1] FALSE"
      ]
     },
     "metadata": {},
     "output_type": "display_data"
    }
   ],
   "source": [
    "\"a\" %in% c(1, 2, 3)\n",
    "(\"a\" == 1) | (\"a\" == 2) | (\"a\" == 3)"
   ]
  },
  {
   "cell_type": "markdown",
   "metadata": {
    "id": "J7AkH5eRXwjF"
   },
   "source": [
    "## Missing data\n",
    "Something you will often encounter when working with real data are missing observations. R has a special value, `NA` , for representing missing data. You can think of the value of `NA` as \"I don't know\". Thus, logical and mathematical operations involving `NA` will again return `NA`, so that `NA`s \"propagate through\" the computation:"
   ]
  },
  {
   "cell_type": "code",
   "execution_count": 9,
   "metadata": {
    "colab": {
     "base_uri": "https://localhost:8080/",
     "height": 34
    },
    "id": "LH_HFpoPXwjF",
    "outputId": "b5630dcc-821d-4ba5-f627-fcad95766aae"
   },
   "outputs": [
    {
     "data": {
      "text/html": [
       "&lt;NA&gt;"
      ],
      "text/latex": [
       "<NA>"
      ],
      "text/markdown": [
       "&lt;NA&gt;"
      ],
      "text/plain": [
       "[1] NA"
      ]
     },
     "metadata": {},
     "output_type": "display_data"
    }
   ],
   "source": [
    "NA + 5 # 5 + I-don't-know = I-don't-know"
   ]
  },
  {
   "cell_type": "code",
   "execution_count": 10,
   "metadata": {
    "colab": {
     "base_uri": "https://localhost:8080/",
     "height": 34
    },
    "id": "HY--UUfZXwjF",
    "outputId": "45fb6fba-9416-45b0-8b63-c2db267bf672"
   },
   "outputs": [
    {
     "data": {
      "text/html": [
       "&lt;NA&gt;"
      ],
      "text/latex": [
       "<NA>"
      ],
      "text/markdown": [
       "&lt;NA&gt;"
      ],
      "text/plain": [
       "[1] NA"
      ]
     },
     "metadata": {},
     "output_type": "display_data"
    }
   ],
   "source": [
    "1 < NA  # Is 1 less that I-don't-know? I don't know."
   ]
  },
  {
   "cell_type": "code",
   "execution_count": 11,
   "metadata": {
    "colab": {
     "base_uri": "https://localhost:8080/",
     "height": 52
    },
    "id": "u9RuCfZaXwjG",
    "outputId": "55a73372-9fe3-4105-f07a-db2d944a24c2"
   },
   "outputs": [
    {
     "data": {
      "text/html": [
       "&lt;NA&gt;"
      ],
      "text/latex": [
       "<NA>"
      ],
      "text/markdown": [
       "&lt;NA&gt;"
      ],
      "text/plain": [
       "[1] NA"
      ]
     },
     "metadata": {},
     "output_type": "display_data"
    },
    {
     "data": {
      "text/html": [
       "2"
      ],
      "text/latex": [
       "2"
      ],
      "text/markdown": [
       "2"
      ],
      "text/plain": [
       "[1] 2"
      ]
     },
     "metadata": {},
     "output_type": "display_data"
    }
   ],
   "source": [
    "NA < NA  # Is I-don't-know greater than I-don't-know? I don't know.\n",
    "mean(c(1, NA, 3), na.rm=T) # And so forth."
   ]
  },
  {
   "cell_type": "code",
   "execution_count": 12,
   "metadata": {
    "colab": {
     "base_uri": "https://localhost:8080/",
     "height": 34
    },
    "id": "iM6OqIdHXwjG",
    "outputId": "ba9ec0f0-4acb-4a15-d864-3b2116fa8c19"
   },
   "outputs": [
    {
     "data": {
      "text/html": [
       "&lt;NA&gt;"
      ],
      "text/latex": [
       "<NA>"
      ],
      "text/markdown": [
       "&lt;NA&gt;"
      ],
      "text/plain": [
       "[1] NA"
      ]
     },
     "metadata": {},
     "output_type": "display_data"
    }
   ],
   "source": [
    "NA == 1"
   ]
  },
  {
   "cell_type": "markdown",
   "metadata": {
    "id": "LF2g8B8AXwjG"
   },
   "source": [
    "Since you cannot test `NA`s for equality, R has a special function for determining whether a value is `NA`:"
   ]
  },
  {
   "cell_type": "code",
   "execution_count": 13,
   "metadata": {
    "colab": {
     "base_uri": "https://localhost:8080/",
     "height": 69
    },
    "id": "Sm_E9k8sXwjH",
    "outputId": "14111577-89f8-4ed6-961f-cb937b5a7dab"
   },
   "outputs": [
    {
     "data": {
      "text/html": [
       "&lt;NA&gt;"
      ],
      "text/latex": [
       "<NA>"
      ],
      "text/markdown": [
       "&lt;NA&gt;"
      ],
      "text/plain": [
       "[1] NA"
      ]
     },
     "metadata": {},
     "output_type": "display_data"
    },
    {
     "data": {
      "text/html": [
       "TRUE"
      ],
      "text/latex": [
       "TRUE"
      ],
      "text/markdown": [
       "TRUE"
      ],
      "text/plain": [
       "[1] TRUE"
      ]
     },
     "metadata": {},
     "output_type": "display_data"
    },
    {
     "data": {
      "text/html": [
       "FALSE"
      ],
      "text/latex": [
       "FALSE"
      ],
      "text/markdown": [
       "FALSE"
      ],
      "text/plain": [
       "[1] FALSE"
      ]
     },
     "metadata": {},
     "output_type": "display_data"
    }
   ],
   "source": [
    "5 == NA\n",
    "\n",
    "is.na(NA)\n",
    "is.na(1)"
   ]
  },
  {
   "cell_type": "code",
   "execution_count": 14,
   "metadata": {
    "colab": {
     "base_uri": "https://localhost:8080/",
     "height": 34
    },
    "id": "plYVdPUEXwjH",
    "outputId": "0760d952-8cbc-4c8d-d4cd-1a4cd96d49de"
   },
   "outputs": [
    {
     "data": {
      "text/html": [
       "<style>\n",
       ".list-inline {list-style: none; margin:0; padding: 0}\n",
       ".list-inline>li {display: inline-block}\n",
       ".list-inline>li:not(:last-child)::after {content: \"\\00b7\"; padding: 0 .5ex}\n",
       "</style>\n",
       "<ol class=list-inline><li>FALSE</li><li>FALSE</li><li>FALSE</li><li>TRUE</li></ol>\n"
      ],
      "text/latex": [
       "\\begin{enumerate*}\n",
       "\\item FALSE\n",
       "\\item FALSE\n",
       "\\item FALSE\n",
       "\\item TRUE\n",
       "\\end{enumerate*}\n"
      ],
      "text/markdown": [
       "1. FALSE\n",
       "2. FALSE\n",
       "3. FALSE\n",
       "4. TRUE\n",
       "\n",
       "\n"
      ],
      "text/plain": [
       "[1] FALSE FALSE FALSE  TRUE"
      ]
     },
     "metadata": {},
     "output_type": "display_data"
    }
   ],
   "source": [
    "# Examples of missing values with the ages vector\n",
    "\n",
    "ages = c(10, 20, 30, NA)\n",
    "is.na(ages)"
   ]
  },
  {
   "cell_type": "markdown",
   "metadata": {
    "id": "Ke04foQBXwjI"
   },
   "source": [
    "### Examples of filtering\n",
    "Let's use what we have just learned to evaluate some simple queries on the `flights` dataset. Let's first narrow down to all flights that departed on December 31:"
   ]
  },
  {
   "cell_type": "code",
   "execution_count": 15,
   "metadata": {
    "colab": {
     "base_uri": "https://localhost:8080/",
     "height": 1000
    },
    "id": "vkNflG_ZXwjI",
    "outputId": "c7c4531e-6f15-4b49-8581-e41e2fafa618"
   },
   "outputs": [
    {
     "data": {
      "text/html": [
       "<table class=\"dataframe\">\n",
       "<caption>A tibble: 776 × 19</caption>\n",
       "<thead>\n",
       "\t<tr><th scope=col>year</th><th scope=col>month</th><th scope=col>day</th><th scope=col>dep_time</th><th scope=col>sched_dep_time</th><th scope=col>dep_delay</th><th scope=col>arr_time</th><th scope=col>sched_arr_time</th><th scope=col>arr_delay</th><th scope=col>carrier</th><th scope=col>flight</th><th scope=col>tailnum</th><th scope=col>origin</th><th scope=col>dest</th><th scope=col>air_time</th><th scope=col>distance</th><th scope=col>hour</th><th scope=col>minute</th><th scope=col>time_hour</th></tr>\n",
       "\t<tr><th scope=col>&lt;int&gt;</th><th scope=col>&lt;int&gt;</th><th scope=col>&lt;int&gt;</th><th scope=col>&lt;int&gt;</th><th scope=col>&lt;int&gt;</th><th scope=col>&lt;dbl&gt;</th><th scope=col>&lt;int&gt;</th><th scope=col>&lt;int&gt;</th><th scope=col>&lt;dbl&gt;</th><th scope=col>&lt;chr&gt;</th><th scope=col>&lt;int&gt;</th><th scope=col>&lt;chr&gt;</th><th scope=col>&lt;chr&gt;</th><th scope=col>&lt;chr&gt;</th><th scope=col>&lt;dbl&gt;</th><th scope=col>&lt;dbl&gt;</th><th scope=col>&lt;dbl&gt;</th><th scope=col>&lt;dbl&gt;</th><th scope=col>&lt;dttm&gt;</th></tr>\n",
       "</thead>\n",
       "<tbody>\n",
       "\t<tr><td>2013</td><td>12</td><td>31</td><td> 13</td><td>2359</td><td> 14</td><td> 439</td><td> 437</td><td>  2</td><td>B6</td><td> 839</td><td>N566JB</td><td>JFK</td><td>BQN</td><td>189</td><td>1576</td><td>23</td><td>59</td><td>2013-12-31 23:00:00</td></tr>\n",
       "\t<tr><td>2013</td><td>12</td><td>31</td><td> 18</td><td>2359</td><td> 19</td><td> 449</td><td> 444</td><td>  5</td><td>DL</td><td> 412</td><td>N713TW</td><td>JFK</td><td>SJU</td><td>192</td><td>1598</td><td>23</td><td>59</td><td>2013-12-31 23:00:00</td></tr>\n",
       "\t<tr><td>2013</td><td>12</td><td>31</td><td> 26</td><td>2245</td><td>101</td><td> 129</td><td>2353</td><td> 96</td><td>B6</td><td> 108</td><td>N374JB</td><td>JFK</td><td>PWM</td><td> 50</td><td> 273</td><td>22</td><td>45</td><td>2013-12-31 22:00:00</td></tr>\n",
       "\t<tr><td>2013</td><td>12</td><td>31</td><td>459</td><td> 500</td><td> -1</td><td> 655</td><td> 651</td><td>  4</td><td>US</td><td>1895</td><td>N557UW</td><td>EWR</td><td>CLT</td><td> 95</td><td> 529</td><td> 5</td><td> 0</td><td>2013-12-31 05:00:00</td></tr>\n",
       "\t<tr><td>2013</td><td>12</td><td>31</td><td>514</td><td> 515</td><td> -1</td><td> 814</td><td> 812</td><td>  2</td><td>UA</td><td> 700</td><td>N470UA</td><td>EWR</td><td>IAH</td><td>223</td><td>1400</td><td> 5</td><td>15</td><td>2013-12-31 05:00:00</td></tr>\n",
       "\t<tr><td>2013</td><td>12</td><td>31</td><td>549</td><td> 551</td><td> -2</td><td> 925</td><td> 900</td><td> 25</td><td>UA</td><td> 274</td><td>N577UA</td><td>EWR</td><td>LAX</td><td>346</td><td>2454</td><td> 5</td><td>51</td><td>2013-12-31 05:00:00</td></tr>\n",
       "\t<tr><td>2013</td><td>12</td><td>31</td><td>550</td><td> 600</td><td>-10</td><td> 725</td><td> 745</td><td>-20</td><td>AA</td><td> 301</td><td>N3CXAA</td><td>LGA</td><td>ORD</td><td>127</td><td> 733</td><td> 6</td><td> 0</td><td>2013-12-31 06:00:00</td></tr>\n",
       "\t<tr><td>2013</td><td>12</td><td>31</td><td>552</td><td> 600</td><td> -8</td><td> 811</td><td> 826</td><td>-15</td><td>EV</td><td>3825</td><td>N14916</td><td>EWR</td><td>IND</td><td>118</td><td> 645</td><td> 6</td><td> 0</td><td>2013-12-31 06:00:00</td></tr>\n",
       "\t<tr><td>2013</td><td>12</td><td>31</td><td>553</td><td> 600</td><td> -7</td><td> 741</td><td> 754</td><td>-13</td><td>DL</td><td> 731</td><td>N333NB</td><td>LGA</td><td>DTW</td><td> 86</td><td> 502</td><td> 6</td><td> 0</td><td>2013-12-31 06:00:00</td></tr>\n",
       "\t<tr><td>2013</td><td>12</td><td>31</td><td>554</td><td> 550</td><td>  4</td><td>1024</td><td>1027</td><td> -3</td><td>B6</td><td> 939</td><td>N552JB</td><td>JFK</td><td>BQN</td><td>195</td><td>1576</td><td> 5</td><td>50</td><td>2013-12-31 05:00:00</td></tr>\n",
       "\t<tr><td>2013</td><td>12</td><td>31</td><td>555</td><td> 600</td><td> -5</td><td> 901</td><td> 849</td><td> 12</td><td>B6</td><td> 353</td><td>N746JB</td><td>JFK</td><td>PBI</td><td>167</td><td>1028</td><td> 6</td><td> 0</td><td>2013-12-31 06:00:00</td></tr>\n",
       "\t<tr><td>2013</td><td>12</td><td>31</td><td>555</td><td> 600</td><td> -5</td><td> 835</td><td> 831</td><td>  4</td><td>DL</td><td> 904</td><td>N3741S</td><td>LGA</td><td>ATL</td><td>137</td><td> 762</td><td> 6</td><td> 0</td><td>2013-12-31 06:00:00</td></tr>\n",
       "\t<tr><td>2013</td><td>12</td><td>31</td><td>555</td><td> 551</td><td>  4</td><td> 853</td><td> 851</td><td>  2</td><td>UA</td><td> 566</td><td>N491UA</td><td>EWR</td><td>TPA</td><td>164</td><td> 997</td><td> 5</td><td>51</td><td>2013-12-31 05:00:00</td></tr>\n",
       "\t<tr><td>2013</td><td>12</td><td>31</td><td>556</td><td> 600</td><td> -4</td><td> 909</td><td> 846</td><td> 23</td><td>B6</td><td> 583</td><td>N715JB</td><td>JFK</td><td>MCO</td><td>162</td><td> 944</td><td> 6</td><td> 0</td><td>2013-12-31 06:00:00</td></tr>\n",
       "\t<tr><td>2013</td><td>12</td><td>31</td><td>556</td><td> 605</td><td> -9</td><td> 808</td><td> 814</td><td> -6</td><td>DL</td><td>1919</td><td>N958DL</td><td>LGA</td><td>MSP</td><td>160</td><td>1020</td><td> 6</td><td> 5</td><td>2013-12-31 06:00:00</td></tr>\n",
       "\t<tr><td>2013</td><td>12</td><td>31</td><td>557</td><td> 603</td><td> -6</td><td> 719</td><td> 719</td><td>  0</td><td>EV</td><td>4241</td><td>N15574</td><td>EWR</td><td>DCA</td><td> 45</td><td> 199</td><td> 6</td><td> 3</td><td>2013-12-31 06:00:00</td></tr>\n",
       "\t<tr><td>2013</td><td>12</td><td>31</td><td>558</td><td> 600</td><td> -2</td><td> 919</td><td> 905</td><td> 14</td><td>AA</td><td>1175</td><td>N3JEAA</td><td>LGA</td><td>MIA</td><td>173</td><td>1096</td><td> 6</td><td> 0</td><td>2013-12-31 06:00:00</td></tr>\n",
       "\t<tr><td>2013</td><td>12</td><td>31</td><td>559</td><td> 600</td><td> -1</td><td> 917</td><td> 855</td><td> 22</td><td>B6</td><td> 605</td><td>N597JB</td><td>EWR</td><td>FLL</td><td>167</td><td>1065</td><td> 6</td><td> 0</td><td>2013-12-31 06:00:00</td></tr>\n",
       "\t<tr><td>2013</td><td>12</td><td>31</td><td>600</td><td> 540</td><td> 20</td><td> 928</td><td> 850</td><td> 38</td><td>AA</td><td>2243</td><td>N5EMAA</td><td>JFK</td><td>MIA</td><td>171</td><td>1089</td><td> 5</td><td>40</td><td>2013-12-31 05:00:00</td></tr>\n",
       "\t<tr><td>2013</td><td>12</td><td>31</td><td>602</td><td> 605</td><td> -3</td><td> 744</td><td> 805</td><td>-21</td><td>DL</td><td>2505</td><td>N358NB</td><td>EWR</td><td>DTW</td><td> 87</td><td> 488</td><td> 6</td><td> 5</td><td>2013-12-31 06:00:00</td></tr>\n",
       "\t<tr><td>2013</td><td>12</td><td>31</td><td>602</td><td> 605</td><td> -3</td><td> 708</td><td> 723</td><td>-15</td><td>EV</td><td>6177</td><td>N14543</td><td>EWR</td><td>IAD</td><td> 45</td><td> 212</td><td> 6</td><td> 5</td><td>2013-12-31 06:00:00</td></tr>\n",
       "\t<tr><td>2013</td><td>12</td><td>31</td><td>603</td><td> 611</td><td> -8</td><td>1045</td><td>1055</td><td>-10</td><td>B6</td><td>1403</td><td>N547JB</td><td>JFK</td><td>SJU</td><td>198</td><td>1598</td><td> 6</td><td>11</td><td>2013-12-31 06:00:00</td></tr>\n",
       "\t<tr><td>2013</td><td>12</td><td>31</td><td>607</td><td> 600</td><td>  7</td><td> 848</td><td> 825</td><td> 23</td><td>WN</td><td>1716</td><td>N7740A</td><td>LGA</td><td>ATL</td><td>137</td><td> 762</td><td> 6</td><td> 0</td><td>2013-12-31 06:00:00</td></tr>\n",
       "\t<tr><td>2013</td><td>12</td><td>31</td><td>608</td><td> 615</td><td> -7</td><td> 812</td><td> 818</td><td> -6</td><td>US</td><td>1963</td><td>N192UW</td><td>EWR</td><td>CLT</td><td>106</td><td> 529</td><td> 6</td><td>15</td><td>2013-12-31 06:00:00</td></tr>\n",
       "\t<tr><td>2013</td><td>12</td><td>31</td><td>609</td><td> 610</td><td> -1</td><td> 911</td><td> 915</td><td> -4</td><td>AA</td><td>1205</td><td>N5DHAA</td><td>EWR</td><td>MIA</td><td>163</td><td>1085</td><td> 6</td><td>10</td><td>2013-12-31 06:00:00</td></tr>\n",
       "\t<tr><td>2013</td><td>12</td><td>31</td><td>609</td><td> 615</td><td> -6</td><td> 848</td><td> 850</td><td> -2</td><td>DL</td><td> 404</td><td>N392DA</td><td>JFK</td><td>ATL</td><td>133</td><td> 760</td><td> 6</td><td>15</td><td>2013-12-31 06:00:00</td></tr>\n",
       "\t<tr><td>2013</td><td>12</td><td>31</td><td>609</td><td> 614</td><td> -5</td><td> 755</td><td> 751</td><td>  4</td><td>EV</td><td>3812</td><td>N13994</td><td>EWR</td><td>RDU</td><td> 81</td><td> 416</td><td> 6</td><td>14</td><td>2013-12-31 06:00:00</td></tr>\n",
       "\t<tr><td>2013</td><td>12</td><td>31</td><td>610</td><td> 615</td><td> -5</td><td> 828</td><td> 849</td><td>-21</td><td>DL</td><td> 479</td><td>N3766 </td><td>JFK</td><td>ATL</td><td>119</td><td> 760</td><td> 6</td><td>15</td><td>2013-12-31 06:00:00</td></tr>\n",
       "\t<tr><td>2013</td><td>12</td><td>31</td><td>616</td><td> 611</td><td>  5</td><td> 933</td><td> 912</td><td> 21</td><td>B6</td><td> 601</td><td>N643JB</td><td>JFK</td><td>FLL</td><td>173</td><td>1069</td><td> 6</td><td>11</td><td>2013-12-31 06:00:00</td></tr>\n",
       "\t<tr><td>2013</td><td>12</td><td>31</td><td>616</td><td> 630</td><td>-14</td><td> 922</td><td> 919</td><td>  3</td><td>B6</td><td>1099</td><td>N563JB</td><td>LGA</td><td>MCO</td><td>159</td><td> 950</td><td> 6</td><td>30</td><td>2013-12-31 06:00:00</td></tr>\n",
       "\t<tr><td>⋮</td><td>⋮</td><td>⋮</td><td>⋮</td><td>⋮</td><td>⋮</td><td>⋮</td><td>⋮</td><td>⋮</td><td>⋮</td><td>⋮</td><td>⋮</td><td>⋮</td><td>⋮</td><td>⋮</td><td>⋮</td><td>⋮</td><td>⋮</td><td>⋮</td></tr>\n",
       "\t<tr><td>2013</td><td>12</td><td>31</td><td>2155</td><td>2039</td><td> 76</td><td> 253</td><td>2355</td><td> NA</td><td>B6</td><td>1205</td><td>N627JB</td><td>JFK</td><td>PDX</td><td> NA</td><td>2454</td><td>20</td><td>39</td><td>2013-12-31 20:00:00</td></tr>\n",
       "\t<tr><td>2013</td><td>12</td><td>31</td><td>2155</td><td>2150</td><td>  5</td><td> 110</td><td>  51</td><td> 19</td><td>B6</td><td>1901</td><td>N729JB</td><td>JFK</td><td>FLL</td><td>164</td><td>1069</td><td>21</td><td>50</td><td>2013-12-31 21:00:00</td></tr>\n",
       "\t<tr><td>2013</td><td>12</td><td>31</td><td>2159</td><td>2155</td><td>  4</td><td>  55</td><td>  46</td><td>  9</td><td>B6</td><td>2053</td><td>N593JB</td><td>JFK</td><td>PBI</td><td>155</td><td>1028</td><td>21</td><td>55</td><td>2013-12-31 21:00:00</td></tr>\n",
       "\t<tr><td>2013</td><td>12</td><td>31</td><td>2206</td><td>2110</td><td> 56</td><td>  44</td><td>2339</td><td> 65</td><td>B6</td><td> 775</td><td>N184JB</td><td>JFK</td><td>MSY</td><td>195</td><td>1182</td><td>21</td><td>10</td><td>2013-12-31 21:00:00</td></tr>\n",
       "\t<tr><td>2013</td><td>12</td><td>31</td><td>2211</td><td>2159</td><td> 12</td><td> 100</td><td>  45</td><td> 15</td><td>B6</td><td>1183</td><td>N715JB</td><td>JFK</td><td>MCO</td><td>148</td><td> 944</td><td>21</td><td>59</td><td>2013-12-31 21:00:00</td></tr>\n",
       "\t<tr><td>2013</td><td>12</td><td>31</td><td>2218</td><td>2219</td><td> -1</td><td> 315</td><td> 304</td><td> 11</td><td>B6</td><td>1203</td><td>N625JB</td><td>JFK</td><td>SJU</td><td>202</td><td>1598</td><td>22</td><td>19</td><td>2013-12-31 22:00:00</td></tr>\n",
       "\t<tr><td>2013</td><td>12</td><td>31</td><td>2235</td><td>2245</td><td>-10</td><td>2351</td><td>2355</td><td> -4</td><td>B6</td><td> 234</td><td>N355JB</td><td>JFK</td><td>BTV</td><td> 49</td><td> 266</td><td>22</td><td>45</td><td>2013-12-31 22:00:00</td></tr>\n",
       "\t<tr><td>2013</td><td>12</td><td>31</td><td>2245</td><td>2250</td><td> -5</td><td>2359</td><td>2356</td><td>  3</td><td>B6</td><td>1816</td><td>N318JB</td><td>JFK</td><td>SYR</td><td> 51</td><td> 209</td><td>22</td><td>50</td><td>2013-12-31 22:00:00</td></tr>\n",
       "\t<tr><td>2013</td><td>12</td><td>31</td><td>2310</td><td>2255</td><td> 15</td><td>   7</td><td>2356</td><td> 11</td><td>B6</td><td> 718</td><td>N279JB</td><td>JFK</td><td>BOS</td><td> 40</td><td> 187</td><td>22</td><td>55</td><td>2013-12-31 22:00:00</td></tr>\n",
       "\t<tr><td>2013</td><td>12</td><td>31</td><td>2321</td><td>2250</td><td> 31</td><td>  46</td><td>   8</td><td> 38</td><td>B6</td><td>2002</td><td>N179JB</td><td>JFK</td><td>BUF</td><td> 66</td><td> 301</td><td>22</td><td>50</td><td>2013-12-31 22:00:00</td></tr>\n",
       "\t<tr><td>2013</td><td>12</td><td>31</td><td>2328</td><td>2330</td><td> -2</td><td> 412</td><td> 409</td><td>  3</td><td>B6</td><td>1389</td><td>N651JB</td><td>EWR</td><td>SJU</td><td>198</td><td>1608</td><td>23</td><td>30</td><td>2013-12-31 23:00:00</td></tr>\n",
       "\t<tr><td>2013</td><td>12</td><td>31</td><td>2332</td><td>2245</td><td> 47</td><td>  58</td><td>   3</td><td> 55</td><td>B6</td><td> 486</td><td>N334JB</td><td>JFK</td><td>ROC</td><td> 60</td><td> 264</td><td>22</td><td>45</td><td>2013-12-31 22:00:00</td></tr>\n",
       "\t<tr><td>2013</td><td>12</td><td>31</td><td>2355</td><td>2359</td><td> -4</td><td> 430</td><td> 440</td><td>-10</td><td>B6</td><td>1503</td><td>N509JB</td><td>JFK</td><td>SJU</td><td>195</td><td>1598</td><td>23</td><td>59</td><td>2013-12-31 23:00:00</td></tr>\n",
       "\t<tr><td>2013</td><td>12</td><td>31</td><td>2356</td><td>2359</td><td> -3</td><td> 436</td><td> 445</td><td> -9</td><td>B6</td><td> 745</td><td>N665JB</td><td>JFK</td><td>PSE</td><td>200</td><td>1617</td><td>23</td><td>59</td><td>2013-12-31 23:00:00</td></tr>\n",
       "\t<tr><td>2013</td><td>12</td><td>31</td><td>  NA</td><td>1520</td><td> NA</td><td>  NA</td><td>1705</td><td> NA</td><td>AA</td><td> 341</td><td>N568AA</td><td>LGA</td><td>ORD</td><td> NA</td><td> 733</td><td>15</td><td>20</td><td>2013-12-31 15:00:00</td></tr>\n",
       "\t<tr><td>2013</td><td>12</td><td>31</td><td>  NA</td><td>2025</td><td> NA</td><td>  NA</td><td>2205</td><td> NA</td><td>AA</td><td> 371</td><td>N482AA</td><td>LGA</td><td>ORD</td><td> NA</td><td> 733</td><td>20</td><td>25</td><td>2013-12-31 20:00:00</td></tr>\n",
       "\t<tr><td>2013</td><td>12</td><td>31</td><td>  NA</td><td>1932</td><td> NA</td><td>  NA</td><td>2305</td><td> NA</td><td>B6</td><td> 161</td><td>N516JB</td><td>JFK</td><td>SMF</td><td> NA</td><td>2521</td><td>19</td><td>32</td><td>2013-12-31 19:00:00</td></tr>\n",
       "\t<tr><td>2013</td><td>12</td><td>31</td><td>  NA</td><td>1505</td><td> NA</td><td>  NA</td><td>1725</td><td> NA</td><td>EV</td><td>4181</td><td>N24103</td><td>EWR</td><td>MCI</td><td> NA</td><td>1092</td><td>15</td><td> 5</td><td>2013-12-31 15:00:00</td></tr>\n",
       "\t<tr><td>2013</td><td>12</td><td>31</td><td>  NA</td><td>1000</td><td> NA</td><td>  NA</td><td>1252</td><td> NA</td><td>UA</td><td>1124</td><td>NA    </td><td>EWR</td><td>EGE</td><td> NA</td><td>1725</td><td>10</td><td> 0</td><td>2013-12-31 10:00:00</td></tr>\n",
       "\t<tr><td>2013</td><td>12</td><td>31</td><td>  NA</td><td> 840</td><td> NA</td><td>  NA</td><td>1205</td><td> NA</td><td>UA</td><td>1151</td><td>NA    </td><td>EWR</td><td>SEA</td><td> NA</td><td>2402</td><td> 8</td><td>40</td><td>2013-12-31 08:00:00</td></tr>\n",
       "\t<tr><td>2013</td><td>12</td><td>31</td><td>  NA</td><td> 754</td><td> NA</td><td>  NA</td><td>1118</td><td> NA</td><td>UA</td><td>1455</td><td>NA    </td><td>EWR</td><td>LAX</td><td> NA</td><td>2454</td><td> 7</td><td>54</td><td>2013-12-31 07:00:00</td></tr>\n",
       "\t<tr><td>2013</td><td>12</td><td>31</td><td>  NA</td><td>2000</td><td> NA</td><td>  NA</td><td>2146</td><td> NA</td><td>UA</td><td>1482</td><td>NA    </td><td>EWR</td><td>ORD</td><td> NA</td><td> 719</td><td>20</td><td> 0</td><td>2013-12-31 20:00:00</td></tr>\n",
       "\t<tr><td>2013</td><td>12</td><td>31</td><td>  NA</td><td>1500</td><td> NA</td><td>  NA</td><td>1817</td><td> NA</td><td>UA</td><td>1483</td><td>NA    </td><td>EWR</td><td>AUS</td><td> NA</td><td>1504</td><td>15</td><td> 0</td><td>2013-12-31 15:00:00</td></tr>\n",
       "\t<tr><td>2013</td><td>12</td><td>31</td><td>  NA</td><td>1430</td><td> NA</td><td>  NA</td><td>1750</td><td> NA</td><td>UA</td><td>1493</td><td>NA    </td><td>EWR</td><td>LAX</td><td> NA</td><td>2454</td><td>14</td><td>30</td><td>2013-12-31 14:00:00</td></tr>\n",
       "\t<tr><td>2013</td><td>12</td><td>31</td><td>  NA</td><td> 855</td><td> NA</td><td>  NA</td><td>1142</td><td> NA</td><td>UA</td><td>1506</td><td>NA    </td><td>EWR</td><td>JAC</td><td> NA</td><td>1874</td><td> 8</td><td>55</td><td>2013-12-31 08:00:00</td></tr>\n",
       "\t<tr><td>2013</td><td>12</td><td>31</td><td>  NA</td><td> 705</td><td> NA</td><td>  NA</td><td> 931</td><td> NA</td><td>UA</td><td>1729</td><td>NA    </td><td>EWR</td><td>DEN</td><td> NA</td><td>1605</td><td> 7</td><td> 5</td><td>2013-12-31 07:00:00</td></tr>\n",
       "\t<tr><td>2013</td><td>12</td><td>31</td><td>  NA</td><td> 825</td><td> NA</td><td>  NA</td><td>1029</td><td> NA</td><td>US</td><td>1831</td><td>NA    </td><td>JFK</td><td>CLT</td><td> NA</td><td> 541</td><td> 8</td><td>25</td><td>2013-12-31 08:00:00</td></tr>\n",
       "\t<tr><td>2013</td><td>12</td><td>31</td><td>  NA</td><td>1615</td><td> NA</td><td>  NA</td><td>1800</td><td> NA</td><td>MQ</td><td>3301</td><td>N844MQ</td><td>LGA</td><td>RDU</td><td> NA</td><td> 431</td><td>16</td><td>15</td><td>2013-12-31 16:00:00</td></tr>\n",
       "\t<tr><td>2013</td><td>12</td><td>31</td><td>  NA</td><td> 600</td><td> NA</td><td>  NA</td><td> 735</td><td> NA</td><td>UA</td><td> 219</td><td>NA    </td><td>EWR</td><td>ORD</td><td> NA</td><td> 719</td><td> 6</td><td> 0</td><td>2013-12-31 06:00:00</td></tr>\n",
       "\t<tr><td>2013</td><td>12</td><td>31</td><td>  NA</td><td> 830</td><td> NA</td><td>  NA</td><td>1154</td><td> NA</td><td>UA</td><td> 443</td><td>NA    </td><td>JFK</td><td>LAX</td><td> NA</td><td>2475</td><td> 8</td><td>30</td><td>2013-12-31 08:00:00</td></tr>\n",
       "</tbody>\n",
       "</table>\n"
      ],
      "text/latex": [
       "A tibble: 776 × 19\n",
       "\\begin{tabular}{lllllllllllllllllll}\n",
       " year & month & day & dep\\_time & sched\\_dep\\_time & dep\\_delay & arr\\_time & sched\\_arr\\_time & arr\\_delay & carrier & flight & tailnum & origin & dest & air\\_time & distance & hour & minute & time\\_hour\\\\\n",
       " <int> & <int> & <int> & <int> & <int> & <dbl> & <int> & <int> & <dbl> & <chr> & <int> & <chr> & <chr> & <chr> & <dbl> & <dbl> & <dbl> & <dbl> & <dttm>\\\\\n",
       "\\hline\n",
       "\t 2013 & 12 & 31 &  13 & 2359 &  14 &  439 &  437 &   2 & B6 &  839 & N566JB & JFK & BQN & 189 & 1576 & 23 & 59 & 2013-12-31 23:00:00\\\\\n",
       "\t 2013 & 12 & 31 &  18 & 2359 &  19 &  449 &  444 &   5 & DL &  412 & N713TW & JFK & SJU & 192 & 1598 & 23 & 59 & 2013-12-31 23:00:00\\\\\n",
       "\t 2013 & 12 & 31 &  26 & 2245 & 101 &  129 & 2353 &  96 & B6 &  108 & N374JB & JFK & PWM &  50 &  273 & 22 & 45 & 2013-12-31 22:00:00\\\\\n",
       "\t 2013 & 12 & 31 & 459 &  500 &  -1 &  655 &  651 &   4 & US & 1895 & N557UW & EWR & CLT &  95 &  529 &  5 &  0 & 2013-12-31 05:00:00\\\\\n",
       "\t 2013 & 12 & 31 & 514 &  515 &  -1 &  814 &  812 &   2 & UA &  700 & N470UA & EWR & IAH & 223 & 1400 &  5 & 15 & 2013-12-31 05:00:00\\\\\n",
       "\t 2013 & 12 & 31 & 549 &  551 &  -2 &  925 &  900 &  25 & UA &  274 & N577UA & EWR & LAX & 346 & 2454 &  5 & 51 & 2013-12-31 05:00:00\\\\\n",
       "\t 2013 & 12 & 31 & 550 &  600 & -10 &  725 &  745 & -20 & AA &  301 & N3CXAA & LGA & ORD & 127 &  733 &  6 &  0 & 2013-12-31 06:00:00\\\\\n",
       "\t 2013 & 12 & 31 & 552 &  600 &  -8 &  811 &  826 & -15 & EV & 3825 & N14916 & EWR & IND & 118 &  645 &  6 &  0 & 2013-12-31 06:00:00\\\\\n",
       "\t 2013 & 12 & 31 & 553 &  600 &  -7 &  741 &  754 & -13 & DL &  731 & N333NB & LGA & DTW &  86 &  502 &  6 &  0 & 2013-12-31 06:00:00\\\\\n",
       "\t 2013 & 12 & 31 & 554 &  550 &   4 & 1024 & 1027 &  -3 & B6 &  939 & N552JB & JFK & BQN & 195 & 1576 &  5 & 50 & 2013-12-31 05:00:00\\\\\n",
       "\t 2013 & 12 & 31 & 555 &  600 &  -5 &  901 &  849 &  12 & B6 &  353 & N746JB & JFK & PBI & 167 & 1028 &  6 &  0 & 2013-12-31 06:00:00\\\\\n",
       "\t 2013 & 12 & 31 & 555 &  600 &  -5 &  835 &  831 &   4 & DL &  904 & N3741S & LGA & ATL & 137 &  762 &  6 &  0 & 2013-12-31 06:00:00\\\\\n",
       "\t 2013 & 12 & 31 & 555 &  551 &   4 &  853 &  851 &   2 & UA &  566 & N491UA & EWR & TPA & 164 &  997 &  5 & 51 & 2013-12-31 05:00:00\\\\\n",
       "\t 2013 & 12 & 31 & 556 &  600 &  -4 &  909 &  846 &  23 & B6 &  583 & N715JB & JFK & MCO & 162 &  944 &  6 &  0 & 2013-12-31 06:00:00\\\\\n",
       "\t 2013 & 12 & 31 & 556 &  605 &  -9 &  808 &  814 &  -6 & DL & 1919 & N958DL & LGA & MSP & 160 & 1020 &  6 &  5 & 2013-12-31 06:00:00\\\\\n",
       "\t 2013 & 12 & 31 & 557 &  603 &  -6 &  719 &  719 &   0 & EV & 4241 & N15574 & EWR & DCA &  45 &  199 &  6 &  3 & 2013-12-31 06:00:00\\\\\n",
       "\t 2013 & 12 & 31 & 558 &  600 &  -2 &  919 &  905 &  14 & AA & 1175 & N3JEAA & LGA & MIA & 173 & 1096 &  6 &  0 & 2013-12-31 06:00:00\\\\\n",
       "\t 2013 & 12 & 31 & 559 &  600 &  -1 &  917 &  855 &  22 & B6 &  605 & N597JB & EWR & FLL & 167 & 1065 &  6 &  0 & 2013-12-31 06:00:00\\\\\n",
       "\t 2013 & 12 & 31 & 600 &  540 &  20 &  928 &  850 &  38 & AA & 2243 & N5EMAA & JFK & MIA & 171 & 1089 &  5 & 40 & 2013-12-31 05:00:00\\\\\n",
       "\t 2013 & 12 & 31 & 602 &  605 &  -3 &  744 &  805 & -21 & DL & 2505 & N358NB & EWR & DTW &  87 &  488 &  6 &  5 & 2013-12-31 06:00:00\\\\\n",
       "\t 2013 & 12 & 31 & 602 &  605 &  -3 &  708 &  723 & -15 & EV & 6177 & N14543 & EWR & IAD &  45 &  212 &  6 &  5 & 2013-12-31 06:00:00\\\\\n",
       "\t 2013 & 12 & 31 & 603 &  611 &  -8 & 1045 & 1055 & -10 & B6 & 1403 & N547JB & JFK & SJU & 198 & 1598 &  6 & 11 & 2013-12-31 06:00:00\\\\\n",
       "\t 2013 & 12 & 31 & 607 &  600 &   7 &  848 &  825 &  23 & WN & 1716 & N7740A & LGA & ATL & 137 &  762 &  6 &  0 & 2013-12-31 06:00:00\\\\\n",
       "\t 2013 & 12 & 31 & 608 &  615 &  -7 &  812 &  818 &  -6 & US & 1963 & N192UW & EWR & CLT & 106 &  529 &  6 & 15 & 2013-12-31 06:00:00\\\\\n",
       "\t 2013 & 12 & 31 & 609 &  610 &  -1 &  911 &  915 &  -4 & AA & 1205 & N5DHAA & EWR & MIA & 163 & 1085 &  6 & 10 & 2013-12-31 06:00:00\\\\\n",
       "\t 2013 & 12 & 31 & 609 &  615 &  -6 &  848 &  850 &  -2 & DL &  404 & N392DA & JFK & ATL & 133 &  760 &  6 & 15 & 2013-12-31 06:00:00\\\\\n",
       "\t 2013 & 12 & 31 & 609 &  614 &  -5 &  755 &  751 &   4 & EV & 3812 & N13994 & EWR & RDU &  81 &  416 &  6 & 14 & 2013-12-31 06:00:00\\\\\n",
       "\t 2013 & 12 & 31 & 610 &  615 &  -5 &  828 &  849 & -21 & DL &  479 & N3766  & JFK & ATL & 119 &  760 &  6 & 15 & 2013-12-31 06:00:00\\\\\n",
       "\t 2013 & 12 & 31 & 616 &  611 &   5 &  933 &  912 &  21 & B6 &  601 & N643JB & JFK & FLL & 173 & 1069 &  6 & 11 & 2013-12-31 06:00:00\\\\\n",
       "\t 2013 & 12 & 31 & 616 &  630 & -14 &  922 &  919 &   3 & B6 & 1099 & N563JB & LGA & MCO & 159 &  950 &  6 & 30 & 2013-12-31 06:00:00\\\\\n",
       "\t ⋮ & ⋮ & ⋮ & ⋮ & ⋮ & ⋮ & ⋮ & ⋮ & ⋮ & ⋮ & ⋮ & ⋮ & ⋮ & ⋮ & ⋮ & ⋮ & ⋮ & ⋮ & ⋮\\\\\n",
       "\t 2013 & 12 & 31 & 2155 & 2039 &  76 &  253 & 2355 &  NA & B6 & 1205 & N627JB & JFK & PDX &  NA & 2454 & 20 & 39 & 2013-12-31 20:00:00\\\\\n",
       "\t 2013 & 12 & 31 & 2155 & 2150 &   5 &  110 &   51 &  19 & B6 & 1901 & N729JB & JFK & FLL & 164 & 1069 & 21 & 50 & 2013-12-31 21:00:00\\\\\n",
       "\t 2013 & 12 & 31 & 2159 & 2155 &   4 &   55 &   46 &   9 & B6 & 2053 & N593JB & JFK & PBI & 155 & 1028 & 21 & 55 & 2013-12-31 21:00:00\\\\\n",
       "\t 2013 & 12 & 31 & 2206 & 2110 &  56 &   44 & 2339 &  65 & B6 &  775 & N184JB & JFK & MSY & 195 & 1182 & 21 & 10 & 2013-12-31 21:00:00\\\\\n",
       "\t 2013 & 12 & 31 & 2211 & 2159 &  12 &  100 &   45 &  15 & B6 & 1183 & N715JB & JFK & MCO & 148 &  944 & 21 & 59 & 2013-12-31 21:00:00\\\\\n",
       "\t 2013 & 12 & 31 & 2218 & 2219 &  -1 &  315 &  304 &  11 & B6 & 1203 & N625JB & JFK & SJU & 202 & 1598 & 22 & 19 & 2013-12-31 22:00:00\\\\\n",
       "\t 2013 & 12 & 31 & 2235 & 2245 & -10 & 2351 & 2355 &  -4 & B6 &  234 & N355JB & JFK & BTV &  49 &  266 & 22 & 45 & 2013-12-31 22:00:00\\\\\n",
       "\t 2013 & 12 & 31 & 2245 & 2250 &  -5 & 2359 & 2356 &   3 & B6 & 1816 & N318JB & JFK & SYR &  51 &  209 & 22 & 50 & 2013-12-31 22:00:00\\\\\n",
       "\t 2013 & 12 & 31 & 2310 & 2255 &  15 &    7 & 2356 &  11 & B6 &  718 & N279JB & JFK & BOS &  40 &  187 & 22 & 55 & 2013-12-31 22:00:00\\\\\n",
       "\t 2013 & 12 & 31 & 2321 & 2250 &  31 &   46 &    8 &  38 & B6 & 2002 & N179JB & JFK & BUF &  66 &  301 & 22 & 50 & 2013-12-31 22:00:00\\\\\n",
       "\t 2013 & 12 & 31 & 2328 & 2330 &  -2 &  412 &  409 &   3 & B6 & 1389 & N651JB & EWR & SJU & 198 & 1608 & 23 & 30 & 2013-12-31 23:00:00\\\\\n",
       "\t 2013 & 12 & 31 & 2332 & 2245 &  47 &   58 &    3 &  55 & B6 &  486 & N334JB & JFK & ROC &  60 &  264 & 22 & 45 & 2013-12-31 22:00:00\\\\\n",
       "\t 2013 & 12 & 31 & 2355 & 2359 &  -4 &  430 &  440 & -10 & B6 & 1503 & N509JB & JFK & SJU & 195 & 1598 & 23 & 59 & 2013-12-31 23:00:00\\\\\n",
       "\t 2013 & 12 & 31 & 2356 & 2359 &  -3 &  436 &  445 &  -9 & B6 &  745 & N665JB & JFK & PSE & 200 & 1617 & 23 & 59 & 2013-12-31 23:00:00\\\\\n",
       "\t 2013 & 12 & 31 &   NA & 1520 &  NA &   NA & 1705 &  NA & AA &  341 & N568AA & LGA & ORD &  NA &  733 & 15 & 20 & 2013-12-31 15:00:00\\\\\n",
       "\t 2013 & 12 & 31 &   NA & 2025 &  NA &   NA & 2205 &  NA & AA &  371 & N482AA & LGA & ORD &  NA &  733 & 20 & 25 & 2013-12-31 20:00:00\\\\\n",
       "\t 2013 & 12 & 31 &   NA & 1932 &  NA &   NA & 2305 &  NA & B6 &  161 & N516JB & JFK & SMF &  NA & 2521 & 19 & 32 & 2013-12-31 19:00:00\\\\\n",
       "\t 2013 & 12 & 31 &   NA & 1505 &  NA &   NA & 1725 &  NA & EV & 4181 & N24103 & EWR & MCI &  NA & 1092 & 15 &  5 & 2013-12-31 15:00:00\\\\\n",
       "\t 2013 & 12 & 31 &   NA & 1000 &  NA &   NA & 1252 &  NA & UA & 1124 & NA     & EWR & EGE &  NA & 1725 & 10 &  0 & 2013-12-31 10:00:00\\\\\n",
       "\t 2013 & 12 & 31 &   NA &  840 &  NA &   NA & 1205 &  NA & UA & 1151 & NA     & EWR & SEA &  NA & 2402 &  8 & 40 & 2013-12-31 08:00:00\\\\\n",
       "\t 2013 & 12 & 31 &   NA &  754 &  NA &   NA & 1118 &  NA & UA & 1455 & NA     & EWR & LAX &  NA & 2454 &  7 & 54 & 2013-12-31 07:00:00\\\\\n",
       "\t 2013 & 12 & 31 &   NA & 2000 &  NA &   NA & 2146 &  NA & UA & 1482 & NA     & EWR & ORD &  NA &  719 & 20 &  0 & 2013-12-31 20:00:00\\\\\n",
       "\t 2013 & 12 & 31 &   NA & 1500 &  NA &   NA & 1817 &  NA & UA & 1483 & NA     & EWR & AUS &  NA & 1504 & 15 &  0 & 2013-12-31 15:00:00\\\\\n",
       "\t 2013 & 12 & 31 &   NA & 1430 &  NA &   NA & 1750 &  NA & UA & 1493 & NA     & EWR & LAX &  NA & 2454 & 14 & 30 & 2013-12-31 14:00:00\\\\\n",
       "\t 2013 & 12 & 31 &   NA &  855 &  NA &   NA & 1142 &  NA & UA & 1506 & NA     & EWR & JAC &  NA & 1874 &  8 & 55 & 2013-12-31 08:00:00\\\\\n",
       "\t 2013 & 12 & 31 &   NA &  705 &  NA &   NA &  931 &  NA & UA & 1729 & NA     & EWR & DEN &  NA & 1605 &  7 &  5 & 2013-12-31 07:00:00\\\\\n",
       "\t 2013 & 12 & 31 &   NA &  825 &  NA &   NA & 1029 &  NA & US & 1831 & NA     & JFK & CLT &  NA &  541 &  8 & 25 & 2013-12-31 08:00:00\\\\\n",
       "\t 2013 & 12 & 31 &   NA & 1615 &  NA &   NA & 1800 &  NA & MQ & 3301 & N844MQ & LGA & RDU &  NA &  431 & 16 & 15 & 2013-12-31 16:00:00\\\\\n",
       "\t 2013 & 12 & 31 &   NA &  600 &  NA &   NA &  735 &  NA & UA &  219 & NA     & EWR & ORD &  NA &  719 &  6 &  0 & 2013-12-31 06:00:00\\\\\n",
       "\t 2013 & 12 & 31 &   NA &  830 &  NA &   NA & 1154 &  NA & UA &  443 & NA     & JFK & LAX &  NA & 2475 &  8 & 30 & 2013-12-31 08:00:00\\\\\n",
       "\\end{tabular}\n"
      ],
      "text/markdown": [
       "\n",
       "A tibble: 776 × 19\n",
       "\n",
       "| year &lt;int&gt; | month &lt;int&gt; | day &lt;int&gt; | dep_time &lt;int&gt; | sched_dep_time &lt;int&gt; | dep_delay &lt;dbl&gt; | arr_time &lt;int&gt; | sched_arr_time &lt;int&gt; | arr_delay &lt;dbl&gt; | carrier &lt;chr&gt; | flight &lt;int&gt; | tailnum &lt;chr&gt; | origin &lt;chr&gt; | dest &lt;chr&gt; | air_time &lt;dbl&gt; | distance &lt;dbl&gt; | hour &lt;dbl&gt; | minute &lt;dbl&gt; | time_hour &lt;dttm&gt; |\n",
       "|---|---|---|---|---|---|---|---|---|---|---|---|---|---|---|---|---|---|---|\n",
       "| 2013 | 12 | 31 |  13 | 2359 |  14 |  439 |  437 |   2 | B6 |  839 | N566JB | JFK | BQN | 189 | 1576 | 23 | 59 | 2013-12-31 23:00:00 |\n",
       "| 2013 | 12 | 31 |  18 | 2359 |  19 |  449 |  444 |   5 | DL |  412 | N713TW | JFK | SJU | 192 | 1598 | 23 | 59 | 2013-12-31 23:00:00 |\n",
       "| 2013 | 12 | 31 |  26 | 2245 | 101 |  129 | 2353 |  96 | B6 |  108 | N374JB | JFK | PWM |  50 |  273 | 22 | 45 | 2013-12-31 22:00:00 |\n",
       "| 2013 | 12 | 31 | 459 |  500 |  -1 |  655 |  651 |   4 | US | 1895 | N557UW | EWR | CLT |  95 |  529 |  5 |  0 | 2013-12-31 05:00:00 |\n",
       "| 2013 | 12 | 31 | 514 |  515 |  -1 |  814 |  812 |   2 | UA |  700 | N470UA | EWR | IAH | 223 | 1400 |  5 | 15 | 2013-12-31 05:00:00 |\n",
       "| 2013 | 12 | 31 | 549 |  551 |  -2 |  925 |  900 |  25 | UA |  274 | N577UA | EWR | LAX | 346 | 2454 |  5 | 51 | 2013-12-31 05:00:00 |\n",
       "| 2013 | 12 | 31 | 550 |  600 | -10 |  725 |  745 | -20 | AA |  301 | N3CXAA | LGA | ORD | 127 |  733 |  6 |  0 | 2013-12-31 06:00:00 |\n",
       "| 2013 | 12 | 31 | 552 |  600 |  -8 |  811 |  826 | -15 | EV | 3825 | N14916 | EWR | IND | 118 |  645 |  6 |  0 | 2013-12-31 06:00:00 |\n",
       "| 2013 | 12 | 31 | 553 |  600 |  -7 |  741 |  754 | -13 | DL |  731 | N333NB | LGA | DTW |  86 |  502 |  6 |  0 | 2013-12-31 06:00:00 |\n",
       "| 2013 | 12 | 31 | 554 |  550 |   4 | 1024 | 1027 |  -3 | B6 |  939 | N552JB | JFK | BQN | 195 | 1576 |  5 | 50 | 2013-12-31 05:00:00 |\n",
       "| 2013 | 12 | 31 | 555 |  600 |  -5 |  901 |  849 |  12 | B6 |  353 | N746JB | JFK | PBI | 167 | 1028 |  6 |  0 | 2013-12-31 06:00:00 |\n",
       "| 2013 | 12 | 31 | 555 |  600 |  -5 |  835 |  831 |   4 | DL |  904 | N3741S | LGA | ATL | 137 |  762 |  6 |  0 | 2013-12-31 06:00:00 |\n",
       "| 2013 | 12 | 31 | 555 |  551 |   4 |  853 |  851 |   2 | UA |  566 | N491UA | EWR | TPA | 164 |  997 |  5 | 51 | 2013-12-31 05:00:00 |\n",
       "| 2013 | 12 | 31 | 556 |  600 |  -4 |  909 |  846 |  23 | B6 |  583 | N715JB | JFK | MCO | 162 |  944 |  6 |  0 | 2013-12-31 06:00:00 |\n",
       "| 2013 | 12 | 31 | 556 |  605 |  -9 |  808 |  814 |  -6 | DL | 1919 | N958DL | LGA | MSP | 160 | 1020 |  6 |  5 | 2013-12-31 06:00:00 |\n",
       "| 2013 | 12 | 31 | 557 |  603 |  -6 |  719 |  719 |   0 | EV | 4241 | N15574 | EWR | DCA |  45 |  199 |  6 |  3 | 2013-12-31 06:00:00 |\n",
       "| 2013 | 12 | 31 | 558 |  600 |  -2 |  919 |  905 |  14 | AA | 1175 | N3JEAA | LGA | MIA | 173 | 1096 |  6 |  0 | 2013-12-31 06:00:00 |\n",
       "| 2013 | 12 | 31 | 559 |  600 |  -1 |  917 |  855 |  22 | B6 |  605 | N597JB | EWR | FLL | 167 | 1065 |  6 |  0 | 2013-12-31 06:00:00 |\n",
       "| 2013 | 12 | 31 | 600 |  540 |  20 |  928 |  850 |  38 | AA | 2243 | N5EMAA | JFK | MIA | 171 | 1089 |  5 | 40 | 2013-12-31 05:00:00 |\n",
       "| 2013 | 12 | 31 | 602 |  605 |  -3 |  744 |  805 | -21 | DL | 2505 | N358NB | EWR | DTW |  87 |  488 |  6 |  5 | 2013-12-31 06:00:00 |\n",
       "| 2013 | 12 | 31 | 602 |  605 |  -3 |  708 |  723 | -15 | EV | 6177 | N14543 | EWR | IAD |  45 |  212 |  6 |  5 | 2013-12-31 06:00:00 |\n",
       "| 2013 | 12 | 31 | 603 |  611 |  -8 | 1045 | 1055 | -10 | B6 | 1403 | N547JB | JFK | SJU | 198 | 1598 |  6 | 11 | 2013-12-31 06:00:00 |\n",
       "| 2013 | 12 | 31 | 607 |  600 |   7 |  848 |  825 |  23 | WN | 1716 | N7740A | LGA | ATL | 137 |  762 |  6 |  0 | 2013-12-31 06:00:00 |\n",
       "| 2013 | 12 | 31 | 608 |  615 |  -7 |  812 |  818 |  -6 | US | 1963 | N192UW | EWR | CLT | 106 |  529 |  6 | 15 | 2013-12-31 06:00:00 |\n",
       "| 2013 | 12 | 31 | 609 |  610 |  -1 |  911 |  915 |  -4 | AA | 1205 | N5DHAA | EWR | MIA | 163 | 1085 |  6 | 10 | 2013-12-31 06:00:00 |\n",
       "| 2013 | 12 | 31 | 609 |  615 |  -6 |  848 |  850 |  -2 | DL |  404 | N392DA | JFK | ATL | 133 |  760 |  6 | 15 | 2013-12-31 06:00:00 |\n",
       "| 2013 | 12 | 31 | 609 |  614 |  -5 |  755 |  751 |   4 | EV | 3812 | N13994 | EWR | RDU |  81 |  416 |  6 | 14 | 2013-12-31 06:00:00 |\n",
       "| 2013 | 12 | 31 | 610 |  615 |  -5 |  828 |  849 | -21 | DL |  479 | N3766  | JFK | ATL | 119 |  760 |  6 | 15 | 2013-12-31 06:00:00 |\n",
       "| 2013 | 12 | 31 | 616 |  611 |   5 |  933 |  912 |  21 | B6 |  601 | N643JB | JFK | FLL | 173 | 1069 |  6 | 11 | 2013-12-31 06:00:00 |\n",
       "| 2013 | 12 | 31 | 616 |  630 | -14 |  922 |  919 |   3 | B6 | 1099 | N563JB | LGA | MCO | 159 |  950 |  6 | 30 | 2013-12-31 06:00:00 |\n",
       "| ⋮ | ⋮ | ⋮ | ⋮ | ⋮ | ⋮ | ⋮ | ⋮ | ⋮ | ⋮ | ⋮ | ⋮ | ⋮ | ⋮ | ⋮ | ⋮ | ⋮ | ⋮ | ⋮ |\n",
       "| 2013 | 12 | 31 | 2155 | 2039 |  76 |  253 | 2355 |  NA | B6 | 1205 | N627JB | JFK | PDX |  NA | 2454 | 20 | 39 | 2013-12-31 20:00:00 |\n",
       "| 2013 | 12 | 31 | 2155 | 2150 |   5 |  110 |   51 |  19 | B6 | 1901 | N729JB | JFK | FLL | 164 | 1069 | 21 | 50 | 2013-12-31 21:00:00 |\n",
       "| 2013 | 12 | 31 | 2159 | 2155 |   4 |   55 |   46 |   9 | B6 | 2053 | N593JB | JFK | PBI | 155 | 1028 | 21 | 55 | 2013-12-31 21:00:00 |\n",
       "| 2013 | 12 | 31 | 2206 | 2110 |  56 |   44 | 2339 |  65 | B6 |  775 | N184JB | JFK | MSY | 195 | 1182 | 21 | 10 | 2013-12-31 21:00:00 |\n",
       "| 2013 | 12 | 31 | 2211 | 2159 |  12 |  100 |   45 |  15 | B6 | 1183 | N715JB | JFK | MCO | 148 |  944 | 21 | 59 | 2013-12-31 21:00:00 |\n",
       "| 2013 | 12 | 31 | 2218 | 2219 |  -1 |  315 |  304 |  11 | B6 | 1203 | N625JB | JFK | SJU | 202 | 1598 | 22 | 19 | 2013-12-31 22:00:00 |\n",
       "| 2013 | 12 | 31 | 2235 | 2245 | -10 | 2351 | 2355 |  -4 | B6 |  234 | N355JB | JFK | BTV |  49 |  266 | 22 | 45 | 2013-12-31 22:00:00 |\n",
       "| 2013 | 12 | 31 | 2245 | 2250 |  -5 | 2359 | 2356 |   3 | B6 | 1816 | N318JB | JFK | SYR |  51 |  209 | 22 | 50 | 2013-12-31 22:00:00 |\n",
       "| 2013 | 12 | 31 | 2310 | 2255 |  15 |    7 | 2356 |  11 | B6 |  718 | N279JB | JFK | BOS |  40 |  187 | 22 | 55 | 2013-12-31 22:00:00 |\n",
       "| 2013 | 12 | 31 | 2321 | 2250 |  31 |   46 |    8 |  38 | B6 | 2002 | N179JB | JFK | BUF |  66 |  301 | 22 | 50 | 2013-12-31 22:00:00 |\n",
       "| 2013 | 12 | 31 | 2328 | 2330 |  -2 |  412 |  409 |   3 | B6 | 1389 | N651JB | EWR | SJU | 198 | 1608 | 23 | 30 | 2013-12-31 23:00:00 |\n",
       "| 2013 | 12 | 31 | 2332 | 2245 |  47 |   58 |    3 |  55 | B6 |  486 | N334JB | JFK | ROC |  60 |  264 | 22 | 45 | 2013-12-31 22:00:00 |\n",
       "| 2013 | 12 | 31 | 2355 | 2359 |  -4 |  430 |  440 | -10 | B6 | 1503 | N509JB | JFK | SJU | 195 | 1598 | 23 | 59 | 2013-12-31 23:00:00 |\n",
       "| 2013 | 12 | 31 | 2356 | 2359 |  -3 |  436 |  445 |  -9 | B6 |  745 | N665JB | JFK | PSE | 200 | 1617 | 23 | 59 | 2013-12-31 23:00:00 |\n",
       "| 2013 | 12 | 31 |   NA | 1520 |  NA |   NA | 1705 |  NA | AA |  341 | N568AA | LGA | ORD |  NA |  733 | 15 | 20 | 2013-12-31 15:00:00 |\n",
       "| 2013 | 12 | 31 |   NA | 2025 |  NA |   NA | 2205 |  NA | AA |  371 | N482AA | LGA | ORD |  NA |  733 | 20 | 25 | 2013-12-31 20:00:00 |\n",
       "| 2013 | 12 | 31 |   NA | 1932 |  NA |   NA | 2305 |  NA | B6 |  161 | N516JB | JFK | SMF |  NA | 2521 | 19 | 32 | 2013-12-31 19:00:00 |\n",
       "| 2013 | 12 | 31 |   NA | 1505 |  NA |   NA | 1725 |  NA | EV | 4181 | N24103 | EWR | MCI |  NA | 1092 | 15 |  5 | 2013-12-31 15:00:00 |\n",
       "| 2013 | 12 | 31 |   NA | 1000 |  NA |   NA | 1252 |  NA | UA | 1124 | NA     | EWR | EGE |  NA | 1725 | 10 |  0 | 2013-12-31 10:00:00 |\n",
       "| 2013 | 12 | 31 |   NA |  840 |  NA |   NA | 1205 |  NA | UA | 1151 | NA     | EWR | SEA |  NA | 2402 |  8 | 40 | 2013-12-31 08:00:00 |\n",
       "| 2013 | 12 | 31 |   NA |  754 |  NA |   NA | 1118 |  NA | UA | 1455 | NA     | EWR | LAX |  NA | 2454 |  7 | 54 | 2013-12-31 07:00:00 |\n",
       "| 2013 | 12 | 31 |   NA | 2000 |  NA |   NA | 2146 |  NA | UA | 1482 | NA     | EWR | ORD |  NA |  719 | 20 |  0 | 2013-12-31 20:00:00 |\n",
       "| 2013 | 12 | 31 |   NA | 1500 |  NA |   NA | 1817 |  NA | UA | 1483 | NA     | EWR | AUS |  NA | 1504 | 15 |  0 | 2013-12-31 15:00:00 |\n",
       "| 2013 | 12 | 31 |   NA | 1430 |  NA |   NA | 1750 |  NA | UA | 1493 | NA     | EWR | LAX |  NA | 2454 | 14 | 30 | 2013-12-31 14:00:00 |\n",
       "| 2013 | 12 | 31 |   NA |  855 |  NA |   NA | 1142 |  NA | UA | 1506 | NA     | EWR | JAC |  NA | 1874 |  8 | 55 | 2013-12-31 08:00:00 |\n",
       "| 2013 | 12 | 31 |   NA |  705 |  NA |   NA |  931 |  NA | UA | 1729 | NA     | EWR | DEN |  NA | 1605 |  7 |  5 | 2013-12-31 07:00:00 |\n",
       "| 2013 | 12 | 31 |   NA |  825 |  NA |   NA | 1029 |  NA | US | 1831 | NA     | JFK | CLT |  NA |  541 |  8 | 25 | 2013-12-31 08:00:00 |\n",
       "| 2013 | 12 | 31 |   NA | 1615 |  NA |   NA | 1800 |  NA | MQ | 3301 | N844MQ | LGA | RDU |  NA |  431 | 16 | 15 | 2013-12-31 16:00:00 |\n",
       "| 2013 | 12 | 31 |   NA |  600 |  NA |   NA |  735 |  NA | UA |  219 | NA     | EWR | ORD |  NA |  719 |  6 |  0 | 2013-12-31 06:00:00 |\n",
       "| 2013 | 12 | 31 |   NA |  830 |  NA |   NA | 1154 |  NA | UA |  443 | NA     | JFK | LAX |  NA | 2475 |  8 | 30 | 2013-12-31 08:00:00 |\n",
       "\n"
      ],
      "text/plain": [
       "    year month day dep_time sched_dep_time dep_delay arr_time sched_arr_time\n",
       "1   2013 12    31   13      2359            14        439      437          \n",
       "2   2013 12    31   18      2359            19        449      444          \n",
       "3   2013 12    31   26      2245           101        129     2353          \n",
       "4   2013 12    31  459       500            -1        655      651          \n",
       "5   2013 12    31  514       515            -1        814      812          \n",
       "6   2013 12    31  549       551            -2        925      900          \n",
       "7   2013 12    31  550       600           -10        725      745          \n",
       "8   2013 12    31  552       600            -8        811      826          \n",
       "9   2013 12    31  553       600            -7        741      754          \n",
       "10  2013 12    31  554       550             4       1024     1027          \n",
       "11  2013 12    31  555       600            -5        901      849          \n",
       "12  2013 12    31  555       600            -5        835      831          \n",
       "13  2013 12    31  555       551             4        853      851          \n",
       "14  2013 12    31  556       600            -4        909      846          \n",
       "15  2013 12    31  556       605            -9        808      814          \n",
       "16  2013 12    31  557       603            -6        719      719          \n",
       "17  2013 12    31  558       600            -2        919      905          \n",
       "18  2013 12    31  559       600            -1        917      855          \n",
       "19  2013 12    31  600       540            20        928      850          \n",
       "20  2013 12    31  602       605            -3        744      805          \n",
       "21  2013 12    31  602       605            -3        708      723          \n",
       "22  2013 12    31  603       611            -8       1045     1055          \n",
       "23  2013 12    31  607       600             7        848      825          \n",
       "24  2013 12    31  608       615            -7        812      818          \n",
       "25  2013 12    31  609       610            -1        911      915          \n",
       "26  2013 12    31  609       615            -6        848      850          \n",
       "27  2013 12    31  609       614            -5        755      751          \n",
       "28  2013 12    31  610       615            -5        828      849          \n",
       "29  2013 12    31  616       611             5        933      912          \n",
       "30  2013 12    31  616       630           -14        922      919          \n",
       "⋮   ⋮    ⋮     ⋮   ⋮        ⋮              ⋮         ⋮        ⋮             \n",
       "747 2013 12    31  2155     2039            76        253     2355          \n",
       "748 2013 12    31  2155     2150             5        110       51          \n",
       "749 2013 12    31  2159     2155             4         55       46          \n",
       "750 2013 12    31  2206     2110            56         44     2339          \n",
       "751 2013 12    31  2211     2159            12        100       45          \n",
       "752 2013 12    31  2218     2219            -1        315      304          \n",
       "753 2013 12    31  2235     2245           -10       2351     2355          \n",
       "754 2013 12    31  2245     2250            -5       2359     2356          \n",
       "755 2013 12    31  2310     2255            15          7     2356          \n",
       "756 2013 12    31  2321     2250            31         46        8          \n",
       "757 2013 12    31  2328     2330            -2        412      409          \n",
       "758 2013 12    31  2332     2245            47         58        3          \n",
       "759 2013 12    31  2355     2359            -4        430      440          \n",
       "760 2013 12    31  2356     2359            -3        436      445          \n",
       "761 2013 12    31    NA     1520            NA         NA     1705          \n",
       "762 2013 12    31    NA     2025            NA         NA     2205          \n",
       "763 2013 12    31    NA     1932            NA         NA     2305          \n",
       "764 2013 12    31    NA     1505            NA         NA     1725          \n",
       "765 2013 12    31    NA     1000            NA         NA     1252          \n",
       "766 2013 12    31    NA      840            NA         NA     1205          \n",
       "767 2013 12    31    NA      754            NA         NA     1118          \n",
       "768 2013 12    31    NA     2000            NA         NA     2146          \n",
       "769 2013 12    31    NA     1500            NA         NA     1817          \n",
       "770 2013 12    31    NA     1430            NA         NA     1750          \n",
       "771 2013 12    31    NA      855            NA         NA     1142          \n",
       "772 2013 12    31    NA      705            NA         NA      931          \n",
       "773 2013 12    31    NA      825            NA         NA     1029          \n",
       "774 2013 12    31    NA     1615            NA         NA     1800          \n",
       "775 2013 12    31    NA      600            NA         NA      735          \n",
       "776 2013 12    31    NA      830            NA         NA     1154          \n",
       "    arr_delay carrier flight tailnum origin dest air_time distance hour minute\n",
       "1     2       B6       839   N566JB  JFK    BQN  189      1576     23   59    \n",
       "2     5       DL       412   N713TW  JFK    SJU  192      1598     23   59    \n",
       "3    96       B6       108   N374JB  JFK    PWM   50       273     22   45    \n",
       "4     4       US      1895   N557UW  EWR    CLT   95       529      5    0    \n",
       "5     2       UA       700   N470UA  EWR    IAH  223      1400      5   15    \n",
       "6    25       UA       274   N577UA  EWR    LAX  346      2454      5   51    \n",
       "7   -20       AA       301   N3CXAA  LGA    ORD  127       733      6    0    \n",
       "8   -15       EV      3825   N14916  EWR    IND  118       645      6    0    \n",
       "9   -13       DL       731   N333NB  LGA    DTW   86       502      6    0    \n",
       "10   -3       B6       939   N552JB  JFK    BQN  195      1576      5   50    \n",
       "11   12       B6       353   N746JB  JFK    PBI  167      1028      6    0    \n",
       "12    4       DL       904   N3741S  LGA    ATL  137       762      6    0    \n",
       "13    2       UA       566   N491UA  EWR    TPA  164       997      5   51    \n",
       "14   23       B6       583   N715JB  JFK    MCO  162       944      6    0    \n",
       "15   -6       DL      1919   N958DL  LGA    MSP  160      1020      6    5    \n",
       "16    0       EV      4241   N15574  EWR    DCA   45       199      6    3    \n",
       "17   14       AA      1175   N3JEAA  LGA    MIA  173      1096      6    0    \n",
       "18   22       B6       605   N597JB  EWR    FLL  167      1065      6    0    \n",
       "19   38       AA      2243   N5EMAA  JFK    MIA  171      1089      5   40    \n",
       "20  -21       DL      2505   N358NB  EWR    DTW   87       488      6    5    \n",
       "21  -15       EV      6177   N14543  EWR    IAD   45       212      6    5    \n",
       "22  -10       B6      1403   N547JB  JFK    SJU  198      1598      6   11    \n",
       "23   23       WN      1716   N7740A  LGA    ATL  137       762      6    0    \n",
       "24   -6       US      1963   N192UW  EWR    CLT  106       529      6   15    \n",
       "25   -4       AA      1205   N5DHAA  EWR    MIA  163      1085      6   10    \n",
       "26   -2       DL       404   N392DA  JFK    ATL  133       760      6   15    \n",
       "27    4       EV      3812   N13994  EWR    RDU   81       416      6   14    \n",
       "28  -21       DL       479   N3766   JFK    ATL  119       760      6   15    \n",
       "29   21       B6       601   N643JB  JFK    FLL  173      1069      6   11    \n",
       "30    3       B6      1099   N563JB  LGA    MCO  159       950      6   30    \n",
       "⋮   ⋮         ⋮       ⋮      ⋮       ⋮      ⋮    ⋮        ⋮        ⋮    ⋮     \n",
       "747  NA       B6      1205   N627JB  JFK    PDX   NA      2454     20   39    \n",
       "748  19       B6      1901   N729JB  JFK    FLL  164      1069     21   50    \n",
       "749   9       B6      2053   N593JB  JFK    PBI  155      1028     21   55    \n",
       "750  65       B6       775   N184JB  JFK    MSY  195      1182     21   10    \n",
       "751  15       B6      1183   N715JB  JFK    MCO  148       944     21   59    \n",
       "752  11       B6      1203   N625JB  JFK    SJU  202      1598     22   19    \n",
       "753  -4       B6       234   N355JB  JFK    BTV   49       266     22   45    \n",
       "754   3       B6      1816   N318JB  JFK    SYR   51       209     22   50    \n",
       "755  11       B6       718   N279JB  JFK    BOS   40       187     22   55    \n",
       "756  38       B6      2002   N179JB  JFK    BUF   66       301     22   50    \n",
       "757   3       B6      1389   N651JB  EWR    SJU  198      1608     23   30    \n",
       "758  55       B6       486   N334JB  JFK    ROC   60       264     22   45    \n",
       "759 -10       B6      1503   N509JB  JFK    SJU  195      1598     23   59    \n",
       "760  -9       B6       745   N665JB  JFK    PSE  200      1617     23   59    \n",
       "761  NA       AA       341   N568AA  LGA    ORD   NA       733     15   20    \n",
       "762  NA       AA       371   N482AA  LGA    ORD   NA       733     20   25    \n",
       "763  NA       B6       161   N516JB  JFK    SMF   NA      2521     19   32    \n",
       "764  NA       EV      4181   N24103  EWR    MCI   NA      1092     15    5    \n",
       "765  NA       UA      1124   NA      EWR    EGE   NA      1725     10    0    \n",
       "766  NA       UA      1151   NA      EWR    SEA   NA      2402      8   40    \n",
       "767  NA       UA      1455   NA      EWR    LAX   NA      2454      7   54    \n",
       "768  NA       UA      1482   NA      EWR    ORD   NA       719     20    0    \n",
       "769  NA       UA      1483   NA      EWR    AUS   NA      1504     15    0    \n",
       "770  NA       UA      1493   NA      EWR    LAX   NA      2454     14   30    \n",
       "771  NA       UA      1506   NA      EWR    JAC   NA      1874      8   55    \n",
       "772  NA       UA      1729   NA      EWR    DEN   NA      1605      7    5    \n",
       "773  NA       US      1831   NA      JFK    CLT   NA       541      8   25    \n",
       "774  NA       MQ      3301   N844MQ  LGA    RDU   NA       431     16   15    \n",
       "775  NA       UA       219   NA      EWR    ORD   NA       719      6    0    \n",
       "776  NA       UA       443   NA      JFK    LAX   NA      2475      8   30    \n",
       "    time_hour          \n",
       "1   2013-12-31 23:00:00\n",
       "2   2013-12-31 23:00:00\n",
       "3   2013-12-31 22:00:00\n",
       "4   2013-12-31 05:00:00\n",
       "5   2013-12-31 05:00:00\n",
       "6   2013-12-31 05:00:00\n",
       "7   2013-12-31 06:00:00\n",
       "8   2013-12-31 06:00:00\n",
       "9   2013-12-31 06:00:00\n",
       "10  2013-12-31 05:00:00\n",
       "11  2013-12-31 06:00:00\n",
       "12  2013-12-31 06:00:00\n",
       "13  2013-12-31 05:00:00\n",
       "14  2013-12-31 06:00:00\n",
       "15  2013-12-31 06:00:00\n",
       "16  2013-12-31 06:00:00\n",
       "17  2013-12-31 06:00:00\n",
       "18  2013-12-31 06:00:00\n",
       "19  2013-12-31 05:00:00\n",
       "20  2013-12-31 06:00:00\n",
       "21  2013-12-31 06:00:00\n",
       "22  2013-12-31 06:00:00\n",
       "23  2013-12-31 06:00:00\n",
       "24  2013-12-31 06:00:00\n",
       "25  2013-12-31 06:00:00\n",
       "26  2013-12-31 06:00:00\n",
       "27  2013-12-31 06:00:00\n",
       "28  2013-12-31 06:00:00\n",
       "29  2013-12-31 06:00:00\n",
       "30  2013-12-31 06:00:00\n",
       "⋮   ⋮                  \n",
       "747 2013-12-31 20:00:00\n",
       "748 2013-12-31 21:00:00\n",
       "749 2013-12-31 21:00:00\n",
       "750 2013-12-31 21:00:00\n",
       "751 2013-12-31 21:00:00\n",
       "752 2013-12-31 22:00:00\n",
       "753 2013-12-31 22:00:00\n",
       "754 2013-12-31 22:00:00\n",
       "755 2013-12-31 22:00:00\n",
       "756 2013-12-31 22:00:00\n",
       "757 2013-12-31 23:00:00\n",
       "758 2013-12-31 22:00:00\n",
       "759 2013-12-31 23:00:00\n",
       "760 2013-12-31 23:00:00\n",
       "761 2013-12-31 15:00:00\n",
       "762 2013-12-31 20:00:00\n",
       "763 2013-12-31 19:00:00\n",
       "764 2013-12-31 15:00:00\n",
       "765 2013-12-31 10:00:00\n",
       "766 2013-12-31 08:00:00\n",
       "767 2013-12-31 07:00:00\n",
       "768 2013-12-31 20:00:00\n",
       "769 2013-12-31 15:00:00\n",
       "770 2013-12-31 14:00:00\n",
       "771 2013-12-31 08:00:00\n",
       "772 2013-12-31 07:00:00\n",
       "773 2013-12-31 08:00:00\n",
       "774 2013-12-31 16:00:00\n",
       "775 2013-12-31 06:00:00\n",
       "776 2013-12-31 08:00:00"
      ]
     },
     "metadata": {},
     "output_type": "display_data"
    }
   ],
   "source": [
    "# Filter to all flights on 12/31\n",
    "filter(flights, month==12, day==31)"
   ]
  },
  {
   "cell_type": "markdown",
   "metadata": {
    "id": "HdaMMaaXXwjI"
   },
   "source": [
    "How does all this work? Basically what R does here is create a logical vector that has one entry for each **row** of the input data frame. Then, it returns a new data frame which contains all the rows where the logical vector evaluated to `True`."
   ]
  },
  {
   "cell_type": "markdown",
   "metadata": {
    "id": "ekuTgP6CXwjI"
   },
   "source": [
    "## Remark:\n",
    "Using `==` for testing equality is very important in `R`.  `R` will yield an error if you use `=`.  "
   ]
  },
  {
   "cell_type": "code",
   "execution_count": 16,
   "metadata": {
    "colab": {
     "base_uri": "https://localhost:8080/",
     "height": 270
    },
    "id": "Oyfh43I8XwjJ",
    "outputId": "70c4744d-fe7c-4fbb-ae87-58b5e8a1c530"
   },
   "outputs": [
    {
     "ename": "ERROR",
     "evalue": "ignored",
     "output_type": "error",
     "traceback": [
      "\u001b[1m\u001b[33mError\u001b[39m in `filter()`:\u001b[22m\n\u001b[1m\u001b[22m\u001b[33m!\u001b[39m We detected a named input.\n\u001b[36mℹ\u001b[39m This usually means that you've used `=` instead of `==`.\n\u001b[36mℹ\u001b[39m Did you mean `month == 1`?\nTraceback:\n",
      "1. filter(flights, month = 1)",
      "2. filter.data.frame(flights, month = 1)",
      "3. filter_rows(.data, ..., caller_env = caller_env())",
      "4. check_filter(dots, error_call = error_call)",
      "5. abort(bullets, call = error_call)",
      "6. signal_abort(cnd, .file)"
     ]
    }
   ],
   "source": [
    "# what happens when you forget to use == in filter?\n",
    "filter(flights, month = 1)"
   ]
  },
  {
   "cell_type": "markdown",
   "metadata": {
    "id": "SFsXlKT1XwjK"
   },
   "source": [
    "### Counting matches\n",
    "Sometimes we just want to know how many observations match a given filter. The `nrow()` command can be used to count the number of rows in a data table."
   ]
  },
  {
   "cell_type": "markdown",
   "metadata": {
    "id": "UqfrTh8aXwjK"
   },
   "source": [
    "## 🤔 Quiz\n",
    "How many flights in the table departed in January, February, or March?\n",
    "\n",
    "<ol style=\"list-style-type: upper-alpha;\">\n",
    "    <li>Fewer than 50,000</li>\n",
    "    <li>Between 50,000 and 60,000</li>\n",
    "    <li>Between 60,000 and 70,000</li>\n",
    "    <li>Between 70,000 and 80,000</li>\n",
    "    <li>More than 80,000</li>\n",
    "</ol>"
   ]
  },
  {
   "cell_type": "code",
   "execution_count": 17,
   "metadata": {
    "colab": {
     "base_uri": "https://localhost:8080/",
     "height": 34
    },
    "id": "zb18QGSbXwjK",
    "outputId": "ef122c73-7521-4058-ecbc-53b0a30b6e4f"
   },
   "outputs": [
    {
     "data": {
      "text/html": [
       "80789"
      ],
      "text/latex": [
       "80789"
      ],
      "text/markdown": [
       "80789"
      ],
      "text/plain": [
       "[1] 80789"
      ]
     },
     "metadata": {},
     "output_type": "display_data"
    }
   ],
   "source": [
    "# Code to get number of flights that departed in Jan-March\n",
    "nrow(filter(flights, month %in% c(1:3)))"
   ]
  },
  {
   "cell_type": "markdown",
   "metadata": {
    "id": "AjachWFpXwjL"
   },
   "source": [
    "Let us try to calculate how many flights with missing departure time in our data."
   ]
  },
  {
   "cell_type": "code",
   "execution_count": 18,
   "metadata": {
    "colab": {
     "base_uri": "https://localhost:8080/",
     "height": 34
    },
    "id": "WxMafWPfXwjL",
    "outputId": "56102d87-d3f5-4ffc-c2c7-d7e358274893"
   },
   "outputs": [
    {
     "data": {
      "text/html": [
       "8255"
      ],
      "text/latex": [
       "8255"
      ],
      "text/markdown": [
       "8255"
      ],
      "text/plain": [
       "[1] 8255"
      ]
     },
     "metadata": {},
     "output_type": "display_data"
    }
   ],
   "source": [
    "# How many flights have a missing departure time\n",
    "nrow(filter(flights, is.na(dep_time)))"
   ]
  },
  {
   "cell_type": "markdown",
   "metadata": {
    "id": "RPzBKb2pXwjL"
   },
   "source": [
    "How about the number of flights departing between June and July?"
   ]
  },
  {
   "cell_type": "code",
   "execution_count": 23,
   "metadata": {
    "colab": {
     "base_uri": "https://localhost:8080/",
     "height": 34
    },
    "id": "7n5qAb7KXwjL",
    "outputId": "d6ce8cf6-9f5f-4a97-b77c-d74028fc0378"
   },
   "outputs": [
    {
     "data": {
      "text/html": [
       "57668"
      ],
      "text/latex": [
       "57668"
      ],
      "text/markdown": [
       "57668"
      ],
      "text/plain": [
       "[1] 57668"
      ]
     },
     "metadata": {},
     "output_type": "display_data"
    }
   ],
   "source": [
    "# no. of flights departing between June and July\n",
    "nrow(filter(flights, month %in% c(6, 7)))"
   ]
  },
  {
   "cell_type": "markdown",
   "metadata": {
    "id": "g7R5lRxpXwjL"
   },
   "source": [
    "### Row operation #1.5: `head()`/`tail()`\n",
    "A particularly useful kind of `filter()` is to only keep the first, or last, rows. This happens so often in practical data science, that there are built-in commands to do it:"
   ]
  },
  {
   "cell_type": "code",
   "execution_count": null,
   "metadata": {
    "id": "mJ8gvcctXwjO"
   },
   "outputs": [],
   "source": [
    "# first 6 rows of flights\n",
    "head(flights)"
   ]
  },
  {
   "cell_type": "code",
   "execution_count": null,
   "metadata": {
    "id": "Tj9uGAlwXwjO"
   },
   "outputs": [],
   "source": [
    "# last 6 rows of flights\n",
    "tail(flights)"
   ]
  },
  {
   "cell_type": "markdown",
   "metadata": {
    "id": "ljkn9aORXwjO"
   },
   "source": [
    "## Row operation #2: Sorting\n",
    "Often we want to sort our data based on one or more column values. This can arise for several reasons:\n",
    "- The data have some natural order (for example, chronological)\n",
    "- We want to learn about \"extreme\" features of the data:\n",
    "  - \"What was the most delayed flight?\"\n",
    "  - \"What was the hottest day of the year?\"\n",
    "  - \"Who was the tallest NBA player in 2010?\""
   ]
  },
  {
   "cell_type": "markdown",
   "metadata": {
    "id": "gkBo9zmPXwjP"
   },
   "source": [
    "`arrange()` changes the order of the rows based on the value of the columns. \n",
    "- It takes a data frame and a set of column names (or more complicated expressions) to order by. \n",
    "- If you provide multiple expressions to order by, it uses the second one to break ties in the first one, third one to break ties in the second one, and so on.\n",
    "- By default, things are sorted in **ascending** order."
   ]
  },
  {
   "cell_type": "code",
   "execution_count": null,
   "metadata": {
    "id": "MdJqdfZaXwjP"
   },
   "outputs": [],
   "source": [
    "# sort flights in ascending order by month and day\n",
    "arrange(flights, month, day)"
   ]
  },
  {
   "cell_type": "markdown",
   "metadata": {
    "id": "cdARk4sWXwjP"
   },
   "source": [
    "We sorted the data by month and day, so the top-most rows have the earliest month, folllowed by day."
   ]
  },
  {
   "cell_type": "markdown",
   "metadata": {
    "id": "uZip9jJaXwjP"
   },
   "source": [
    "If you want to sort in **descending** order, write `desc(<column>)` instead:"
   ]
  },
  {
   "cell_type": "code",
   "execution_count": null,
   "metadata": {
    "id": "B-Lfmc8DXwjP"
   },
   "outputs": [],
   "source": [
    "# flights in descending order of month\n",
    "arrange(flights, desc(month))"
   ]
  },
  {
   "cell_type": "markdown",
   "metadata": {
    "id": "ZmmiwxOcXwjQ"
   },
   "source": [
    "## 🤔 Quiz\n",
    "What's the farthest distance traveled by any flight in the dataset?\n",
    "\n",
    "<ol style=\"list-style-type: upper-alpha;\">\n",
    "    <li>1200 meters</li>\n",
    "    <li>2783 miles</li>\n",
    "    <li>4143 miles</li>\n",
    "    <li>4983 miles</li>\n",
    "    <li>4983 km</li>\n",
    "</ol>"
   ]
  },
  {
   "cell_type": "code",
   "execution_count": null,
   "metadata": {
    "id": "FGHs-Zh8XwjQ"
   },
   "outputs": [],
   "source": [
    "# solution\n",
    "arrange(flights, desc(distance))"
   ]
  },
  {
   "cell_type": "markdown",
   "metadata": {
    "id": "uMgegFA8XwjQ"
   },
   "source": [
    "## Row operation #3: `distinct()`\n",
    "`distinct()` finds all the unique rows in a dataset. If you supply column names, it will find all unique combinations of those columns."
   ]
  },
  {
   "cell_type": "markdown",
   "metadata": {
    "id": "AVAs6Q7nXwjQ"
   },
   "source": [
    "Here is an example: the number of rows in the dataset is "
   ]
  },
  {
   "cell_type": "code",
   "execution_count": 30,
   "metadata": {
    "colab": {
     "base_uri": "https://localhost:8080/",
     "height": 34
    },
    "id": "0UQax5o9XwjR",
    "outputId": "5cce9414-315f-43dc-f0dc-eaec076f36ba"
   },
   "outputs": [
    {
     "data": {
      "text/html": [
       "336776"
      ],
      "text/latex": [
       "336776"
      ],
      "text/markdown": [
       "336776"
      ],
      "text/plain": [
       "[1] 336776"
      ]
     },
     "metadata": {},
     "output_type": "display_data"
    }
   ],
   "source": [
    "nrow(flights)"
   ]
  },
  {
   "cell_type": "code",
   "execution_count": 31,
   "metadata": {
    "colab": {
     "base_uri": "https://localhost:8080/",
     "height": 34
    },
    "id": "rR6zBfQ6lfWD",
    "outputId": "c775e9d1-e518-4e6f-f071-c0762b62ccb7"
   },
   "outputs": [
    {
     "data": {
      "text/html": [
       "336776"
      ],
      "text/latex": [
       "336776"
      ],
      "text/markdown": [
       "336776"
      ],
      "text/plain": [
       "[1] 336776"
      ]
     },
     "metadata": {},
     "output_type": "display_data"
    }
   ],
   "source": [
    "nrow(distinct(flights))"
   ]
  },
  {
   "cell_type": "code",
   "execution_count": 4,
   "metadata": {},
   "outputs": [
    {
     "data": {
      "text/html": [
       "<table class=\"dataframe\">\n",
       "<caption>A tibble: 3 × 1</caption>\n",
       "<thead>\n",
       "\t<tr><th scope=col>origin</th></tr>\n",
       "\t<tr><th scope=col>&lt;chr&gt;</th></tr>\n",
       "</thead>\n",
       "<tbody>\n",
       "\t<tr><td>EWR</td></tr>\n",
       "\t<tr><td>LGA</td></tr>\n",
       "\t<tr><td>JFK</td></tr>\n",
       "</tbody>\n",
       "</table>\n"
      ],
      "text/latex": [
       "A tibble: 3 × 1\n",
       "\\begin{tabular}{l}\n",
       " origin\\\\\n",
       " <chr>\\\\\n",
       "\\hline\n",
       "\t EWR\\\\\n",
       "\t LGA\\\\\n",
       "\t JFK\\\\\n",
       "\\end{tabular}\n"
      ],
      "text/markdown": [
       "\n",
       "A tibble: 3 × 1\n",
       "\n",
       "| origin &lt;chr&gt; |\n",
       "|---|\n",
       "| EWR |\n",
       "| LGA |\n",
       "| JFK |\n",
       "\n"
      ],
      "text/plain": [
       "  origin\n",
       "1 EWR   \n",
       "2 LGA   \n",
       "3 JFK   "
      ]
     },
     "metadata": {},
     "output_type": "display_data"
    }
   ],
   "source": [
    "# another example; get all distinct values of origin column\n",
    "distinct(flights, origin)"
   ]
  },
  {
   "cell_type": "markdown",
   "metadata": {
    "id": "NTOmj7S_XwjR"
   },
   "source": [
    "Obviously there are many flights scheduled for each day. But is there a flight scheduled for *every* day?"
   ]
  },
  {
   "cell_type": "code",
   "execution_count": 32,
   "metadata": {
    "colab": {
     "base_uri": "https://localhost:8080/",
     "height": 34
    },
    "id": "bFZtEn8vXwjR",
    "outputId": "232bdd46-e483-4560-acaf-29c534950238"
   },
   "outputs": [
    {
     "data": {
      "text/html": [
       "31"
      ],
      "text/latex": [
       "31"
      ],
      "text/markdown": [
       "31"
      ],
      "text/plain": [
       "[1] 31"
      ]
     },
     "metadata": {},
     "output_type": "display_data"
    }
   ],
   "source": [
    "# All the unique days in flights\n",
    "nrow(distinct(flights, day))"
   ]
  },
  {
   "cell_type": "markdown",
   "metadata": {
    "id": "ejFj_CTYXwjR"
   },
   "source": [
    "## 🤔 Quiz\n",
    "How many unique *airplanes* are represented in the `flights` table?\n",
    "\n",
    "<ol style=\"list-style-type: upper-alpha;\">\n",
    "    <li>3,030</li>\n",
    "    <li>4,043</li>\n",
    "    <li>4,044</li>\n",
    "    <li>90,210</li>\n",
    "    <li>Can't be determined from the table</li>\n",
    "</ol>\n",
    "\n",
    "(Hint: every airplane has a unique tail number.)"
   ]
  },
  {
   "cell_type": "code",
   "execution_count": 33,
   "metadata": {
    "colab": {
     "base_uri": "https://localhost:8080/",
     "height": 34
    },
    "id": "EHYTxdiUXwjR",
    "outputId": "bbdd4c73-56ec-4a70-ca0f-d1ab5019f962"
   },
   "outputs": [
    {
     "data": {
      "text/html": [
       "4044"
      ],
      "text/latex": [
       "4044"
      ],
      "text/markdown": [
       "4044"
      ],
      "text/plain": [
       "[1] 4044"
      ]
     },
     "metadata": {},
     "output_type": "display_data"
    }
   ],
   "source": [
    "# analysis of unique airplanes\n",
    "nrow(distinct(flights, tailnum))"
   ]
  },
  {
   "cell_type": "markdown",
   "metadata": {
    "id": "C6pIJqvVXwjS"
   },
   "source": [
    "## Column operation #1: `select()`\n",
    "`select()` can help you to narrow down a large dataset by just focusing on the variables you’re interested in. `select()` allows you to rapidly zoom in on a useful subset using operations based on the names of the variables., but you can still get the general idea of how it works:"
   ]
  },
  {
   "cell_type": "code",
   "execution_count": null,
   "metadata": {
    "id": "A3JMEs5jXwjS"
   },
   "outputs": [],
   "source": [
    "tbl <- select(flights, year, month, day, departure_time = dep_time, arrival_time = arr_time)\n",
    "head(tbl)"
   ]
  },
  {
   "cell_type": "code",
   "execution_count": null,
   "metadata": {
    "id": "QoZRfCScmfFS"
   },
   "outputs": [],
   "source": [
    "select(flights, tailnum, month)"
   ]
  },
  {
   "cell_type": "markdown",
   "metadata": {
    "id": "gg5i14CRXwjS"
   },
   "source": [
    "Note that `select` drops any variables not explicitly mentioned. To just rename some variables while keeping all others, use `rename`."
   ]
  },
  {
   "cell_type": "code",
   "execution_count": null,
   "metadata": {
    "id": "CUdKmyh2XwjS"
   },
   "outputs": [],
   "source": [
    "head(rename(flights, departure_time = dep_time, arrival_time = arr_time))"
   ]
  },
  {
   "cell_type": "markdown",
   "metadata": {
    "id": "sRf8vxO_XwjS"
   },
   "source": [
    "If there are a lot of variables, you can save yourself some typing by using `:` and `-` in combination with select. The colon operator selects a range of variables:"
   ]
  },
  {
   "cell_type": "code",
   "execution_count": null,
   "metadata": {
    "id": "kRyF0E4UXwjS"
   },
   "outputs": [],
   "source": [
    "head(select(flights, year:day))"
   ]
  },
  {
   "cell_type": "markdown",
   "metadata": {
    "id": "2tka6Ph3XwjT"
   },
   "source": [
    "The negative sign lets you select everything but certain columns:"
   ]
  },
  {
   "cell_type": "code",
   "execution_count": null,
   "metadata": {
    "id": "_z1JFKaSXwjT"
   },
   "outputs": [],
   "source": [
    "# select everything except the day column\n",
    "select(flights, -day)"
   ]
  },
  {
   "cell_type": "markdown",
   "metadata": {
    "id": "fL64RDWZXwjT"
   },
   "source": [
    "If you want to bring a few variables at the beginning, you can use `everything()` to refer to the remaining variables."
   ]
  },
  {
   "cell_type": "code",
   "execution_count": null,
   "metadata": {
    "id": "hwJXHYGNXwjT"
   },
   "outputs": [],
   "source": [
    "# bring dep_time, arr_time, day, month, year to front\n",
    "\n",
    "head(select(flights, dep_time, arr_time, day, month, year, everything()))"
   ]
  },
  {
   "cell_type": "markdown",
   "metadata": {
    "id": "6XCWbuheXwjT"
   },
   "source": [
    "In addition, there are some helper functions that only work inside `select()`.\n",
    "\n",
    "* `starts_with()`, `ends_with()`, `contains()`\n",
    "* `matches()`\n",
    "* `num_range()`\n",
    "\n",
    "You can consult the documentation or type `?select` at the prompt to learn more about these. Here's just one example of their use."
   ]
  },
  {
   "cell_type": "code",
   "execution_count": null,
   "metadata": {
    "id": "NOGnnDXNXwjU"
   },
   "outputs": [],
   "source": [
    "# select all the variables that contain the word \"time\"\n",
    "head(select(flights, contains('time')))"
   ]
  }
 ],
 "metadata": {
  "celltoolbar": "Slideshow",
  "colab": {
   "provenance": []
  },
  "kernelspec": {
   "display_name": "R",
   "language": "R",
   "name": "ir"
  },
  "language_info": {
   "codemirror_mode": "r",
   "file_extension": ".r",
   "mimetype": "text/x-r-source",
   "name": "R",
   "pygments_lexer": "r",
   "version": "4.2.2"
  }
 },
 "nbformat": 4,
 "nbformat_minor": 4
}
